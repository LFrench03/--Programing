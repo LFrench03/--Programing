{
 "cells": [
  {
   "cell_type": "markdown",
   "id": "70748956",
   "metadata": {},
   "source": [
    "# Object Oriented Programing (OOP) on Python\n",
    "\n",
    "<r>\n",
    "\n",
    "#### Time to abstract ourselves.👾\n",
    "\n",
    "![](IMG/oop.png)\n",
    "\n",
    "Referencias: https://docs.hektorprofe.net/python/programacion-orientada-a-objetos/ejercicios/"
   ]
  },
  {
   "cell_type": "markdown",
   "id": "5a9f30b5",
   "metadata": {},
   "source": [
    "### Ejercicio 1:\n",
    "Escriba un programa Python para crear una clase que represente un círculo. Incluir métodos para calcular su área y perímetro."
   ]
  },
  {
   "cell_type": "code",
   "execution_count": null,
   "id": "2146ad05",
   "metadata": {},
   "outputs": [],
   "source": []
  },
  {
   "cell_type": "markdown",
   "id": "d9979002",
   "metadata": {},
   "source": [
    "### Ejercicio 2:\n",
    "Escriba un programa Python para crear una clase de persona. Incluya atributos como nombre, país y fecha de nacimiento. Implementar un método para determinar la edad de la persona."
   ]
  },
  {
   "cell_type": "code",
   "execution_count": null,
   "id": "c1fcd605",
   "metadata": {},
   "outputs": [],
   "source": []
  },
  {
   "cell_type": "markdown",
   "id": "f39a642d",
   "metadata": {},
   "source": [
    "### Ejercicio 3:\n",
    "Escriba un programa Python para crear una clase de calculadora. Incluir métodos para operaciones aritméticas básicas."
   ]
  },
  {
   "cell_type": "code",
   "execution_count": null,
   "id": "4939a716",
   "metadata": {},
   "outputs": [],
   "source": []
  },
  {
   "cell_type": "markdown",
   "id": "8fb2ea0d",
   "metadata": {},
   "source": [
    "### Ejercicio 4:\n",
    "Escriba un programa Python para crear una clase que represente un carrito de compras. Incluya métodos para agregar y quitar artículos y calcular el precio total."
   ]
  },
  {
   "cell_type": "code",
   "execution_count": null,
   "id": "7e5342ab",
   "metadata": {},
   "outputs": [],
   "source": []
  },
  {
   "cell_type": "markdown",
   "id": "3cb34d39",
   "metadata": {},
   "source": [
    "### Ejercicio 5:\n",
    "Escriba un programa Python para crear una clase que represente un array de numpy. Incluya métodos para sumarse, restarse, multiplicarse y dividirse tal cual sucederia en un array de numpy"
   ]
  },
  {
   "cell_type": "code",
   "execution_count": null,
   "id": "eb779abb",
   "metadata": {},
   "outputs": [],
   "source": []
  },
  {
   "cell_type": "markdown",
   "id": "33e29b98",
   "metadata": {},
   "source": [
    "### Ejercicio 6 - El plano cartesiano:\n",
    "Representa un espacio bidimensional (en 2 dimensiones), formado por dos rectas perpendiculares, una horizontal y otra vertical que se cortan en un punto. La recta horizontal se denomina eje de las abscisas o eje X, mientras que la vertical recibe el nombre de eje de las ordenadas o simplemente eje Y. En cuanto al punto donde se cortan, se conoce como el punto de origen O.\n",
    "\n",
    "![](IMG/eje.jpg)\n",
    "\n",
    "Es importante remarcar que el plano se divide en 4 cuadrantes:\n",
    "\n",
    "![](IMG/cuadrante.jpg)"
   ]
  },
  {
   "cell_type": "markdown",
   "id": "7326c5c6",
   "metadata": {},
   "source": [
    "### Ejercicio 7 - Puntos y coordenadas\n",
    "El objetivo de todo esto es describir la posición de puntos sobre el plano en forma de coordenadas, que se forman asociando el valor del eje de las X (horizontal) con el valor del eje Y (vertical).\n",
    "\n",
    "La representación de un punto es sencilla: P(X,Y) dónde X y la Y son la distancia horizontal (izquierda o derecha) y vertical (arriba o abajo) respectivamente, utilizando como referencia el punto de origen (0,0), justo en el centro del plano.\n",
    "\n",
    "![](IMG/Cartesian-coordinate-system.svg.png)\n",
    "\n",
    "En esta figura, podemos observar dos puntos A y B que podríamos definir de la siguiente forma:\n",
    "\n",
    "* A(x1, y1) => A(2, 3)\n",
    "* B(x2, y2) => B(5, 5)\n",
    "\n",
    "\n",
    "Y el vector se representaría como la diferencia entre las coordendas del segundo punto respecto al primero (el segundo menos el primero):\n",
    "\n",
    "* AB = (x2-x1, y2-y1) => (5-2, 5-3) => (3,2)\n",
    "Lo que en definitiva no deja de ser: 3 a la derecha y 2 arriba.\n",
    "\n",
    "Y con esto finalizamos este mini repaso.\n",
    "\n",
    "\n",
    "\n"
   ]
  },
  {
   "cell_type": "markdown",
   "id": "7de1ed61",
   "metadata": {},
   "source": [
    "### Ejercicio 9:\n",
    "* Crea una clase llamada Punto con sus dos coordenadas X e Y.\n",
    "* Añade un método constructor para crear puntos fácilmente. Si no se reciben una coordenada, su valor será cero.\n",
    "* Sobreescribe el método string, para que al imprimir por pantalla un punto aparezca en formato (X,Y)\n",
    "* Añade un método llamado cuadrante que indique a qué cuadrante pertenece el punto, teniendo en cuenta que si X == 0 e Y != 0 se sitúa sobre el eje Y, si X != 0 e Y == 0 se sitúa sobre el eje X y si X == 0 e Y == 0 está sobre el origen.\n",
    "* Añade un método llamado vector, que tome otro punto y calcule el vector resultante entre los dos puntos.\n",
    "(Optativo) Añade un método llamado distancia, que tome otro punto y calcule la distancia entre los dos puntos y la muestre por pantalla. La fórmula es la siguiente:\n",
    "$$d = \\sqrt{(x_{2}-x_{1})^{2}-(y_{2}-y_{1})^{2}}$$\n",
    "\n",
    "* Crea una clase llamada Rectangulo con dos puntos (inicial y final) que formarán la diagonal del rectángulo.\n",
    "* Añade un método constructor para crear ambos puntos fácilmente, si no se envían se crearán dos puntos en el origen por defecto.\n",
    "* Añade al rectángulo un método llamado base que muestre la base.\n",
    "* Añade al rectángulo un método llamado altura que muestre la altura.\n",
    "* Añade al rectángulo un método llamado area que muestre el area."
   ]
  }
 ],
 "metadata": {
  "kernelspec": {
   "display_name": "Python 3 (ipykernel)",
   "language": "python",
   "name": "python3"
  }
 },
 "nbformat": 4,
 "nbformat_minor": 5
}
