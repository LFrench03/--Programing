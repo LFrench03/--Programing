{
 "cells": [
  {
   "cell_type": "markdown",
   "metadata": {},
   "source": [
    "## Linear Algebra with Numpy \n",
    "(`numpy.linalg`)\n",
    "\n",
    "![](IMG/linalg.png)\n",
    "\n",
    "Referencias: https://numpy.org/doc/stable/reference/routines.linalg.html"
   ]
  },
  {
   "cell_type": "code",
   "execution_count": 2,
   "metadata": {},
   "outputs": [],
   "source": [
    "import numpy as np\n",
    "import numpy.linalg as la"
   ]
  },
  {
   "cell_type": "markdown",
   "metadata": {},
   "source": [
    "#### Producto de matrices: \n",
    "* Con el operador (`@`)  \n",
    "* Con `np.matmul`\n",
    "* Con `np.dot`"
   ]
  },
  {
   "cell_type": "code",
   "execution_count": 3,
   "metadata": {},
   "outputs": [
    {
     "name": "stdout",
     "output_type": "stream",
     "text": [
      "Producto con el operador(@) \n",
      "[[ 9 12]\n",
      " [24 33]]\n",
      "Producto con np.matmul\n",
      "[[ 9 12]\n",
      " [24 33]]\n",
      "Producto con np.dot\n",
      "[[ 9 12]\n",
      " [24 33]]\n"
     ]
    }
   ],
   "source": [
    "array1 = np.array([[1,2],[4,5]])\n",
    "array2 = np.array([[1,2],[4,5]])\n",
    "arrayr = array1 @ array2\n",
    "print(f\"Producto con el operador(@) \\n{arrayr}\")\n",
    "arrayr = np.matmul(array1,array2)\n",
    "print(f\"Producto con np.matmul\\n{arrayr}\")\n",
    "arrayr = np.dot(array1,array2)\n",
    "print(f\"Producto con np.dot\\n{arrayr}\")"
   ]
  },
  {
   "cell_type": "markdown",
   "metadata": {},
   "source": [
    "#### Producto de varias matrices con (`la.multidot`)\n",
    "Si el primer argumento es 1-D, se trata como un vector de fila. Si el último argumento es 1-D, se trata como un vector de columna. Los otros argumentos deben ser 2-D."
   ]
  },
  {
   "cell_type": "code",
   "execution_count": 4,
   "metadata": {},
   "outputs": [
    {
     "name": "stdout",
     "output_type": "stream",
     "text": [
      "[[ 57  78]\n",
      " [156 213]]\n"
     ]
    }
   ],
   "source": [
    "arrayr = la.multi_dot([array1,array2,array1])\n",
    "print(arrayr)"
   ]
  },
  {
   "cell_type": "markdown",
   "metadata": {},
   "source": [
    "### Transpuesta con (`np.matrix_transpose`)"
   ]
  },
  {
   "cell_type": "code",
   "execution_count": 5,
   "metadata": {},
   "outputs": [
    {
     "name": "stdout",
     "output_type": "stream",
     "text": [
      "[[ 57 156]\n",
      " [ 78 213]]\n"
     ]
    }
   ],
   "source": [
    "t = np.transpose(arrayr)\n",
    "print(t)"
   ]
  },
  {
   "cell_type": "markdown",
   "metadata": {},
   "source": [
    "#### Producto interno y externo con (`inner`) & (`outer`)"
   ]
  },
  {
   "cell_type": "code",
   "execution_count": 6,
   "metadata": {},
   "outputs": [
    {
     "name": "stdout",
     "output_type": "stream",
     "text": [
      "Producto interno: \n",
      "[[ 5 14]\n",
      " [14 41]]\n",
      "Producto externo: \n",
      "[[ 1  2  4  5]\n",
      " [ 2  4  8 10]\n",
      " [ 4  8 16 20]\n",
      " [ 5 10 20 25]]\n"
     ]
    }
   ],
   "source": [
    "arrayr = np.inner(array1,array2)\n",
    "print(f\"Producto interno: \\n{arrayr}\")\n",
    "arrayr = np.outer(array1,array2)\n",
    "print(f\"Producto externo: \\n{arrayr}\")"
   ]
  },
  {
   "cell_type": "markdown",
   "metadata": {},
   "source": [
    "#### Potencia con (`la.matrix_power`)"
   ]
  },
  {
   "cell_type": "code",
   "execution_count": 7,
   "metadata": {},
   "outputs": [
    {
     "name": "stdout",
     "output_type": "stream",
     "text": [
      "[[ 9 12]\n",
      " [24 33]]\n"
     ]
    }
   ],
   "source": [
    "arrayr = la.matrix_power(array1, 2)\n",
    "print(arrayr)"
   ]
  },
  {
   "cell_type": "markdown",
   "metadata": {},
   "source": [
    "### Determinante con (`la.det`)"
   ]
  },
  {
   "cell_type": "code",
   "execution_count": 8,
   "metadata": {},
   "outputs": [
    {
     "data": {
      "text/plain": [
       "-2.0000000000000004"
      ]
     },
     "execution_count": 8,
     "metadata": {},
     "output_type": "execute_result"
    }
   ],
   "source": [
    "a = np.array([[1, 2], [3, 4]])\n",
    "np.linalg.det(a)"
   ]
  },
  {
   "cell_type": "markdown",
   "metadata": {},
   "source": [
    "### Rango con (`la.matrix.rank`)"
   ]
  },
  {
   "cell_type": "code",
   "execution_count": 9,
   "metadata": {},
   "outputs": [
    {
     "data": {
      "text/plain": [
       "2"
      ]
     },
     "execution_count": 9,
     "metadata": {},
     "output_type": "execute_result"
    }
   ],
   "source": [
    "la.matrix_rank(a)"
   ]
  },
  {
   "cell_type": "markdown",
   "metadata": {},
   "source": [
    "### Traza con (`np.trace`)"
   ]
  },
  {
   "cell_type": "code",
   "execution_count": 10,
   "metadata": {},
   "outputs": [
    {
     "data": {
      "text/plain": [
       "5"
      ]
     },
     "execution_count": 10,
     "metadata": {},
     "output_type": "execute_result"
    }
   ],
   "source": [
    "np.trace(a)"
   ]
  },
  {
   "cell_type": "markdown",
   "metadata": {},
   "source": [
    "### Resolver un SEL con (`la.solve`)"
   ]
  },
  {
   "cell_type": "code",
   "execution_count": 11,
   "metadata": {},
   "outputs": [
    {
     "data": {
      "text/plain": [
       "array([-1.,  1.])"
      ]
     },
     "execution_count": 11,
     "metadata": {},
     "output_type": "execute_result"
    }
   ],
   "source": [
    "a = np.array([[1, 2], [3, 5]])\n",
    "b = np.array([1, 2])\n",
    "x = np.linalg.solve(a, b)\n",
    "x"
   ]
  },
  {
   "cell_type": "markdown",
   "metadata": {},
   "source": [
    "### Inversa con (`la.inv`) y pseudoinversa con (`la.pinv`)\n",
    "#### (evitar)"
   ]
  },
  {
   "cell_type": "markdown",
   "metadata": {},
   "source": [
    "### Valores propios con (`la.eigvals`)"
   ]
  },
  {
   "cell_type": "code",
   "execution_count": 12,
   "metadata": {},
   "outputs": [
    {
     "data": {
      "text/plain": [
       "array([-1.,  1.])"
      ]
     },
     "execution_count": 12,
     "metadata": {},
     "output_type": "execute_result"
    }
   ],
   "source": [
    "D = np.diag((-1,1))\n",
    "la.eigvals(D)"
   ]
  },
  {
   "cell_type": "markdown",
   "metadata": {},
   "source": [
    "#### Producto de Kronecker con (`np.kron`)\n",
    "En matemáticas, se llama producto de Kronecker, denotado con \n",
    "$\\displaystyle \\otimes$, a una operación sobre dos matrices de tamaño arbitrario que da como resultado una matriz bloque. \n",
    "\n",
    "\n",
    "Ejemplo:\n",
    "$$\\displaystyle {\\begin{bmatrix}1&2\\\\3&1\\\\\\end{bmatrix}}\\otimes {\\begin{bmatrix}0&3\\\\2&1\\\\\\end{bmatrix}}={\\begin{bmatrix}1\\cdot 0&1\\cdot 3&2\\cdot 0&2\\cdot 3\\\\1\\cdot 2&1\\cdot 1&2\\cdot 2&2\\cdot 1\\\\3\\cdot 0&3\\cdot 3&1\\cdot 0&1\\cdot 3\\\\3\\cdot 2&3\\cdot 1&1\\cdot 2&1\\cdot 1\\\\\\end{bmatrix}}={\\begin{bmatrix}0&3&0&6\\\\2&1&4&2\\\\0&9&0&3\\\\6&3&2&1\\end{bmatrix}}$$"
   ]
  },
  {
   "cell_type": "code",
   "execution_count": 13,
   "metadata": {},
   "outputs": [
    {
     "name": "stdout",
     "output_type": "stream",
     "text": [
      "[[ 1  2  2  4]\n",
      " [ 4  5  8 10]\n",
      " [ 4  8  5 10]\n",
      " [16 20 20 25]]\n"
     ]
    }
   ],
   "source": [
    "kron = np.kron(array1,array2)\n",
    "print(kron)"
   ]
  },
  {
   "cell_type": "markdown",
   "metadata": {},
   "source": [
    "#### Descomposicion de Cholesky con (`la.cholesky`)\n",
    "La descomposición de Cholesky se usa principalmente para hallar la solución numérica de ecuaciones lineales $Ax = b$. Si $A$ es simétrica y positiva definida, entonces se puede solucionar $Ax = b$ calculando primero la descomposición de Cholesky $A = LLT$, luego resolviendo $Ly = b$ para y, y finalmente resolviendo $L^{T}x = y$ para x.\n",
    "\n"
   ]
  },
  {
   "cell_type": "code",
   "execution_count": 14,
   "metadata": {},
   "outputs": [
    {
     "name": "stdout",
     "output_type": "stream",
     "text": [
      "[[1.+0.j 0.+0.j]\n",
      " [0.+2.j 1.+0.j]]\n"
     ]
    }
   ],
   "source": [
    "A = np.array([[1,-2j],[2j,5]])\n",
    "L = la.cholesky(A)\n",
    "print(L)"
   ]
  },
  {
   "cell_type": "markdown",
   "metadata": {},
   "source": [
    "### Factorizacion QR con (`la.qr`)\n",
    "La descomposición QR de una matriz cuadrada real A es $\\displaystyle A=QR,\\,$\n",
    "donde $Q$ es una matriz ortogonal $(Q^{T}Q = I )$ y $R$ es una matriz triangular superior."
   ]
  },
  {
   "cell_type": "code",
   "execution_count": 15,
   "metadata": {},
   "outputs": [
    {
     "name": "stdout",
     "output_type": "stream",
     "text": [
      "True\n"
     ]
    }
   ],
   "source": [
    "a = np.random.randn(9, 6)\n",
    "Q, R = np.linalg.qr(a)\n",
    "print(np.allclose(a, np.dot(Q, R))) # a does equal QR\n",
    "\n"
   ]
  },
  {
   "cell_type": "markdown",
   "metadata": {},
   "source": [
    "### Minimos cuadrados con (`la.lstsq`)"
   ]
  },
  {
   "cell_type": "code",
   "execution_count": 19,
   "metadata": {},
   "outputs": [
    {
     "name": "stderr",
     "output_type": "stream",
     "text": [
      "/tmp/ipykernel_52746/3371619338.py:4: FutureWarning: `rcond` parameter will change to the default of machine precision times ``max(M, N)`` where M and N are the input matrix dimensions.\n",
      "To use the future default and silence this warning we advise to pass `rcond=None`, to keep using the old, explicitly pass `rcond=-1`.\n",
      "  m, c = np.linalg.lstsq(A, y)[0]\n"
     ]
    },
    {
     "name": "stdout",
     "output_type": "stream",
     "text": [
      "0.9999999999999999 -0.9499999999999997\n"
     ]
    },
    {
     "data": {
      "image/png": "[encoded data removed]",
      "text/plain": [
       "<Figure size 640x480 with 1 Axes>"
      ]
     },
     "metadata": {},
     "output_type": "display_data"
    }
   ],
   "source": [
    "x = np.array([0, 1, 2, 3])\n",
    "y = np.array([-1, 0.2, 0.9, 2.1])\n",
    "A = np.vstack([x, np.ones(len(x))]).T\n",
    "m, c = np.linalg.lstsq(A, y)[0]\n",
    "print(m, c)\n",
    "import matplotlib.pyplot as plt\n",
    "_ = plt.plot(x, y, 'o', label='Original data', markersize=10)\n",
    "_ = plt.plot(x, m*x + c, 'r', label='Fitted line')\n",
    "_ = plt.legend()\n",
    "plt.show()"
   ]
  },
  {
   "cell_type": "markdown",
   "metadata": {},
   "source": [
    "### Norma con (`la.norm`)\n",
    "Normas disponibles por medio del parametro `ord`:\n",
    "\n",
    "![Norms](IMG/norms.png)"
   ]
  },
  {
   "cell_type": "code",
   "execution_count": 17,
   "metadata": {},
   "outputs": [
    {
     "name": "stdout",
     "output_type": "stream",
     "text": [
      "7.745966692414834\n",
      "7.745966692414834\n"
     ]
    }
   ],
   "source": [
    "a = np.arange(9) - 4\n",
    "b = a.reshape((3, 3))\n",
    "      \n",
    "print(la.norm(a))\n",
    "print(la.norm(b))"
   ]
  },
  {
   "cell_type": "markdown",
   "metadata": {},
   "source": [
    "### Numero de condicion de una matriz con (`la.cond`)"
   ]
  }
 ],
 "metadata": {
  "kernelspec": {
   "display_name": "env",
   "language": "python",
   "name": "python3"
  },
  "language_info": {
   "codemirror_mode": {
    "name": "ipython",
    "version": 3
   },
   "file_extension": ".py",
   "mimetype": "text/x-python",
   "name": "python",
   "nbconvert_exporter": "python",
   "pygments_lexer": "ipython3",
   "version": "3.10.12"
  }
 },
 "nbformat": 4,
 "nbformat_minor": 2
}
