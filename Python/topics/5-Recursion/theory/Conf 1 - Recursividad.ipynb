{
 "cells": [
  {
   "cell_type": "markdown",
   "id": "f311d0a7",
   "metadata": {},
   "source": [
    "#### **Una función es recursiva cuando se define en términos de si misma**\n",
    "---\n"
   ]
  },
  {
   "cell_type": "markdown",
   "id": "4844ebef",
   "metadata": {},
   "source": [
    "Procedimiento de resolver un problema complejo reduciéndolo en uno o más subproblemas\n",
    "1. Con la misma estructura que el problema original\n",
    "2. Más simples de resolver que el problema original\n",
    "\n",
    "\n",
    "A su vez cada `subproblema` se divide, usando el mismo procedimiento, en subproblemas aún más simples, así los `subproblemas` llegarán a ser tan simples que no hará falta dividirlos para resolverlos y la solución del problema inicial se obtiene **combinando las soluciones de cada subproblema.**\n",
    "\n",
    "\n",
    "O lo que es lo mismo:\n",
    "1. Un problema `P` se puede resolver conociendo la solución de otro problema `Q` que es del mismo tipo que `P`, **pero más pequeño**.\n",
    "2. Igualmente, supongamos que pudiéramos resolver `Q` mediante la búsqueda de la solución de otro nuevo problema, `R`, que sigue siendo del mismo tipo que `Q` y `P`, **pero de un tamaño menor que ambos.**\n",
    "3. Si el problema `R` fuera tan simple que su solución es obvia o directa, entonces, dado que sabemos la solución de `R`, procederíamos a resolver `Q` y, una vez resuelto, finalmente se obtendría la solución definitiva al primer problema, `P`.\n",
    "---"
   ]
  },
  {
   "cell_type": "markdown",
   "id": "fb33c4b8",
   "metadata": {},
   "source": [
    "**Una funcion recursiva se puede reducir a:**\n",
    "1. Condicion de parada\n",
    "2. Caso base\n",
    "3. Llamada recursiva\n",
    "\n",
    "```python\n",
    "def potencia(n,m):\n",
    "    if m == 1: #condicion de parada\n",
    "        return n #caso base\n",
    "    return n*potencia(n, m-1) #llamada recursiva\n",
    "```\n",
    " \n",
    "En este caso se intenta **simplificar el calculo de la potencia**, para esto se determina una **condicion** que al cumplirse **se detendran las llamadas recursivas y retornara un caso base.**\n",
    "\n",
    "---"
   ]
  },
  {
   "cell_type": "markdown",
   "id": "f16ed372",
   "metadata": {},
   "source": [
    "**Factorial iterativo:**\n",
    "\n",
    "```python\n",
    "def factorial(n):\n",
    "    fact = 1\n",
    "    for i in range(1, n+1):\n",
    "        fact = fact * i\n",
    "    return fact\n",
    "```\n",
    " \n",
    " **Factorial recursivo:**\n",
    " ```python\n",
    "def factorial(n):\n",
    "    if n == 0: #condicion de parada\n",
    "        return 1 #caso base\n",
    "    return n*factorial(n-1) #llamada recursiva\n",
    "```"
   ]
  },
  {
   "cell_type": "markdown",
   "id": "edf1ef7f",
   "metadata": {},
   "source": [
    "Al definir una `funcion recursiva` es importante asegurar que **SIEMPRE** se cumplira la condicion de parada en algun punto. Cada vez que una funcion es llamada en `python` **se guarda en el Stack un espacio** para este llamado, en el `espacio` se almacenan las `variables` y `contexto de la funcion`, si una funcion es llamada recursivamente varias veces cada llamado **se apilara en el stack y se ira resolviendo desde el ultimo hasta el primero**. \n",
    "\n",
    "\n",
    "Cuando una `funcion recursiva` nunca llega a una `condicion de parada` ocurre lo que se llama un `\"stack overflow\"` que es **lo que pasa cuando la pila de funciones se llena y no pueden almacenarse mas**, en python se lanzara el `RecursionError` justo antes de llegar a este punto.\n",
    "\n",
    "---"
   ]
  },
  {
   "cell_type": "markdown",
   "id": "e025c79c",
   "metadata": {},
   "source": [
    "**Fibonacci iterativo**\n",
    "```python\n",
    "def fibonacci(n):\n",
    "    if n <= 0:\n",
    "        return \"El valor de n debe ser un entero positivo mayor que cero.\"\n",
    "    elif n == 1:\n",
    "        return 0\n",
    "    elif n == 2:\n",
    "        return 1\n",
    "    else:\n",
    "        fib1 = 0\n",
    "        fib2 = 1\n",
    "        for _ in range(2, n):\n",
    "            next_fib = fib1 + fib2\n",
    "            fib1 = fib2\n",
    "            fib2 = next_fib\n",
    "        return fib2\n",
    "```\n",
    "\n",
    "**Fibonacci Recursivo**\n",
    "```python\n",
    "def fibonacci(n):\n",
    "    if n == 0:\n",
    "        return 0\n",
    "    elif n == 1:\n",
    "        return 1\n",
    "    else:\n",
    "        return fibonacci(n-1) + fibonacci(n-2)\n",
    "```\n",
    "\n",
    "*En este caso existe mas de un caso de parada*"
   ]
  },
  {
   "attachments": {
    "image.png": {
     "image/png": "[encoded data removed]"
    }
   },
   "cell_type": "markdown",
   "id": "8695c8d8",
   "metadata": {},
   "source": [
    "### **Las torres de Hanoi**\n",
    "Se conoce como un juego matemático inventado por el francés **Édouard Lucas en 1883**. Consiste en **pasar `n` discos apilados y ordenados por tamaño de una estaca a otra, utilizando una estaca auxiliar si fuera necesario.**\n",
    "\n",
    "**Siguiendo unas simples reglas:**\n",
    "\n",
    "1. Un disco de radio `R` nunca se ponga encima de otro de radio `r` (`asumiendo que R>r`).\n",
    "2. Solo es posible **mover un disco a la vez y siempre el disco en el tope de la pila.**\n",
    "\n",
    "![image.png](attachment:image.png)\n",
    "\n",
    "**como resolverian esto?**"
   ]
  }
 ],
 "metadata": {
  "kernelspec": {
   "display_name": "Python 3 (ipykernel)",
   "language": "python",
   "name": "python3"
  },
  "language_info": {
   "codemirror_mode": {
    "name": "ipython",
    "version": 3
   },
   "file_extension": ".py",
   "mimetype": "text/x-python",
   "name": "python",
   "nbconvert_exporter": "python",
   "pygments_lexer": "ipython3",
   "version": "3.10.9"
  }
 },
 "nbformat": 4,
 "nbformat_minor": 5
}
