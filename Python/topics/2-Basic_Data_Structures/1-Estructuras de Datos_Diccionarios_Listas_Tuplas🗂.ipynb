{
 "cells": [
  {
   "cell_type": "markdown",
   "id": "649d2f96",
   "metadata": {},
   "source": [
    "## Estructuras de Datos-_Diccionarios_-_Listas_-_Tuplas_ 🗂\n",
    "\n",
    "![](img/dicc.jpeg)\n",
    "<r>\n",
    "\n",
    "Referencias:\n",
    "* https://aprendeconalf.es/docencia/python/ejercicios/listas-tuplas/\n",
    "* https://aprendeconalf.es/docencia/python/ejercicios/diccionarios/"
   ]
  },
  {
   "cell_type": "markdown",
   "id": "c9704eb9-0657-4adc-8be8-fd8b571fa6a6",
   "metadata": {
    "jp-MarkdownHeadingCollapsed": true,
    "tags": []
   },
   "source": [
    "### Ejercicio 1: Convertir dos listas en un diccionario\n",
    "A continuación se presentan dos listas. Escribe un programa en Python para convertirlas en un diccionario de tal manera que el elemento de la lista1 sea la clave y el elemento de la lista2 sea el valor.\n",
    "\n",
    "```python\n",
    "keys = ['Ten', 'Twenty', 'Thirty']\n",
    "values = [10, 20, 30]\n",
    "```\n",
    "Salida esperada:\n",
    "\n",
    "```python\n",
    "{'Ten': 10, 'Twenty': 20, 'Thirty': 30}\n",
    "```"
   ]
  },
  {
   "cell_type": "code",
   "execution_count": 1,
   "id": "05a23051-a450-4d28-880c-a6f57c23a612",
   "metadata": {
    "tags": []
   },
   "outputs": [
    {
     "data": {
      "text/plain": [
       "{'Ten': 10, 'Twenty': 20, 'Thirty': 30}"
      ]
     },
     "execution_count": 1,
     "metadata": {},
     "output_type": "execute_result"
    }
   ],
   "source": [
    "# Espacio para tu solución\n",
    "def convertir_a_diccionario(keys, values):\n",
    "    if len(keys)!= len(values):\n",
    "        return None\n",
    "    size = len(keys)\n",
    "    diccionario ={}\n",
    "    for i in range(size):\n",
    "        diccionario[keys[i]] = values[i]\n",
    "    return diccionario\n",
    "keys = ['Ten', 'Twenty', 'Thirty']\n",
    "values = [10, 20, 30]\n",
    "convertir_a_diccionario(keys,values)"
   ]
  },
  {
   "cell_type": "markdown",
   "id": "a89b7959-b499-4d78-970d-3b64b77fe45f",
   "metadata": {
    "jp-MarkdownHeadingCollapsed": true,
    "tags": []
   },
   "source": [
    "### Ejercicio 2: Fusionar dos diccionarios de Python en uno\n",
    "Dado:\n",
    "\n",
    "```python\n",
    "dict1 = {'Ten': 10, 'Twenty': 20, 'Thirty': 30}\n",
    "dict2 = {'Thirty': 30, 'Fourty': 40, 'Fifty': 50}\n",
    "```\n",
    "Salida esperada:\n",
    "\n",
    "```python\n",
    "{'Ten': 10, 'Twenty': 20, 'Thirty': 30, 'Fourty': 40, 'Fifty': 50}\n",
    "```"
   ]
  },
  {
   "cell_type": "code",
   "execution_count": 5,
   "id": "f46e6a20-2b56-482c-b87d-043eec271ade",
   "metadata": {
    "tags": []
   },
   "outputs": [
    {
     "data": {
      "text/plain": [
       "{'Ten': 10, 'Twenty': 20, 'Thirty': 30, 'Fourty': 40, 'Fifty': 50}"
      ]
     },
     "execution_count": 5,
     "metadata": {},
     "output_type": "execute_result"
    }
   ],
   "source": [
    "def fusionar_diccionarios(dict1, dict2):\n",
    "    diccionario_fusionado={}\n",
    "    diccionario_fusionado = dict1\n",
    "    diccionario_fusionado.update(dict2)\n",
    "    return diccionario_fusionado\n",
    "dict1 = {'Ten': 10, 'Twenty': 20, 'Thirty': 30}\n",
    "dict2 = {'Thirty': 30, 'Fourty': 40, 'Fifty': 50}\n",
    "fusionar_diccionarios(dict1, dict2)\n"
   ]
  },
  {
   "cell_type": "markdown",
   "id": "24dcc80f-1345-415e-b90a-a40148c7af5c",
   "metadata": {
    "jp-MarkdownHeadingCollapsed": true,
    "tags": []
   },
   "source": [
    "### Ejercicio 3: Imprimir el valor de la clave 'history' del siguiente diccionario\n",
    "Dado:\n",
    "\n",
    "```python\n",
    "sampleDict = {\n",
    "    \"class\": {\n",
    "        \"student\": {\n",
    "            \"name\": \"Mike\",\n",
    "            \"marks\": {\n",
    "                \"physics\": 70,\n",
    "                \"history\": 80\n",
    "            }\n",
    "        }\n",
    "    }\n",
    "}\n",
    "```\n",
    "Salida esperada:\n",
    "\n",
    "```python\n",
    "80\n",
    "```"
   ]
  },
  {
   "cell_type": "code",
   "execution_count": 36,
   "id": "c95f42fa-74eb-45f0-a819-d155a6b5750b",
   "metadata": {
    "tags": []
   },
   "outputs": [
    {
     "data": {
      "text/plain": [
       "80"
      ]
     },
     "execution_count": 36,
     "metadata": {},
     "output_type": "execute_result"
    }
   ],
   "source": [
    "def imprimir_valor_clave(sampleDict):\n",
    "    valor = sampleDict['class']['student']['marks']['history']\n",
    "    return valor\n",
    "\n",
    "sampleDict = {\n",
    "    \"class\": {\n",
    "        \"student\": {\n",
    "            \"name\": \"Mike\",\n",
    "            \"marks\": {\n",
    "                \"physics\": 70,\n",
    "                \"history\": 80\n",
    "            }\n",
    "        }\n",
    "    }\n",
    "}\n",
    "imprimir_valor_clave(sampleDict)\n"
   ]
  },
  {
   "cell_type": "markdown",
   "id": "c4f8d3e4-aa67-4aa3-a0cd-3f760c593acb",
   "metadata": {
    "jp-MarkdownHeadingCollapsed": true,
    "tags": []
   },
   "source": [
    "### Ejercicio 4: Inicializar un diccionario con valores predeterminados\n",
    "En Python, podemos inicializar las claves con los mismos valores.\n",
    "\n",
    "Dado:\n",
    "\n",
    "```python\n",
    "empleados = ['Kelly', 'Emma']\n",
    "predeterminados = {\"designación\": 'Desarrollador', \"salario\": 8000}\n",
    "```\n",
    "Salida esperada:\n",
    "\n",
    "```python\n",
    "{\n",
    "    'Kelly': {\n",
    "        'designación': 'Desarrollador', \n",
    "        'salario': 8000\n",
    "    },\n",
    "    'Emma': {\n",
    "        'designación': 'Desarrollador', \n",
    "        'salario': 8000\n",
    "    }\n",
    "}\n",
    "```"
   ]
  },
  {
   "cell_type": "code",
   "execution_count": 38,
   "id": "f9acc073-6dae-47d1-8c7a-b62fbdc925d4",
   "metadata": {
    "tags": []
   },
   "outputs": [
    {
     "data": {
      "text/plain": [
       "{'Kelly': {'designación': 'Desarrollador', 'salario': 8000},\n",
       " 'Emma': {'designación': 'Desarrollador', 'salario': 8000}}"
      ]
     },
     "execution_count": 38,
     "metadata": {},
     "output_type": "execute_result"
    }
   ],
   "source": [
    "def inicializar_dict(keys, defaults):\n",
    "    diccionario_incializado = {}\n",
    "    diccionario_incializado=diccionario_incializado.fromkeys(keys,defaults)\n",
    "    return diccionario_incializado\n",
    "\n",
    "empleados = ['Kelly', 'Emma']\n",
    "predeterminados = {\"designación\": 'Desarrollador', \"salario\": 8000}\n",
    "inicializar_dict(empleados, predeterminados)\n"
   ]
  },
  {
   "cell_type": "markdown",
   "id": "9b4c38eb-0da6-4b16-9ec9-3ada63fe2d83",
   "metadata": {
    "jp-MarkdownHeadingCollapsed": true,
    "tags": []
   },
   "source": [
    "### Ejercicio 5: Crear un diccionario extrayendo las claves de un diccionario dado\n",
    "Escribe un programa en Python para crear un nuevo diccionario extrayendo las claves mencionadas del siguiente diccionario.\n",
    "\n",
    "Diccionario dado:\n",
    "\n",
    "```python\n",
    "diccionario_ejemplo = {\n",
    "    \"nombre\": \"Kelly\",\n",
    "    \"edad\": 25,\n",
    "    \"salario\": 8000,\n",
    "    \"ciudad\": \"Nueva York\"\n",
    "}\n",
    "\n",
    "# Claves a extraer\n",
    "claves = [\"nombre\", \"salario\"]\n",
    "```\n",
    "Salida esperada:\n",
    "\n",
    "```python\n",
    "{'nombre': 'Kelly', 'salario': 8000}\n",
    "```"
   ]
  },
  {
   "cell_type": "code",
   "execution_count": 45,
   "id": "394dfd22-612c-484f-934c-0ec2cc127e32",
   "metadata": {
    "tags": []
   },
   "outputs": [
    {
     "data": {
      "text/plain": [
       "{'nombre': 'Kelly', 'salario': 8000}"
      ]
     },
     "execution_count": 45,
     "metadata": {},
     "output_type": "execute_result"
    }
   ],
   "source": [
    "def crear_dict_extraido(sample_dict, keys):\n",
    "    nuevo_diccionario = {}\n",
    "    for i in keys:\n",
    "        nuevo_diccionario[i] = sample_dict[i]\n",
    "    return nuevo_diccionario\n",
    "sample_dict = {\n",
    "    \"nombre\": \"Kelly\",\n",
    "    \"edad\": 25,\n",
    "    \"salario\": 8000,\n",
    "    \"ciudad\": \"Nueva York\"\n",
    "}\n",
    "\n",
    "# Claves a extraer\n",
    "keys = [\"nombre\", \"salario\"]\n",
    "crear_dict_extraido(sample_dict, keys)"
   ]
  },
  {
   "cell_type": "markdown",
   "id": "08b4f38c-02d5-47dc-86cb-4ffdd8f63834",
   "metadata": {
    "jp-MarkdownHeadingCollapsed": true,
    "tags": []
   },
   "source": [
    "### Ejercicio 6: Eliminar una lista de claves de un diccionario\n",
    "Dado:\n",
    "\n",
    "```python\n",
    "diccionario_ejemplo = {\n",
    "    \"nombre\": \"Kelly\",\n",
    "    \"edad\": 25,\n",
    "    \"salario\": 8000,\n",
    "    \"ciudad\": \"Nueva York\"\n",
    "}\n",
    "\n",
    "# Claves a eliminar\n",
    "claves = [\"nombre\", \"salario\"]\n",
    "```\n",
    "Salida esperada:\n",
    "\n",
    "```python\n",
    "{'ciudad': 'Nueva York', 'edad': 25}\n",
    "```"
   ]
  },
  {
   "cell_type": "code",
   "execution_count": 48,
   "id": "2386f70f-fbee-4d51-a409-a97fb815ddab",
   "metadata": {
    "tags": []
   },
   "outputs": [
    {
     "data": {
      "text/plain": [
       "{'edad': 25, 'ciudad': 'Nueva York'}"
      ]
     },
     "execution_count": 48,
     "metadata": {},
     "output_type": "execute_result"
    }
   ],
   "source": [
    "def crear_dict_extraido(sample_dict, keys):\n",
    "    nuevo_diccionario = sample_dict\n",
    "    for i in keys:\n",
    "        nuevo_diccionario.pop(i)\n",
    "    return nuevo_diccionario\n",
    "\n",
    "sample_dict = {\n",
    "    \"nombre\": \"Kelly\",\n",
    "    \"edad\": 25,\n",
    "    \"salario\": 8000,\n",
    "    \"ciudad\": \"Nueva York\"\n",
    "}\n",
    "\n",
    "# Claves a eliminar\n",
    "keys = [\"nombre\", \"salario\"]\n",
    "crear_dict_extraido(sample_dict, keys)"
   ]
  },
  {
   "cell_type": "markdown",
   "id": "951c1f1e-9db1-4193-8eaf-f4df4e0bd825",
   "metadata": {
    "jp-MarkdownHeadingCollapsed": true,
    "tags": []
   },
   "source": [
    "### Ejercicio 7: Comprobar si un valor existe en un diccionario\n",
    "Sabemos cómo verificar si la clave existe en un diccionario. A veces es necesario verificar si el valor dado está presente.\n",
    "\n",
    "Escribe un programa en Python para verificar si el valor 200 existe en el siguiente diccionario.\n",
    "\n",
    "Dado:\n",
    "\n",
    "```python\n",
    "sample_dict = {'a': 100, 'b': 200, 'c': 300}\n",
    "```\n",
    "Salida esperada:\n",
    "\n",
    "```python\n",
    "200 presente en un diccionario\n",
    "```"
   ]
  },
  {
   "cell_type": "code",
   "execution_count": 52,
   "id": "b781aa06-ad7b-4e61-8f96-5fe5764e8b25",
   "metadata": {
    "tags": []
   },
   "outputs": [
    {
     "data": {
      "text/plain": [
       "'200, presente en el diccionario'"
      ]
     },
     "execution_count": 52,
     "metadata": {},
     "output_type": "execute_result"
    }
   ],
   "source": [
    "# Espacio para tu solución\n",
    "def verificar_valor(sample_dict, value):\n",
    "    values = tuple(sample_dict.values())\n",
    "    if value in values:\n",
    "        resultado = f\"{value}, presente en el diccionario\"\n",
    "    else:\n",
    "        return f\"{value}, no presente en el diccionario\"\n",
    "    return resultado\n",
    "\n",
    "sample_dict = {'a': 100, 'b': 200, 'c': 300}\n",
    "value = 200\n",
    "verificar_valor(sample_dict, value)\n"
   ]
  },
  {
   "cell_type": "markdown",
   "id": "5597bfc2-c20c-4010-a852-02fae4ba474c",
   "metadata": {
    "jp-MarkdownHeadingCollapsed": true,
    "tags": []
   },
   "source": [
    "### Ejercicio 8: Cambiar el nombre de una clave de un diccionario\n",
    "Escribe un programa para cambiar el nombre de una clave de 'ciudad' a 'ubicación' en el siguiente diccionario.\n",
    "\n",
    "Dado:\n",
    "\n",
    "```python\n",
    "sample_dict = {\n",
    "  \"nombre\": \"Kelly\",\n",
    "  \"edad\":25,\n",
    "  \"salario\": 8000,\n",
    "  \"ciudad\": \"Nueva York\"\n",
    "}\n",
    "```\n",
    "Salida esperada:\n",
    "\n",
    "```python\n",
    "{'nombre': 'Kelly', 'edad': 25, 'salario': 8000, 'ubicación': 'Nueva York'}\n",
    "```"
   ]
  },
  {
   "cell_type": "code",
   "execution_count": 53,
   "id": "a3d3bfaa-4f9e-4090-926f-2712ac2552f8",
   "metadata": {
    "tags": []
   },
   "outputs": [
    {
     "data": {
      "text/plain": [
       "{'nombre': 'Kelly', 'edad': 25, 'salario': 8000, 'ubicación': 'Nueva York'}"
      ]
     },
     "execution_count": 53,
     "metadata": {},
     "output_type": "execute_result"
    }
   ],
   "source": [
    "# Espacio para tu solución\n",
    "def renombrar_clave(sample_dict, old_key, new_key):\n",
    "\n",
    "    if old_key in tuple(sample_dict):\n",
    "\n",
    "        nuevo_diccionario = sample_dict\n",
    "        value = nuevo_diccionario[old_key]\n",
    "        nuevo_diccionario.pop(old_key)\n",
    "        nuevo_diccionario[new_key] = value\n",
    "\n",
    "    else:\n",
    "        return None\n",
    "    \n",
    "    return nuevo_diccionario\n",
    "\n",
    "sample_dict = {\n",
    "  \"nombre\": \"Kelly\",\n",
    "  \"edad\":25,\n",
    "  \"salario\": 8000,\n",
    "  \"ciudad\": \"Nueva York\"\n",
    "}\n",
    "old_key = 'ciudad'\n",
    "new_key = 'ubicación'\n",
    "renombrar_clave(sample_dict, old_key, new_key)\n"
   ]
  },
  {
   "cell_type": "markdown",
   "id": "0c3ce51f",
   "metadata": {},
   "source": [
    "### Ejercicio 9\n",
    "Escribir un programa que almacene el abecedario en una lista, elimine de la lista las letras que ocupen posiciones múltiplos de 3, y muestre por pantalla la lista resultante."
   ]
  },
  {
   "cell_type": "code",
   "execution_count": 48,
   "id": "8efa2336",
   "metadata": {},
   "outputs": [
    {
     "name": "stdout",
     "output_type": "stream",
     "text": [
      "Lista original: ['a', 'b', 'c', 'd', 'e', 'f', 'g', 'h', 'i', 'j', 'k', 'l', 'm', 'n', 'o', 'p', 'q', 'r', 's', 't', 'u', 'v', 'w', 'x', 'y', 'z']\n",
      "Lista después de filtrar: ['b', 'c', 'e', 'f', 'h', 'i', 'k', 'l', 'n', 'o', 'q', 'r', 't', 'u', 'w', 'x', 'z']\n"
     ]
    }
   ],
   "source": [
    "def filtrar_abecedario():\n",
    "    # Crear una lista con todas las letras del abecedario\n",
    "    abecedario = ['a', 'b', 'c', 'd', 'e', 'f', 'g', 'h', 'i', 'j', 'k', 'l', 'm', 'n', 'o', 'p', 'q', 'r', 's', 't', 'u', 'v', 'w', 'x', 'y', 'z']\n",
    "    \n",
    "    # Eliminar las letras que ocupan posiciones múltiplas de tres\n",
    "    abecedario_filtrado = [letra for indice, letra in enumerate(abecedario) if indice % 3!= 0]\n",
    "    \n",
    "    # Mostrar la lista resultante\n",
    "    print(\"Lista original:\", abecedario)\n",
    "    print(\"Lista después de filtrar:\", abecedario_filtrado)\n",
    "\n",
    "# Ejemplo:\n",
    "filtrar_abecedario()\n"
   ]
  },
  {
   "cell_type": "markdown",
   "id": "9490e3f2",
   "metadata": {},
   "source": [
    "### Ejercicio 9\n",
    "Escribir un programa que pida al usuario una palabra y muestre por pantalla si es un palíndromo."
   ]
  },
  {
   "cell_type": "code",
   "execution_count": 52,
   "id": "2c5bd59f",
   "metadata": {},
   "outputs": [
    {
     "name": "stdout",
     "output_type": "stream",
     "text": [
      "Es palindromo\n"
     ]
    }
   ],
   "source": [
    "def palindrom(word):\n",
    "    word.lower()\n",
    "    while (\"  \" in word) or (\" \" in word):\n",
    "        word = input(\"Introduzca una palabra\")\n",
    "        word.lower()\n",
    "        mid = len(word)//2\n",
    "    left_side = word[:mid]\n",
    "    right_side = word [mid+1:]\n",
    "    if left_side == right_side[::-1]:\n",
    "        print(\"Es palindromo\")\n",
    "    else:\n",
    "        print(\"No es palindromo\")\n",
    "print(palindrom(input(\"Introduzca la palabra\")))"
   ]
  },
  {
   "cell_type": "markdown",
   "id": "59e1308e",
   "metadata": {},
   "source": [
    "### Ejercicio 10\n",
    "Escribir un programa que pida al usuario una palabra y muestre por pantalla el número de veces que contiene cada vocal."
   ]
  },
  {
   "cell_type": "code",
   "execution_count": 61,
   "id": "251ebb3a",
   "metadata": {},
   "outputs": [
    {
     "data": {
      "text/plain": [
       "{'p': 2,\n",
       " 'y': 3,\n",
       " 't': 3,\n",
       " 'h': 2,\n",
       " 'o': 6,\n",
       " 'n': 5,\n",
       " 'i': 3,\n",
       " 's': 4,\n",
       " 'a': 7,\n",
       " 'w': 1,\n",
       " 'e': 4,\n",
       " 'r': 4,\n",
       " 'f': 1,\n",
       " 'u': 2,\n",
       " 'l': 4,\n",
       " 'g': 4,\n",
       " 'm': 2}"
      ]
     },
     "execution_count": 61,
     "metadata": {},
     "output_type": "execute_result"
    }
   ],
   "source": [
    "def word_count(word):\n",
    "    return { x.lower() : word.count(x) for x in word if x!= ' ' and x!=\".\"}\n",
    "text = \"Python is a powerful programming language. Python is also easy to learn.\"\n",
    "word_count(text)"
   ]
  },
  {
   "cell_type": "markdown",
   "id": "d4508172",
   "metadata": {},
   "source": [
    "### Ejercicio 11\n",
    "Escribir un programa que almacene los vectores (1,2,3) y (-1,0,2) en dos listas y muestre por pantalla su producto escalar."
   ]
  },
  {
   "cell_type": "code",
   "execution_count": 62,
   "id": "c47fad58",
   "metadata": {},
   "outputs": [
    {
     "name": "stdout",
     "output_type": "stream",
     "text": [
      "El producto escalar es: 5\n"
     ]
    }
   ],
   "source": [
    "def producto_escalar(v1, v2):\n",
    "    # Almacenar los vectores como listas\n",
    "    lista_v1 = [1, 2, 3]\n",
    "    lista_v2 = [-1, 0, 2]\n",
    "    \n",
    "    # Calcular el producto escalar\n",
    "    producto = sum(a*b for a, b in zip(lista_v1, lista_v2))\n",
    "    \n",
    "    # Mostrar el resultado\n",
    "    print(f\"El producto escalar es: {producto}\")\n",
    "\n",
    "# Llamar a la función con los vectores dados\n",
    "producto_escalar([1, 2, 3], [-1, 0, 2])\n"
   ]
  },
  {
   "cell_type": "markdown",
   "id": "d96be68d",
   "metadata": {},
   "source": [
    "### Ejercicio 12\n",
    "Escribir un programa que almacene las matrices:\n",
    "$$A = \\begin{pmatrix}\n",
    "1 & 2 & 3\\\\\n",
    "4 & 5 & 6\n",
    "\\end{pmatrix} ~~~~ y ~~~   B = \\begin{pmatrix}\n",
    "-1 & 0 \\\\\n",
    "0 & 1 \\\\\n",
    "1 & 1   \n",
    "\\end{pmatrix}$$\n",
    "en una lista y muestre por pantalla su producto.\n",
    "Nota: Para representar matrices mediante listas usar listas anidadas, representando cada vector fila en una lista."
   ]
  },
  {
   "cell_type": "code",
   "execution_count": 64,
   "id": "1ce15d1d",
   "metadata": {},
   "outputs": [
    {
     "name": "stdout",
     "output_type": "stream",
     "text": [
      "2  5  \n",
      "2  11  \n",
      "[[2, 5], [2, 11]]\n"
     ]
    }
   ],
   "source": [
    "#Sin numpy:\n",
    "def dot_matrix(A,B):\n",
    "    row_A = len(A)\n",
    "    column_A = len(A[0])\n",
    "    row_B = len(B)\n",
    "    column_B = len(B[0])\n",
    "    result = []\n",
    "    for i in range(row_A):\n",
    "        result.append([])\n",
    "        for j in range(column_B):\n",
    "            product = 0\n",
    "            for k in range(column_A):\n",
    "                product+= A[i][k] * B[k][j]\n",
    "            result[i].append(product)\n",
    "    for i in range(row_A):\n",
    "        for j in range(column_B):\n",
    "            print(result[i][j], end = \"  \" if result[i][j] >=0 else \" \")\n",
    "        print(\"\")\n",
    "    return result\n",
    "A = [[1,2,3],[4,5,6]]\n",
    "B = [[-1,0],[0,1],[1,1]]\n",
    "print(dot_matrix(A,B))"
   ]
  },
  {
   "cell_type": "code",
   "execution_count": 65,
   "id": "3feef8ad",
   "metadata": {},
   "outputs": [
    {
     "name": "stdout",
     "output_type": "stream",
     "text": [
      "2  5  \n",
      "2  11  \n",
      "[[ 2  5]\n",
      " [ 2 11]]\n"
     ]
    }
   ],
   "source": [
    "#Con numpy:\n",
    "def dot_matrix(A,B):\n",
    "    import numpy as np\n",
    "    row_A = len(A)\n",
    "    column_A = len(A[0])\n",
    "    row_B = len(B)\n",
    "    column_B = len(B[0])\n",
    "    result = []\n",
    "    result = np.dot(A,B)\n",
    "    for i in range(row_A):\n",
    "        for j in range(column_B):\n",
    "            print(result[i][j], end = \"  \" if result[i][j] >=0 else \" \")\n",
    "        print(\"\")\n",
    "    return result\n",
    "A = [[1,2,3],[4,5,6]]\n",
    "B = [[-1,0],[0,1],[1,1]]\n",
    "print(dot_matrix(A,B))\n"
   ]
  },
  {
   "cell_type": "markdown",
   "id": "402e27dd",
   "metadata": {},
   "source": [
    "### Ejercicio 13\n",
    "Escribir un programa que pregunte por una muestra de números, separados por comas, los guarde en una lista y muestre por pantalla su media y desviación típica."
   ]
  },
  {
   "cell_type": "code",
   "execution_count": null,
   "id": "3b7b5730",
   "metadata": {},
   "outputs": [],
   "source": [
    "def media_and_desv_tip(values):\n",
    "    pass"
   ]
  },
  {
   "cell_type": "markdown",
   "id": "3ad2dc0e",
   "metadata": {},
   "source": [
    "### Ejercicio 14\n",
    "Escribir un programa que cree un diccionario de traducción español-inglés. El usuario introducirá las palabras en español e inglés separadas por dos puntos, y cada par <palabra>:<traducción> separados por comas. El programa debe crear un diccionario con las palabras y sus traducciones. Después pedirá una frase en español y utilizará el diccionario para traducirla palabra a palabra. Si una palabra no está en el diccionario debe dejarla sin traducir.\n"
   ]
  },
  {
   "cell_type": "markdown",
   "id": "cd593234",
   "metadata": {},
   "source": [
    "### Ejercicio 15\n",
    "Escribir un programa que gestione las facturas pendientes de cobro de una empresa. Las facturas se almacenarán en un diccionario donde la clave de cada factura será el número de factura y el valor el coste de la factura. El programa debe preguntar al usuario si quiere añadir una nueva factura, pagar una existente o terminar. Si desea añadir una nueva factura se preguntará por el número de factura y su coste y se añadirá al diccionario. Si se desea pagar una factura se preguntará por el número de factura y se eliminará del diccionario. Después de cada operación el programa debe mostrar por pantalla la cantidad cobrada hasta el momento y la cantidad pendiente de cobro.\n",
    "\n"
   ]
  },
  {
   "cell_type": "markdown",
   "id": "03c33a40",
   "metadata": {},
   "source": [
    "### Ejercicio 16\n",
    "Escribir un programa que permita gestionar la base de datos de clientes de una empresa. Los clientes se guardarán en un diccionario en el que la clave de cada cliente será su NIF, y el valor será otro diccionario con los datos del cliente (nombre, dirección, teléfono, correo, preferente), donde preferente tendrá el valor True si se trata de un cliente preferente. El programa debe preguntar al usuario por una opción del siguiente menú: (1) Añadir cliente, (2) Eliminar cliente, (3) Mostrar cliente, (4) Listar todos los clientes, (5) Listar clientes preferentes, (6) Terminar. En función de la opción elegida el programa tendrá que hacer lo siguiente:\n",
    "\n",
    "* Preguntar los datos del cliente, crear un diccionario con los datos y añadirlo a la base de datos.\n",
    "* Preguntar por el NIF del cliente y eliminar sus datos de la base de datos.\n",
    "* Preguntar por el NIF del cliente y mostrar sus datos.\n",
    "* Mostrar lista de todos los clientes de la base datos con su NIF y nombre.\n",
    "* Mostrar la lista de clientes preferentes de la base de datos con su NIF y nombre.\n",
    "* Terminar el programa."
   ]
  },
  {
   "cell_type": "markdown",
   "id": "5b63e66e",
   "metadata": {},
   "source": [
    "### Ejercicio 17\n",
    "El directorio de los clientes de una empresa está organizado en una cadena de texto como la de más abajo, donde cada línea contiene la información del nombre, email, teléfono, nif, y el descuento que se le aplica. Las líneas se separan con el carácter de cambio de línea \\n y la primera línea contiene los nombres de los campos con la información contenida en el directorio.\n",
    "```\n",
    "\"nif;nombre;email;teléfono;descuento\\n01234567L;Luis González;luisgonzalez@mail.com;656343576;12.5\\n71476342J;Macarena Ramírez;macarena@mail.com;692839321;8\\n63823376M;Juan José Martínez;juanjo@mail.com;664888233;5.2\\n98376547F;Carmen Sánchez;carmen@mail.com;667677855;15.7\"\n",
    "```\n",
    "\n",
    "Escribir un programa que genere un diccionario con la información del directorio, donde cada elemento corresponda a un cliente y tenga por clave su nif y por valor otro diccionario con el resto de la información del cliente. Los diccionarios con la información de cada cliente tendrán como claves los nombres de los campos y como valores la información de cada cliente correspondientes a los campos. Es decir, un diccionario como el siguiente\n",
    "\n",
    "```\n",
    "{'01234567L': {'nombre': 'Luis González', 'email': 'luisgonzalez@mail.com', 'teléfono': '656343576', 'descuento': 12.5}, '71476342J': {'nombre': 'Macarena Ramírez', 'email': 'macarena@mail.com', 'teléfono': '692839321', 'descuento': 8.0}, '63823376M': {'nombre': 'Juan José Martínez', 'email': 'juanjo@mail.com', 'teléfono': '664888233', 'descuento': 5.2}, '98376547F': {'nombre': 'Carmen Sánchez', 'email': 'carmen@mail.com', 'teléfono': '667677855', 'descuento': 15.7}\n",
    "```"
   ]
  },
  {
   "cell_type": "markdown",
   "id": "4e021fcf",
   "metadata": {},
   "source": [
    "### Ejercicio 18\n",
    "\n",
    "Crea una funcion que dada una lista de tuplas [(\"ocupacion\", edad), ...] devolver para cada ocupacion los rangos de edades que pertenecen a ella y cuantas personas estan en ese rango de edad, la funcion debe retornar un diccionario donde las llaves seran las ocupaciones y los valores otro diccionario, en este otro diccionario las llaves seran el identificador del rango de edad y los valores seran la cantidad de personas de esa ocupacion que pertenece a ese rango de edad. Los rangos de edad a valorar seran 0-20, 21-40, 41-60 y 60+.\n",
    "\n",
    "Ejemplo:\n",
    "\n",
    "```python\n",
    "tuplas = [(\"Estudiante\", 19), (\"Maestro\", 35), (\"Estudiante\", 22), (\"Médico\", 45), (\"Maestro\", 28), (\"Estudiante\", 18)]\n",
    "\n",
    "rangosocupacion = rangos_por_ocupacion(tuplas)\n",
    "print(rangosocupacion)\n",
    "\n",
    "-> {\n",
    "    'Estudiante': {'0-20': 2, '21-40': 1},\n",
    "    'Maestro': {'21-40': 1, '41-60': 1},\n",
    "    'Médico': {'41-60': 1}\n",
    "}\n",
    "```"
   ]
  },
  {
   "cell_type": "code",
   "execution_count": 24,
   "id": "b30ac132",
   "metadata": {},
   "outputs": [
    {
     "name": "stdout",
     "output_type": "stream",
     "text": [
      "{'Estudiante': {'0-20': 2, '21-40': 1}, 'Maestro': {'21-40': 2, '60+': 1}}\n"
     ]
    }
   ],
   "source": [
    "def rangos_por_ocupacion(lista_tuplas):\n",
    "    match_20 = [x for x in range(20)]  \n",
    "    match_40 = [x for x in range(21,41)]\n",
    "    match_60 = [x for x in range(41,61)]\n",
    "    match_60plus = [x for x in range(61,120)]\n",
    "    dicc = {}\n",
    "    keys = [\"Estudiante\",\"Maestro\",\"Médico\"]\n",
    "    for key in keys:\n",
    "        dicc[key] = {}\n",
    "        count_20 = 0\n",
    "        count_40 = 0\n",
    "        count_60 = 0\n",
    "        count_60plus = 0\n",
    "        for i in lista_tuplas:\n",
    "            for j in i:\n",
    "                if key in i:\n",
    "                    if j in match_20:\n",
    "                        count_20+=1\n",
    "                        dicc[key][\"0-20\"] = count_20\n",
    "                    if j in match_40:\n",
    "                        count_40+=1\n",
    "                        dicc[key][\"21-40\"] = count_40\n",
    "                    if j in match_60:\n",
    "                        count_60+=1\n",
    "                        dicc[key][\"41-60\"] = count_60\n",
    "                    if j in match_60plus:\n",
    "                        count_60plus+=1\n",
    "                        dicc[key][\"60+\"] = count_60plus  \n",
    "        if dicc[key] == {}:\n",
    "            dicc.pop(key)\n",
    "    return dicc  \n",
    "    pass\n",
    "\n",
    "#Ejemplo:\n",
    "tuplas = [(\"Estudiante\", 12), (\"Maestro\", 35), (\"Maestro\",67), (\"Estudiante\", 22), (\"Maestro\", 28), (\"Estudiante\", 18)]\n",
    "\n",
    "rangosocupacion = rangos_por_ocupacion(tuplas)\n",
    "print(rangosocupacion)"
   ]
  }
 ],
 "metadata": {
  "kernelspec": {
   "display_name": "Python 3 (ipykernel)",
   "language": "python",
   "name": "python3"
  },
  "language_info": {
   "codemirror_mode": {
    "name": "ipython",
    "version": 3
   },
   "file_extension": ".py",
   "mimetype": "text/x-python",
   "name": "python",
   "nbconvert_exporter": "python",
   "pygments_lexer": "ipython3",
   "version": "3.10.12"
  }
 },
 "nbformat": 4,
 "nbformat_minor": 5
}
