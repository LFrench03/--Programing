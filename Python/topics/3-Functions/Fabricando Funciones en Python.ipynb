{
 "cells": [
  {
   "cell_type": "markdown",
   "id": "0bf01f17",
   "metadata": {},
   "source": [
    "## _Funciones_\n",
    "Referencias: https://aprendeconalf.es/docencia/python/ejercicios/funciones/"
   ]
  },
  {
   "cell_type": "markdown",
   "id": "c9704eb9-0657-4adc-8be8-fd8b571fa6a6",
   "metadata": {
    "jp-MarkdownHeadingCollapsed": true,
    "tags": []
   },
   "source": [
    "##### 1. Escribir una función que tome una lista y devuelva otra lista con los elementos únicos de la primera lista"
   ]
  },
  {
   "cell_type": "code",
   "execution_count": 19,
   "id": "05a23051-a450-4d28-880c-a6f57c23a612",
   "metadata": {
    "tags": []
   },
   "outputs": [
    {
     "name": "stdout",
     "output_type": "stream",
     "text": [
      "\n",
      " [2, 3] \n",
      " [1] \n",
      " [1, 2, 3, 4] \n",
      " []\n"
     ]
    }
   ],
   "source": [
    "def unique_elements(lst):\n",
    "    if len(lst) <= 0:\n",
    "        return None\n",
    "    result = []\n",
    "    for element in lst:\n",
    "        if lst.count(element) == 1:\n",
    "            result.append(element)\n",
    "    return result\n",
    "#Ejemplos:\n",
    "a = unique_elements([1,2,3,1])\n",
    "b = unique_elements([2**2,4,8/2,2*8/4,1])\n",
    "c = unique_elements([1,2,3,4])\n",
    "d = unique_elements([1,1])\n",
    "print(\"\\n\",a,\"\\n\",b,\"\\n\",c,\"\\n\",d)"
   ]
  },
  {
   "cell_type": "markdown",
   "id": "a89b7959-b499-4d78-970d-3b64b77fe45f",
   "metadata": {
    "jp-MarkdownHeadingCollapsed": true,
    "tags": []
   },
   "source": [
    "##### 2. Escribir una función que tome una lista y un número n y devuelva otra lista con los n elementos más grandes de la primera lista"
   ]
  },
  {
   "cell_type": "code",
   "execution_count": 20,
   "id": "f46e6a20-2b56-482c-b87d-043eec271ade",
   "metadata": {
    "tags": []
   },
   "outputs": [
    {
     "name": "stdout",
     "output_type": "stream",
     "text": [
      "\n",
      " [9, 7, 6] \n",
      " None \n",
      " [9, 9, 9, 9] \n",
      " None\n"
     ]
    }
   ],
   "source": [
    "def largest_n_elements(lst, n):\n",
    "    if len(lst) <= 0:\n",
    "        return None\n",
    "    if n < 1: \n",
    "        return None\n",
    "    result = []\n",
    "    lst.sort(reverse=True)\n",
    "    for i in range(n):\n",
    "        result.append(lst[i])\n",
    "    return result\n",
    "#Ejemplos:\n",
    "a = largest_n_elements([1,2,3,4,5,7,6,9],3)\n",
    "b = largest_n_elements([1,2,3,4,5,7,6,9],0)\n",
    "c = largest_n_elements([1,-2,4,9,9,9,9,9],4)\n",
    "d = largest_n_elements([],4)\n",
    "print(\"\\n\",a,\"\\n\",b,\"\\n\",c,\"\\n\",d)"
   ]
  },
  {
   "cell_type": "markdown",
   "id": "24dcc80f-1345-415e-b90a-a40148c7af5c",
   "metadata": {
    "jp-MarkdownHeadingCollapsed": true,
    "tags": []
   },
   "source": [
    "##### 3. Escribir una función que tome dos listas y devuelva una nueva lista con los elementos que están en la primera lista pero no en la segunda"
   ]
  },
  {
   "cell_type": "code",
   "execution_count": 3,
   "id": "c95f42fa-74eb-45f0-a819-d155a6b5750b",
   "metadata": {
    "tags": []
   },
   "outputs": [
    {
     "name": "stdout",
     "output_type": "stream",
     "text": [
      "\n",
      " [1, 3] \n",
      " [3, 4] \n",
      " [1, -2, 4] \n",
      " None\n"
     ]
    }
   ],
   "source": [
    "def difference(lst1, lst2):\n",
    "    if len(lst1) == 0 or len(lst2) == 0:\n",
    "        return None\n",
    "    result = []\n",
    "    for element in lst1:\n",
    "        if element not in lst2:\n",
    "            result.append(element)\n",
    "    return result\n",
    "#Ejemplos:\n",
    "a = difference([1,2,3,4],[4,2,5,9])\n",
    "b = difference([1,2,3,4],[1,2,6,9])\n",
    "c = difference([1,-2,4],[9,9,9,9])\n",
    "d = difference([],[])\n",
    "print(\"\\n\",a,\"\\n\",b,\"\\n\",c,\"\\n\",d)"
   ]
  },
  {
   "cell_type": "markdown",
   "id": "c4f8d3e4-aa67-4aa3-a0cd-3f760c593acb",
   "metadata": {
    "jp-MarkdownHeadingCollapsed": true,
    "tags": []
   },
   "source": [
    "##### 4. Escribir una función que tome una lista y un número n y devuelva otra lista con los elementos de la primera lista rotados n posiciones a la derecha"
   ]
  },
  {
   "cell_type": "code",
   "execution_count": 14,
   "id": "f9acc073-6dae-47d1-8c7a-b62fbdc925d4",
   "metadata": {
    "tags": []
   },
   "outputs": [
    {
     "name": "stdout",
     "output_type": "stream",
     "text": [
      "\n",
      " [3, 1, 23, 4, 7, 2, 5, 8] \n",
      " [23, 4, 7, 2, 5, 8, 3, 1] \n",
      " [1, 23, -4, 7, 2, 0, -8, 3] \n",
      " [5, 6, 7, 8, 9, 0, 1, 2, 3, 4]\n"
     ]
    }
   ],
   "source": [
    "def rotate_right(lst, n):\n",
    "    if len(lst) <= 0:\n",
    "        return None\n",
    "    result = [0] * len(lst)\n",
    "    for i in range(len(lst)):\n",
    "        new_index = (i+n) % len(lst)\n",
    "        result[new_index] = lst[i]\n",
    "    return result\n",
    "#Ejemplos:\n",
    "a = rotate_right([1,23,4,7,2,5,8,3],1)\n",
    "b = rotate_right([1,23,4,7,2,5,8,3],-1)\n",
    "c = rotate_right([1,23,-4,7,2,0,-8,3],len([1,23,-4,7,2,0,-8,3]))\n",
    "d = rotate_right([0,1,2,3,4,5,6,7,8,9],5)\n",
    "print(\"\\n\",a,\"\\n\",b,\"\\n\",c,\"\\n\",d)"
   ]
  },
  {
   "cell_type": "markdown",
   "id": "9b4c38eb-0da6-4b16-9ec9-3ada63fe2d83",
   "metadata": {
    "jp-MarkdownHeadingCollapsed": true,
    "tags": []
   },
   "source": [
    "##### 5. Escribir una función que tome una lista y devuelva otra lista con los elementos de la primera lista intercalados"
   ]
  },
  {
   "cell_type": "code",
   "execution_count": 27,
   "id": "394dfd22-612c-484f-934c-0ec2cc127e32",
   "metadata": {
    "tags": []
   },
   "outputs": [
    {
     "name": "stdout",
     "output_type": "stream",
     "text": [
      "\n",
      " [8, 1, 2, 3, 4, 5, 6, 7] \n",
      " [3, 1, 23, 4, 7, 2, 5, 8] \n",
      " [3, 1, 23, -4, 7, 2, 0, -8] \n",
      " [9, 0, 1, 2, 3, 4, 5, 6, 7, 8]\n"
     ]
    }
   ],
   "source": [
    "def interleave(lst):\n",
    "    if len(lst) <= 0:\n",
    "        return None\n",
    "    result = [0]*len(lst)\n",
    "    for i in range(len(lst)):\n",
    "        new_index = (i+1) % len(lst)\n",
    "        result[new_index] = lst[i]   \n",
    "    return result\n",
    "#Ejemplos:\n",
    "a = interleave([1,2,3,4,5,6,7,8])\n",
    "b = interleave([1,23,4,7,2,5,8,3])\n",
    "c = interleave([1,23,-4,7,2,0,-8,3])\n",
    "d = interleave([0,1,2,3,4,5,6,7,8,9])\n",
    "print(\"\\n\",a,\"\\n\",b,\"\\n\",c,\"\\n\",d)"
   ]
  },
  {
   "cell_type": "markdown",
   "id": "08b4f38c-02d5-47dc-86cb-4ffdd8f63834",
   "metadata": {
    "jp-MarkdownHeadingCollapsed": true,
    "tags": []
   },
   "source": [
    "##### 6. Escribir una función que tome una lista y un número n y devuelva otra lista con los elementos de la primera lista agrupados en sub-listas de tamaño n"
   ]
  },
  {
   "cell_type": "code",
   "execution_count": 47,
   "id": "2386f70f-fbee-4d51-a409-a97fb815ddab",
   "metadata": {
    "tags": []
   },
   "outputs": [
    {
     "name": "stdout",
     "output_type": "stream",
     "text": [
      "\n",
      " [[5, 2], [7, 4], [23, 1]] \n",
      " [[9, 3, 8], [5, 2, 7], [4, 23, 1]] \n",
      " [[3], [-8], [0], [2], [7], [-4], [23], [1]] \n",
      " [[9, 8, 7, 6, 5], [4, 3, 2, 1, 0]]\n"
     ]
    }
   ],
   "source": [
    "def group(lst, n):\n",
    "    if len(lst) >= 0:\n",
    "        return None\n",
    "    result = []\n",
    "    for i in range((len(lst)//n)):\n",
    "        result.append([0]*n)\n",
    "        for k in range(len(result[i])):\n",
    "            result[i][k] = lst.pop()\n",
    "    return result\n",
    "#Ejemplos:\n",
    "a = group([1,23,4,7,2,5],2)\n",
    "b = group([1,23,4,7,2,5,8,3,9],3)\n",
    "c = group([1,23,-4,7,2,0,-8,3],1)\n",
    "d = group([0,1,2,3,4,5,6,7,8,9],5)\n",
    "print(\"\\n\",a,\"\\n\",b,\"\\n\",c,\"\\n\",d)\n"
   ]
  },
  {
   "cell_type": "markdown",
   "id": "951c1f1e-9db1-4193-8eaf-f4df4e0bd825",
   "metadata": {
    "jp-MarkdownHeadingCollapsed": true,
    "tags": []
   },
   "source": [
    "##### 7. Escribir una función que tome dos listas y devuelva una nueva lista con los elementos intercalados de ambas listas"
   ]
  },
  {
   "cell_type": "code",
   "execution_count": 69,
   "id": "b781aa06-ad7b-4e61-8f96-5fe5764e8b25",
   "metadata": {
    "tags": []
   },
   "outputs": [
    {
     "name": "stdout",
     "output_type": "stream",
     "text": [
      "\n",
      " [2, 3, 4, 5, 6, 7, 8, 1] \n",
      " [23, 4, 7, 1, 2, 5, 8, 3, 1] \n",
      " [23, -4, 7, 1, 0, 23, -4, 3, 1] \n",
      " [1, 2, 3, 6, 7, 8, 9, 0]\n"
     ]
    }
   ],
   "source": [
    "def interleave_lists(lst1, lst2):\n",
    "    result = []\n",
    "    if len(lst1) <= 0 or len(lst2)<=0:\n",
    "        return None\n",
    "    lst = lst1 + lst2\n",
    "    result = [0]*len(lst)\n",
    "    for i in range(len(lst)):\n",
    "        new_index = (i-1) % len(lst)\n",
    "        result[new_index] = lst[i]   \n",
    "    return result\n",
    "#Ejemplos:\n",
    "a = interleave_lists([1,2,3,4],[5,6,7,8])\n",
    "b = interleave_lists([1,23,4,7,1],[2,5,8,3])\n",
    "c = interleave_lists([1,23,-4,7],[1,0,23,4-8,3])\n",
    "d = interleave_lists([0,1,2,3],[6,7,8,9])\n",
    "print(\"\\n\",a,\"\\n\",b,\"\\n\",c,\"\\n\",d)"
   ]
  },
  {
   "cell_type": "markdown",
   "id": "5597bfc2-c20c-4010-a852-02fae4ba474c",
   "metadata": {
    "jp-MarkdownHeadingCollapsed": true,
    "tags": []
   },
   "source": [
    "##### 8. Escribir una función que tome una matriz (lista de listas) y devuelva otra matriz con las filas y columnas invertidas (transpuesta)"
   ]
  },
  {
   "cell_type": "code",
   "execution_count": 92,
   "id": "a3d3bfaa-4f9e-4090-926f-2712ac2552f8",
   "metadata": {
    "tags": []
   },
   "outputs": [
    {
     "name": "stdout",
     "output_type": "stream",
     "text": [
      "\n",
      " [[1, 5, 9, 4], [2, 6, 1, 5], [3, 7, 2, 6], [4, 8, 3, 7]] \n",
      " [[1, 0, 2], [0, 1, 2]] \n",
      " [[1, 23, 3], [2, 2, 3], [3, 2, 3]]\n"
     ]
    }
   ],
   "source": [
    "def transpose(matrix):\n",
    "    if len(matrix)<=1:\n",
    "        return None\n",
    "    result = []\n",
    "    fil = len(matrix)\n",
    "    col = len(matrix[0])\n",
    "    \n",
    "    for i in range(col):\n",
    "        result.append([0]*fil)\n",
    "        for j in range(fil):\n",
    "            result[i][j] = matrix[j][i]\n",
    "    return result\n",
    "#Ejemplos:\n",
    "a = transpose([[1,2,3,4],[5,6,7,8],[9,1,2,3],[4,5,6,7]])\n",
    "b = transpose([[1,0],[0,1],[2,2]])\n",
    "d = transpose([[1,2,3],[23,2,2],[3,3,3]])\n",
    "print(\"\\n\",a,\"\\n\",b,\"\\n\",d)\n"
   ]
  },
  {
   "cell_type": "markdown",
   "id": "6414d61e",
   "metadata": {},
   "source": [
    "### Ejercicio 9\n",
    "Escribir una función que reciba una muestra de números en una lista y devuelva un diccionario con su media, varianza y desviación típica"
   ]
  },
  {
   "cell_type": "markdown",
   "id": "236e8b0f",
   "metadata": {},
   "source": [
    "### Ejercicio 10\n",
    "Escribir una función que calcule el máximo común divisor de dos números y otra que calcule el mínimo común múltiplo."
   ]
  },
  {
   "cell_type": "markdown",
   "id": "039ade3d",
   "metadata": {},
   "source": [
    "### Ejercicio 11\n",
    "Escribir una función que convierta un número decimal en binario y otra que convierta un número binario en decimal."
   ]
  },
  {
   "cell_type": "markdown",
   "id": "7d563620",
   "metadata": {},
   "source": [
    "### Ejercicio 12\n",
    "Escribir un programa que reciba una cadena de caracteres y devuelva un diccionario con cada palabra que contiene y su frecuencia. Escribir otra función que reciba el diccionario generado con la función anterior y devuelva una tupla con la palabra más repetida y su frecuencia."
   ]
  },
  {
   "cell_type": "markdown",
   "id": "e073429d",
   "metadata": {},
   "source": [
    "### Ejercicio 13: Primos hermanos:\n",
    "Escriba un programa que dado dos numeros determine si son primo hermanos, un numero es primo hermano de otro si la cantidad de divisores de uno es igual a la cantidad de divisores del otro, la funcion primos_hermanos debera devolver True si cumplen esto y False en caso contrario\n",
    "Si la funcion creada tiene una sola linea de codigo obtendra un punto adicional\n",
    "\n",
    "```python\n",
    "primos_hermanos(4, 2) -> False\n",
    "primos_hermanos(7, 7) -> True\n",
    "primos_hermanos(12, 18) -> True\n",
    "```"
   ]
  },
  {
   "cell_type": "code",
   "execution_count": null,
   "id": "ce7680e7",
   "metadata": {},
   "outputs": [],
   "source": [
    "# Espacio para tu solución\n",
    "def primos_hermanos(n, m):\n",
    "    pass"
   ]
  },
  {
   "cell_type": "markdown",
   "id": "8919cd40",
   "metadata": {},
   "source": [
    "### Ejercicio 14: Factorial:\n",
    "Escribe un programa que dado un numero devuelva su factorial, el factorial de un numero N es la multiplicacion de todos los numeros enteros positivos menores que N y mayores que 0, el factorial de 0 y 1 es 1 por convenio. Obtienen un punto adicional si no usan funciones externas\n",
    "\n",
    "```python\n",
    "factorial(5) -> 120\n",
    "factorial(1) -> 1\n",
    "factorial(0) -> 1\n",
    "```"
   ]
  },
  {
   "cell_type": "code",
   "execution_count": null,
   "id": "4e2c0d05",
   "metadata": {},
   "outputs": [],
   "source": [
    "# Espacio para tu solución\n",
    "def factorial(n):\n",
    "    pass"
   ]
  },
  {
   "cell_type": "markdown",
   "id": "d1d29fda",
   "metadata": {},
   "source": [
    "### Ejercicio 15:\n",
    "La formula para calcular las cantidad de formas en que se pueden combinar __n__ elementos, en conjuntos de tamaño __m__ es: __n!/(m!*(n-m)!)__ crea una funcion que reciba dos numeros y devuelva las combinaciones de n en m.\n",
    "\n",
    "Ejemplo:\n",
    "\n",
    "```python\n",
    "comb = combinaciones(10,4)\n",
    "print(comb)\n",
    "-> 35\n",
    "```"
   ]
  },
  {
   "cell_type": "code",
   "execution_count": null,
   "id": "e74cbb09",
   "metadata": {},
   "outputs": [],
   "source": [
    "def combinaciones(n,m):\n",
    "    pass"
   ]
  },
  {
   "cell_type": "markdown",
   "id": "32e18066",
   "metadata": {},
   "source": [
    "### Ejercicio 16: (extra si usas list comprehention)\n",
    "\n",
    "Dos numeros son equidivisores, si la cantidad de numeros primos que divide al primero es igual a la cantidad de numeros primos que divide al segundo. Haga una funcion que dados 2 numeros devuelva True si estos son equidivisores, o False en caso contrario\n",
    "\n",
    "Ejemplo:\n",
    "\n",
    "```python\n",
    "print(equidivisores(10, 3))\n",
    "-> False\n",
    "print(equidivisores(12, 18))\n",
    "-> True\n",
    "```"
   ]
  },
  {
   "cell_type": "code",
   "execution_count": 1,
   "id": "ff926e12",
   "metadata": {},
   "outputs": [],
   "source": [
    "def equidivisores(n,m):\n",
    "    pass"
   ]
  }
 ],
 "metadata": {
  "kernelspec": {
   "display_name": "Python 3 (ipykernel)",
   "language": "python",
   "name": "python3"
  },
  "language_info": {
   "codemirror_mode": {
    "name": "ipython",
    "version": 3
   },
   "file_extension": ".py",
   "mimetype": "text/x-python",
   "name": "python",
   "nbconvert_exporter": "python",
   "pygments_lexer": "ipython3",
   "version": "3.12.1"
  }
 },
 "nbformat": 4,
 "nbformat_minor": 5
}
