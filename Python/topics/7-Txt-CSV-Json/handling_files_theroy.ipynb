{
 "cells": [
  {
   "cell_type": "markdown",
   "metadata": {},
   "source": [
    "## **Manipulacion de ficheros (`txt-csv-json`)**\n",
    "---\n",
    "[*source*](https://colab.research.google.com/drive/1uEC8YbW2woXc_ImKk5ffiYlsROg9XDjW#scrollTo=W1itYXPiT9Ya&uniqifier=1)"
   ]
  },
  {
   "cell_type": "markdown",
   "metadata": {},
   "source": [
    "### Archivos `txt`\n",
    "---"
   ]
  },
  {
   "cell_type": "markdown",
   "metadata": {},
   "source": [
    "##### Lectura archivos `txt`:\n",
    "Se crea un fichero de extensión `leeme.txt` que tendrá como contenido el string \n",
    "`\"Hola. \n",
    "Soy un string y me están leyendo.\n",
    "Jjksjskjskj\"` \n",
    "guardado en la carpeta `files`.\n",
    "\n",
    "Luego se puede cargar por medio de la función `open()` y los métodos `read()` y `close()`, para abrir, leer y cerrar, respectivamente, el archivo `txt`."
   ]
  },
  {
   "cell_type": "code",
   "execution_count": 27,
   "metadata": {},
   "outputs": [
    {
     "name": "stdout",
     "output_type": "stream",
     "text": [
      "\"Hola. \n",
      "Soy un string y me están leyendo.\n",
      "Jjksjskjskj\" \n",
      "<class 'str'>\n"
     ]
    },
    {
     "data": {
      "text/plain": [
       "<_io.TextIOWrapper name='files/leeme.txt' mode='r' encoding='UTF-8'>"
      ]
     },
     "execution_count": 27,
     "metadata": {},
     "output_type": "execute_result"
    }
   ],
   "source": [
    "f = open(\"files/leeme.txt\")\n",
    "print(f.read(), f\"\\n{type(f.read())}\")\n",
    "f.close()\n",
    "f\n"
   ]
  },
  {
   "cell_type": "markdown",
   "metadata": {},
   "source": [
    "Como parametro `size` del metodo `.read()` se puede insertar un valor entero que determinara hasta que indice del fichero leer."
   ]
  },
  {
   "cell_type": "code",
   "execution_count": 28,
   "metadata": {},
   "outputs": [
    {
     "name": "stdout",
     "output_type": "stream",
     "text": [
      "\"Hola\n"
     ]
    }
   ],
   "source": [
    "f = open(\"files/leeme.txt\")\n",
    "print(f.read(5))\n",
    "f.close()"
   ]
  },
  {
   "cell_type": "markdown",
   "metadata": {},
   "source": [
    "Luego, para la lectura por partes se tiene la funcion `.readline()`, la cual para cada llamada imprime una linea empezando por la primera.\n",
    "\n",
    "Además se considera la alternativa (que es la mas utilizada por ser la mas practica) de emplezar el metodo `with` para el cargado de los archivos (con esta forma no es necesario cerrar el fichero)."
   ]
  },
  {
   "cell_type": "code",
   "execution_count": 29,
   "metadata": {},
   "outputs": [
    {
     "name": "stdout",
     "output_type": "stream",
     "text": [
      "\"Hola. \n",
      "\n",
      "Soy un string y me están leyendo.\n",
      "\n",
      "Jjksj\n"
     ]
    }
   ],
   "source": [
    "with open(\"files/leeme.txt\") as f:\n",
    "    print(f.readline())\n",
    "    print(f.readline())\n",
    "    print(f.readline(5))    # se puede insertar tambien un numero entero como valor del parametro size"
   ]
  },
  {
   "cell_type": "markdown",
   "metadata": {},
   "source": [
    "Y de igual forma se puede utlizar un bucle `for` que itere por saltos de linea."
   ]
  },
  {
   "cell_type": "code",
   "execution_count": 30,
   "metadata": {},
   "outputs": [
    {
     "name": "stdout",
     "output_type": "stream",
     "text": [
      "\"Hola. \n",
      "\n",
      "Soy un string y me están leyendo.\n",
      "\n",
      "Jjksjskjskj\"\n"
     ]
    }
   ],
   "source": [
    "with open(\"files/leeme.txt\") as f:\n",
    "    for line in f:\n",
    "        print(line)"
   ]
  },
  {
   "cell_type": "markdown",
   "metadata": {},
   "source": [
    "##### Escritura:\n",
    "\n",
    "En este tema se parte primero de declarar la posibilidad de incluir los modos de cargado de la funcion `open()`\n",
    "\n",
    "Modos:\n",
    "- **\"r\"** -> solo leer (por defecto)\n",
    "- **\"w\"** -> crear y escribir (si el fichero no existe) o reescribir (si el fichero existe)\n",
    "- **\"x\"** -> crear un txt vacio\n",
    "- **\"a\"** -> actualizar\n",
    "- **etc...**"
   ]
  },
  {
   "cell_type": "markdown",
   "metadata": {},
   "source": [
    "Entonces para la escritura se utiliza el metodo `.write()` de la siguiente forma:"
   ]
  },
  {
   "cell_type": "code",
   "execution_count": 31,
   "metadata": {},
   "outputs": [],
   "source": [
    "with open(\"files/escribeme.txt\", mode=\"w\") as f:\n",
    "    f.write(\"Holaaaa\\nMe estan escribiendoooo\\nwiiiiii\")"
   ]
  },
  {
   "cell_type": "markdown",
   "metadata": {},
   "source": [
    "##### Manipular ficheros y carpetas con el modulo `os`:\n",
    "```python\n",
    "import os\n",
    "```\n",
    "\n",
    "Se emplean principalmente las funciones `os.path(\"ruta\")` para definir una ruta fija. Para verificar si existe se utiliza el metodo `os.path.exists` que devolvera un booleano en funcion de si existe o no. \n",
    "\n",
    "Luego, para eliminar luego de la vericacion se utilizan los metodos `os.remove(\"ruta\")` y `os.rdir(\"ruta\")` para ficheros y carpetas respectivamente."
   ]
  },
  {
   "cell_type": "code",
   "execution_count": 32,
   "metadata": {},
   "outputs": [
    {
     "name": "stdout",
     "output_type": "stream",
     "text": [
      "Me acaban de crear y ahora me van a eliminar\n"
     ]
    },
    {
     "ename": "FileNotFoundError",
     "evalue": "[Errno 2] No such file or directory: '/home/lerne/Almacenamiento/+ Programing/Python/topics/7-Jsons,CSV&SQL/files/token.txt'",
     "output_type": "error",
     "traceback": [
      "\u001b[0;31m---------------------------------------------------------------------------\u001b[0m",
      "\u001b[0;31mFileNotFoundError\u001b[0m                         Traceback (most recent call last)",
      "\u001b[0;32m/tmp/ipykernel_31003/2626214011.py\u001b[0m in \u001b[0;36m<module>\u001b[0;34m\u001b[0m\n\u001b[1;32m      5\u001b[0m     \u001b[0mprint\u001b[0m\u001b[0;34m(\u001b[0m\u001b[0mf\u001b[0m\u001b[0;34m.\u001b[0m\u001b[0mread\u001b[0m\u001b[0;34m(\u001b[0m\u001b[0;34m)\u001b[0m\u001b[0;34m)\u001b[0m\u001b[0;34m\u001b[0m\u001b[0;34m\u001b[0m\u001b[0m\n\u001b[1;32m      6\u001b[0m \u001b[0mpath\u001b[0m \u001b[0;34m=\u001b[0m \u001b[0;34m(\u001b[0m\u001b[0;34m\"/home/lerne/Almacenamiento/+ Programing/Python/topics/7-Jsons,CSV&SQL/files/token.txt\"\u001b[0m\u001b[0;34m)\u001b[0m\u001b[0;34m\u001b[0m\u001b[0;34m\u001b[0m\u001b[0m\n\u001b[0;32m----> 7\u001b[0;31m \u001b[0mos\u001b[0m\u001b[0;34m.\u001b[0m\u001b[0mremove\u001b[0m\u001b[0;34m(\u001b[0m\u001b[0mpath\u001b[0m\u001b[0;34m)\u001b[0m\u001b[0;34m\u001b[0m\u001b[0;34m\u001b[0m\u001b[0m\n\u001b[0m\u001b[1;32m      8\u001b[0m \u001b[0;32mif\u001b[0m \u001b[0mos\u001b[0m\u001b[0;34m.\u001b[0m\u001b[0mpath\u001b[0m\u001b[0;34m.\u001b[0m\u001b[0mexists\u001b[0m\u001b[0;34m(\u001b[0m\u001b[0mpath\u001b[0m\u001b[0;34m)\u001b[0m\u001b[0;34m:\u001b[0m\u001b[0;34m\u001b[0m\u001b[0;34m\u001b[0m\u001b[0m\n\u001b[1;32m      9\u001b[0m     \u001b[0;32mwith\u001b[0m \u001b[0mopen\u001b[0m\u001b[0;34m(\u001b[0m\u001b[0;34m\"files/token.txt\"\u001b[0m\u001b[0;34m,\u001b[0m \u001b[0mmode\u001b[0m\u001b[0;34m=\u001b[0m\u001b[0;34m\"r\"\u001b[0m\u001b[0;34m)\u001b[0m \u001b[0;32mas\u001b[0m \u001b[0mf\u001b[0m\u001b[0;34m:\u001b[0m\u001b[0;34m\u001b[0m\u001b[0;34m\u001b[0m\u001b[0m\n",
      "\u001b[0;31mFileNotFoundError\u001b[0m: [Errno 2] No such file or directory: '/home/lerne/Almacenamiento/+ Programing/Python/topics/7-Jsons,CSV&SQL/files/token.txt'"
     ]
    }
   ],
   "source": [
    "import os\n",
    "with open(\"files/token.txt\", mode=\"w\") as f:\n",
    "    f.write(\"Me acaban de crear y ahora me van a eliminar\")\n",
    "with open(\"files/token.txt\", mode=\"r\") as f:    \n",
    "    print(f.read())\n",
    "path = (\"/home/lerne/Almacenamiento/+ Programing/Python/topics/7-Jsons,CSV&SQL/files/token.txt\")\n",
    "os.remove(path)\n",
    "if os.path.exists(path):\n",
    "    with open(\"files/token.txt\", mode=\"r\") as f:    \n",
    "        print(f.read())\n",
    "else:\n",
    "    print(\"Se ha eliminado el fichero :()\")"
   ]
  },
  {
   "cell_type": "markdown",
   "metadata": {},
   "source": [
    "---"
   ]
  },
  {
   "cell_type": "markdown",
   "metadata": {},
   "source": [
    "### Archivos `CSV` (Coma - Separated - Value)\n",
    "---"
   ]
  },
  {
   "cell_type": "code",
   "execution_count": 14,
   "metadata": {},
   "outputs": [],
   "source": [
    "import csv"
   ]
  },
  {
   "cell_type": "markdown",
   "metadata": {},
   "source": [
    "Empezaremos mostrando como leer un `csv` haciendo uso del método `.reader()` del módulo `csv`.\n",
    "\n",
    "En este caso vamos a trabajar con el archivo `csv_example.csv`. Si abrimos el archivo, veremos que todos los valores están separados por comas y cada observación se encuentra en una línea diferente.\n",
    "\n",
    "Para leerlo, ejecutaremos el siguiente chunk de código:"
   ]
  },
  {
   "cell_type": "code",
   "execution_count": 58,
   "metadata": {},
   "outputs": [
    {
     "name": "stdout",
     "output_type": "stream",
     "text": [
      "['id', 'Name', 'City', 'Age']\n",
      "['1234', 'Arturo', 'Madrid', '22']\n",
      "['2345', 'Beatriz', 'Barcelona', '25']\n",
      "['3456', 'Carlos', 'Sevilla', '18']\n",
      "['4567', 'Dolores', 'Cuenca', '34']\n"
     ]
    }
   ],
   "source": [
    "with open(\"files/9.1 csv_example.csv\", \"r\") as f:\n",
    "    reader = csv.reader(f)\n",
    "    for row in reader:\n",
    "        print(row)"
   ]
  },
  {
   "cell_type": "markdown",
   "metadata": {},
   "source": [
    "##### Cambiando el separador:\n",
    "\n",
    "Por defecto, los archivos `csv` tienen como delimitador la coma `,`. No obstante, algunos archivos `csv` usan otros delimitadores. Las alternativas más populares a la coma suelen ser `|` o `\\t`.\n",
    "\n",
    "Observemos el archivo `csv_delimiter_example.csv`, donde esta vez sus elementos están separados por tabuladores, `\\t`.\n",
    "\n",
    "El método `.reader()` nos permite configurar dicho separador con el parámetro `delimiter`."
   ]
  },
  {
   "cell_type": "code",
   "execution_count": 60,
   "metadata": {},
   "outputs": [
    {
     "name": "stdout",
     "output_type": "stream",
     "text": [
      "['id|Name|City|Age']\n",
      "['1234|Arturo|Madrid|22']\n",
      "['2345|Beatriz|Barcelona|25']\n",
      "['3456|Carlos|Sevilla|18']\n",
      "['4567|Dolores|Cuenca|34']\n"
     ]
    }
   ],
   "source": [
    "with open(\"files/10.1 csv_delimiter_example.csv\", \"r\") as f:\n",
    "    reader = csv.reader(f, delimiter = \"|\")\n",
    "    for row in reader:\n",
    "        print(row)"
   ]
  },
  {
   "cell_type": "markdown",
   "metadata": {},
   "source": [
    "#### Eliminando espacios adicionales\n",
    "\n",
    "A veces puede ocurrir que algunos `csv` tengan un espacio en blanco tras el delimitador, cosa que se ve reflejado al leer los datos.\n",
    "\n",
    "Para eliminar estos espacios en blanco adicionales, el método `.reader()` trae el parámetro `skipinitialspace`. Si lo igualamos a `True`, los espacios adicionales desaparecerán.\n",
    "\n",
    "Observemos que el archivo `csv_spaces_example.csv` tiene espacios en blanco adicionales tras el separador, que es la coma. Veamos la diferencia entre igualar el parámetro `skipinitialspace` a `True` o a `False`."
   ]
  },
  {
   "cell_type": "code",
   "execution_count": 65,
   "metadata": {},
   "outputs": [
    {
     "name": "stdout",
     "output_type": "stream",
     "text": [
      "['id', ' Name', ' City', ' Age']\n",
      "['1234', ' Arturo', ' Madrid', ' 22']\n",
      "['2345', ' Beatriz', ' Barcelona', ' 25']\n",
      "['3456', ' Carlos', ' Sevilla', ' 18']\n",
      "['4567', ' Dolores', ' Cuenca', ' 34']\n"
     ]
    }
   ],
   "source": [
    "# skipinitialspace = False (valor por defecto)\n",
    "with open(\"files/11.2 csv_spaces_example.csv\", \"r\") as f:\n",
    "    reader = csv.reader(f, skipinitialspace = False)\n",
    "    for row in reader:\n",
    "        print(row)"
   ]
  },
  {
   "cell_type": "markdown",
   "metadata": {},
   "source": [
    "**Observación.** Salvo la primera entrada de cada fila, todas tienen un espacio inicial adicional."
   ]
  },
  {
   "cell_type": "code",
   "execution_count": null,
   "metadata": {},
   "outputs": [],
   "source": [
    "# skipinitialspace = False (valor por defecto)\n",
    "with open(\"files/11.2 csv_spaces_example.csv\", \"r\") as f:\n",
    "    reader = csv.reader(f, skipinitialspace = True)\n",
    "    for row in reader:\n",
    "        print(row)"
   ]
  },
  {
   "cell_type": "markdown",
   "metadata": {},
   "source": [
    "#### Comillas en las entradas\n",
    "\n",
    "Algunos archivos `csv` puede que tengan entradas entre comillas. Si no indicamos nada, por defecto aparecerán las comillas en las entradas tras haber leído el fichero.\n",
    "\n",
    "Si en cambio queremos deshacernos de ellas, disponemos del parámetro `quoting`, que admite diferentes valores:\n",
    "\n",
    "* `csv.QUOTE_ALL`: indica al objeto `reader` que todos los valores en el archivo `csv` están entre comillas\n",
    "* `csv.QUOTE_MINIMAL`: indica al objeto `reader` que los valores en el archivo `csv` que están entre comillas son entradas que contienen caracteres como el delimitador, comillas o cualquier caracter de terminación de línea\n",
    "* `csv.QUOTE_NONNUMERIC`: indica al objeto `reader` que los valores en el archivo `csv` que están entre comillas son entradas que contienen entradas no-numéricas\n",
    "* `csv.QUOTE_NONE`: indica al objeto `reader` que ninguno los valores en el archivo `csv` están entre comillas\n",
    "\n",
    "Observemos el archivo `csv_quotation_example.csv`, donde las observaciones entre comillas son aquellas que no tienen valores numéricos. En este caso, nos convendría usar la opción `csv.QUOTE_NONNUMERIC`"
   ]
  },
  {
   "cell_type": "code",
   "execution_count": 66,
   "metadata": {},
   "outputs": [
    {
     "name": "stdout",
     "output_type": "stream",
     "text": [
      "['id', 'Name', 'City', 'Age']\n",
      "[1234.0, 'Arturo', 'Madrid', 22.0]\n",
      "[2345.0, 'Beatriz', 'Barcelona', 25.0]\n",
      "[3456.0, 'Carlos', 'Sevilla', 18.0]\n",
      "[4567.0, 'Dolores', 'Cuenca', 34.0]\n"
     ]
    }
   ],
   "source": [
    "import csv\n",
    "with open(\"files/12.2 csv_quotation_example.csv\", \"r\") as f:\n",
    "    reader = csv.reader(f, quoting = csv.QUOTE_NONNUMERIC)\n",
    "    for row in reader:\n",
    "        print(row)"
   ]
  },
  {
   "cell_type": "markdown",
   "metadata": {},
   "source": [
    "**Observación:** Las entradas numéricas han dejado de ser leídas como strings y han pasado a ser consideradas entradas de tipo `float`.\n",
    "\n",
    "Si en cambio hubiésemos usado la opción `csv.QUOTATE_ALL`, no hubiésemos obtenido ningún error, pero las entradas numéricas habrían sido tratadas como `string`."
   ]
  },
  {
   "cell_type": "code",
   "execution_count": 22,
   "metadata": {},
   "outputs": [
    {
     "name": "stdout",
     "output_type": "stream",
     "text": [
      "['id', 'Name', 'City', 'Age']\n",
      "['1234', 'Arturo', 'Madrid', '22']\n",
      "['2345', 'Beatriz', 'Barcelona', '25']\n",
      "['3456', 'Carlos', 'Sevilla', '18']\n",
      "['4567', 'Dolores', 'Cuenca', '34']\n"
     ]
    }
   ],
   "source": [
    "import csv\n",
    "with open(\"files/12.2 csv_quotation_example.csv\", \"r\") as f:\n",
    "    reader = csv.reader(f, quoting = csv.QUOTE_ALL)\n",
    "    for row in reader:\n",
    "        print(row)"
   ]
  },
  {
   "cell_type": "markdown",
   "metadata": {},
   "source": [
    "#### Dialectos\n",
    "\n",
    "Hasta ahora solamente hemos usado uno de los parámetros cada vez, pero podría darse el caso de que tuviésemos un csv con un delimitador distinto a la coma, con espacios adicionales y entradas entrecomilladas a causa de contener delimitadores o finales de línea.\n",
    "\n",
    "Una opción sería indicar todos los parámetros a la función, pero existe una alternativa que nos será muy útil en caso de no estar tratando con un solo archivo `csv` sino con múltiples con formatos similares. Es el caso de los dialectos.\n",
    "\n",
    "Los dialectos ayudan a agrupar patrones de formato específicos como el delimitador, las comillas, los espacios adicionales tras los delimitadores...\n",
    "\n",
    "En caso de querer usar nuestro dialecto personalizado, `.reader()` nos ofrece el parámetros `dialect` al cual podemos pasarle dicho dialecto.\n",
    "\n",
    "Consideremos el archivo `csv_dialect_example.csv`, el cual tiene el delimitador `|`, espacios adicionales y todos sus valores no numéricos entrecomillados.\n",
    "\n",
    "En vez de indicar todos esos parámetros al método `.reader()`, vamos a crear nuestro dialecto, `my_dialect`, con el método `.register_dialect()` y se lo vamos a pasar al parámetro `dialect` de `.reader()` "
   ]
  },
  {
   "cell_type": "code",
   "execution_count": 23,
   "metadata": {},
   "outputs": [
    {
     "name": "stdout",
     "output_type": "stream",
     "text": [
      "['id', 'Name', 'City', 'Age']\n",
      "[1234.0, 'Arturo', 'Madrid', 22.0]\n",
      "[2345.0, 'Beatriz', 'Barcelona', 25.0]\n",
      "[3456.0, 'Carlos', 'Sevilla', 18.0]\n",
      "[4567.0, 'Dolores', 'Cuenca', 34.0]\n"
     ]
    }
   ],
   "source": [
    "import csv\n",
    "csv.register_dialect(\"my_dialect\",\n",
    "                     delimiter = \"|\",\n",
    "                     skipinitialspace = True,\n",
    "                     quoting = csv.QUOTE_NONNUMERIC)\n",
    "\n",
    "with open(\"files/13.1 csv_dialect_example.csv\", \"r\") as f:\n",
    "    reader = csv.reader(f, dialect = \"my_dialect\")\n",
    "    for row in reader:\n",
    "        print(row)"
   ]
  },
  {
   "cell_type": "markdown",
   "metadata": {},
   "source": [
    "Al método `.register_dialect()` en primer lugar le hemos dado un nombre en formato `string` y luego hemos configurado los parámetros `delimiter`, `skipinitialspace` y `quoting`. \n",
    "\n",
    "A continuación, al método `.reader()` le hemos pasado el nombre del dialecto, `my_dialect`, al parámetro `dialect` y se ha leído el archivo correctamente.\n",
    "\n",
    "Una vez creado el dialecto personalizado, podemos usarlo tantas veces como queramos para abrir y leer archivos `csv` con el mismo formato, en este caso, que `csv_dialect_example.csv`."
   ]
  },
  {
   "cell_type": "markdown",
   "metadata": {},
   "source": [
    "#### Diccionarios y `csv`\n",
    "\n",
    "En este caso vamos a trabajar de nuevo con el archivo `csv_example.csv`. \n",
    "\n",
    "Para leerlo, usaremos el método `.DictReader()` del módulo `csv`, lo que nos devolverá un objeto `OrderedDict`, que es iterable."
   ]
  },
  {
   "cell_type": "code",
   "execution_count": 24,
   "metadata": {},
   "outputs": [
    {
     "name": "stdout",
     "output_type": "stream",
     "text": [
      "{'id': '1234', 'Name': 'Arturo', 'City': 'Madrid', 'Age': '22'}\n",
      "{'id': '2345', 'Name': 'Beatriz', 'City': 'Barcelona', 'Age': '25'}\n",
      "{'id': '3456', 'Name': 'Carlos', 'City': 'Sevilla', 'Age': '18'}\n",
      "{'id': '4567', 'Name': 'Dolores', 'City': 'Cuenca', 'Age': '34'}\n"
     ]
    }
   ],
   "source": [
    "import csv\n",
    "with open(\"files/9.1 csv_example.csv\", \"r\") as f:\n",
    "    reader = csv.DictReader(f)\n",
    "    for row in reader:\n",
    "        print(row)"
   ]
  },
  {
   "cell_type": "markdown",
   "metadata": {},
   "source": [
    "**Observación.** Podríamos usar la función `dict()` dentro del `print()` para mostrar los objetos `OrderedDict` como diccionarios."
   ]
  },
  {
   "cell_type": "code",
   "execution_count": 21,
   "metadata": {},
   "outputs": [
    {
     "name": "stdout",
     "output_type": "stream",
     "text": [
      "{'id': '1234', 'Name': 'Arturo', 'City': 'Madrid', 'Age': '22'}\n",
      "{'id': '2345', 'Name': 'Beatriz', 'City': 'Barcelona', 'Age': '25'}\n",
      "{'id': '3456', 'Name': 'Carlos', 'City': 'Sevilla', 'Age': '18'}\n",
      "{'id': '4567', 'Name': 'Dolores', 'City': 'Cuenca', 'Age': '34'}\n"
     ]
    }
   ],
   "source": [
    "import csv\n",
    "with open(\"files/9.1 csv_example.csv\", \"r\") as f:\n",
    "    reader = csv.DictReader(f)\n",
    "    for row in reader:\n",
    "        print(dict(row))"
   ]
  },
  {
   "cell_type": "markdown",
   "metadata": {},
   "source": [
    "**Observación.** Si se usa una versión de `Python` 3.8 o superior, podría ser que no fuera necesario usar la función `dict()` pues el resultado de `.DictReader()` ya sería un diccionario."
   ]
  },
  {
   "cell_type": "markdown",
   "metadata": {},
   "source": [
    "#### Escribiendo `csv`\n",
    "\n",
    "Para crear y escribir un `csv` usamos la función `open()` junto al método `csv.writer()`:"
   ]
  },
  {
   "cell_type": "code",
   "execution_count": 26,
   "metadata": {},
   "outputs": [],
   "source": [
    "import csv\n",
    "data = [[\"id\", \"Name\", \"City\", \"Age\"], \n",
    "        [1234, \"Arturo\", \"Madrid\", 22], \n",
    "        [2345, \"Beatriz\", \"Barcelona\", 25],\n",
    "        [3456, \"Carlos\", \"Sevilla\", 18], \n",
    "        [4567, \"Dolores\", \"Cuenca\", 34]]\n",
    "\n",
    "with open(\"files/csv_write.csv\", \"w\") as f:\n",
    "  writer = csv.writer(f)\n",
    "  for row in data:\n",
    "    writer.writerow(row)"
   ]
  },
  {
   "cell_type": "markdown",
   "metadata": {},
   "source": [
    "Si ahora vamos a la carpeta datasets, observaremos que ha aparecido un nuevo archivo llamado `csv_write.csv` el cual contiene como valores las entradas de la lista `data`, donde cada sublista corresponde a una fila del `csv` gracias al bucle `for` y al método `.writerow()`.\n",
    "\n",
    "Podríamos haber obtenido exactamente el mismo resultado sin haber usado un bucle, lo que para ello tendríamos que haber hecho uso del método `.writerows()`."
   ]
  },
  {
   "cell_type": "code",
   "execution_count": null,
   "metadata": {},
   "outputs": [],
   "source": [
    "with open(\"/content/drive/MyDrive/python-basico/datasets/csv_write_writerows.csv\", \"w\") as f:\n",
    "  writer = csv.writer(f)\n",
    "  writer.writerows(data)"
   ]
  },
  {
   "cell_type": "markdown",
   "metadata": {},
   "source": [
    "Si ahora vamos a la carpeta files, observaremos que ha aparecido un nuevo archivo llamado csv_write_writerows.csv el cual contiene como valores las entradas de la lista data, donde cada sublista corresponde a una fila del csv gracias al método .writerows()."
   ]
  },
  {
   "cell_type": "markdown",
   "metadata": {},
   "source": [
    "#### Diccionarios y csv\n",
    "\n",
    "También podemos escribir un `csv` a partir de un diccionario. Para ello tendremos que usar el método `.DictWriter()`."
   ]
  },
  {
   "cell_type": "code",
   "execution_count": null,
   "metadata": {},
   "outputs": [],
   "source": [
    "data = [{\"id\": 1234, \"Name\": \"Arturo\", \"City\": \"Madrid\", \"Age\": 22},\n",
    "        {\"id\": 2345, \"Name\": \"Beatriz\", \"City\": \"Barcelona\", \"Age\": 25},\n",
    "        {\"id\": 3456, \"Name\": \"Carlos\", \"City\": \"Sevilla\", \"Age\": 18},\n",
    "        {\"id\": 4567, \"Name\": \"Dolores\", \"City\": \"Cuenca\", \"Age\": 34}]\n",
    "\n",
    "# La cabecera es la lista de las keys de cualquiera de las entradas de data\n",
    "header = list(data[0].keys())\n",
    "\n",
    "with open(\"/content/drive/MyDrive/python-basico/datasets/csv_write_dict.csv\", \"w\") as f:\n",
    "  writer = csv.DictWriter(f, fieldnames = header)\n",
    "  \n",
    "  writer.writeheader()\n",
    "  for d in data:\n",
    "    writer.writerow(d)"
   ]
  },
  {
   "cell_type": "markdown",
   "metadata": {},
   "source": [
    "En este caso, los datos están guardado en una lista de diccionarios llamada `data`. A continuación guardamos la cabecera en la variable `header` como una lista de los nombres de las variables.\n",
    "\n",
    "Abrimos (y creamos) el archivo `csv_write_dict.csv` y creamos el objeto `writer` con el método `.DictWriter()` al cual le pasamos la cabecera `header` mediante el parámetro `fieldnames`.\n",
    "\n",
    "Finalmente, escribimos en primer lugar la cabecera con el método `.writeheader()` y luego, con la ayuda de un bucle `for`, cada observación, correspondiente a cada uno de los diccionarios de la lista `data`, en una fila diferente con el método `.writerow()`.\n",
    "\n",
    "Podríamos haber obtenido el mismo resultado sin usar ningún bucle, pero haciendo uso del método `.writerows()`"
   ]
  },
  {
   "cell_type": "code",
   "execution_count": null,
   "metadata": {},
   "outputs": [],
   "source": [
    "with open(\"/content/drive/MyDrive/python-basico/datasets/csv_write_dict_writerows.csv\", \"w\") as f:\n",
    "  writer = csv.DictWriter(f, fieldnames = header)\n",
    "  \n",
    "  writer.writeheader()\n",
    "  writer.writerows(data)"
   ]
  },
  {
   "cell_type": "markdown",
   "metadata": {},
   "source": [
    "Observamos que efectivamente tanto el archivo `csv_write_dict.csv` como `csv_write_dict_writerows.csv` son idénticos."
   ]
  }
 ],
 "metadata": {
  "kernelspec": {
   "display_name": "Python 3",
   "language": "python",
   "name": "python3"
  },
  "language_info": {
   "codemirror_mode": {
    "name": "ipython",
    "version": 3
   },
   "file_extension": ".py",
   "mimetype": "text/x-python",
   "name": "python",
   "nbconvert_exporter": "python",
   "pygments_lexer": "ipython3",
   "version": "3.10.12"
  }
 },
 "nbformat": 4,
 "nbformat_minor": 2
}
