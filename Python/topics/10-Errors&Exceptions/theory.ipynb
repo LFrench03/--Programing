{
 "cells": [
  {
   "cell_type": "markdown",
   "metadata": {},
   "source": [
    "## <l style=\"color:red\">**❌ Errores y excepciones ❌**</l>\n",
    "---\n",
    "[source](https://colab.research.google.com/drive/1YOqgbGTXk0GlhEhclTP3VNhLQWDDlvYG#scrollTo=40_Es241LJSF)\n",
    "\n",
    "A lo largo de este tema vamos a aprender sobre los diferentes tipos de errores y excepciones que existen en <l style=\"color:blue;\">Python</l>. Tanto los errores como las excepciones saltan cuando el intérprete de <l style=\"color:blue;\">Python</l> encuentra algún error.\n",
    "\n",
    "Es completamente normal cometer ciertos errores mientras se escribe un programa. Estos fallos conducen a errores cuando tratamos de ejecutar dicho programa. La ejecución termina al instante de encontrar alguno de esos fallos, que pueden ser de dos tipos:\n",
    "\n",
    "1. Error de sintaxis\n",
    "2. Excepción (error de lógica)"
   ]
  },
  {
   "cell_type": "markdown",
   "metadata": {},
   "source": [
    "#### <l style=\"color:red\">Errores de sintaxis:</l>\n",
    "\n",
    "Ocurre cuando no se sigue la sintaxis correcta del lenguaje. Un error de sintaxis ocurre cuando nos dejamos un paréntesis sin cerrar, los dos puntos tras la condición de un operador de decisión o iteración, etc..."
   ]
  },
  {
   "cell_type": "code",
   "execution_count": 4,
   "metadata": {},
   "outputs": [
    {
     "ename": "SyntaxError",
     "evalue": "invalid syntax (1708841795.py, line 2)",
     "output_type": "error",
     "traceback": [
      "\u001b[0;36m  File \u001b[0;32m\"/tmp/ipykernel_32773/1708841795.py\"\u001b[0;36m, line \u001b[0;32m2\u001b[0m\n\u001b[0;31m    if (a > 3 :\u001b[0m\n\u001b[0m              ^\u001b[0m\n\u001b[0;31mSyntaxError\u001b[0m\u001b[0;31m:\u001b[0m invalid syntax\n"
     ]
    }
   ],
   "source": [
    "a = 2\n",
    "if (a > 3 : \n",
    "    print(a)"
   ]
  },
  {
   "cell_type": "markdown",
   "metadata": {},
   "source": [
    "Como podemos observar, ha saltado una excepción, `NameError`, debido a que nos hemos llamado a una variable que no existe. Además, el propio error nos indica a qué es debido y dónde tenemos que modificar el código para corregir el fallo."
   ]
  },
  {
   "cell_type": "markdown",
   "metadata": {},
   "source": [
    "#### <l style=\"color:red\">Excepciones:</l>\n",
    "\n",
    "Existen múltiples excepciones en <l style=\"color:blue;\">Python</l> que se nos muestran cuando se dan los errores correspondientes. Podemos mostrar por pantalla todas las excepciones de <l style=\"color:blue;\">Python</l> usando la función `locals()` tal y como se muestra a continuación"
   ]
  },
  {
   "cell_type": "code",
   "execution_count": 5,
   "metadata": {},
   "outputs": [
    {
     "name": "stdout",
     "output_type": "stream",
     "text": [
      "ArithmeticError\n",
      "AssertionError\n",
      "AttributeError\n",
      "BaseException\n",
      "BlockingIOError\n",
      "BrokenPipeError\n",
      "BufferError\n",
      "BytesWarning\n",
      "ChildProcessError\n",
      "ConnectionAbortedError\n",
      "ConnectionError\n",
      "ConnectionRefusedError\n",
      "ConnectionResetError\n",
      "DeprecationWarning\n",
      "EOFError\n",
      "Ellipsis\n",
      "EncodingWarning\n",
      "EnvironmentError\n",
      "Exception\n",
      "False\n",
      "FileExistsError\n",
      "FileNotFoundError\n",
      "FloatingPointError\n",
      "FutureWarning\n",
      "GeneratorExit\n",
      "IOError\n",
      "ImportError\n",
      "ImportWarning\n",
      "IndentationError\n",
      "IndexError\n",
      "InterruptedError\n",
      "IsADirectoryError\n",
      "KeyError\n",
      "KeyboardInterrupt\n",
      "LookupError\n",
      "MemoryError\n",
      "ModuleNotFoundError\n",
      "NameError\n",
      "None\n",
      "NotADirectoryError\n",
      "NotImplemented\n",
      "NotImplementedError\n",
      "OSError\n",
      "OverflowError\n",
      "PendingDeprecationWarning\n",
      "PermissionError\n",
      "ProcessLookupError\n",
      "RecursionError\n",
      "ReferenceError\n",
      "ResourceWarning\n",
      "RuntimeError\n",
      "RuntimeWarning\n",
      "StopAsyncIteration\n",
      "StopIteration\n",
      "SyntaxError\n",
      "SyntaxWarning\n",
      "SystemError\n",
      "SystemExit\n",
      "TabError\n",
      "TimeoutError\n",
      "True\n",
      "TypeError\n",
      "UnboundLocalError\n",
      "UnicodeDecodeError\n",
      "UnicodeEncodeError\n",
      "UnicodeError\n",
      "UnicodeTranslateError\n",
      "UnicodeWarning\n",
      "UserWarning\n",
      "ValueError\n",
      "Warning\n",
      "ZeroDivisionError\n",
      "__IPYTHON__\n",
      "__build_class__\n",
      "__debug__\n",
      "__doc__\n",
      "__import__\n",
      "__loader__\n",
      "__name__\n",
      "__package__\n",
      "__spec__\n",
      "abs\n",
      "aiter\n",
      "all\n",
      "anext\n",
      "any\n",
      "ascii\n",
      "bin\n",
      "bool\n",
      "breakpoint\n",
      "bytearray\n",
      "bytes\n",
      "callable\n",
      "chr\n",
      "classmethod\n",
      "compile\n",
      "complex\n",
      "copyright\n",
      "credits\n",
      "delattr\n",
      "dict\n",
      "dir\n",
      "display\n",
      "divmod\n",
      "enumerate\n",
      "eval\n",
      "exec\n",
      "execfile\n",
      "filter\n",
      "float\n",
      "format\n",
      "frozenset\n",
      "get_ipython\n",
      "getattr\n",
      "globals\n",
      "hasattr\n",
      "hash\n",
      "help\n",
      "hex\n",
      "id\n",
      "input\n",
      "int\n",
      "isinstance\n",
      "issubclass\n",
      "iter\n",
      "len\n",
      "license\n",
      "list\n",
      "locals\n",
      "map\n",
      "max\n",
      "memoryview\n",
      "min\n",
      "next\n",
      "object\n",
      "oct\n",
      "open\n",
      "ord\n",
      "pow\n",
      "print\n",
      "property\n",
      "range\n",
      "repr\n",
      "reversed\n",
      "round\n",
      "runfile\n",
      "set\n",
      "setattr\n",
      "slice\n",
      "sorted\n",
      "staticmethod\n",
      "str\n",
      "sum\n",
      "super\n",
      "tuple\n",
      "type\n",
      "vars\n",
      "zip\n"
     ]
    }
   ],
   "source": [
    "for i in dir(locals()['__builtins__']):\n",
    "  print(i)"
   ]
  },
  {
   "cell_type": "markdown",
   "metadata": {},
   "source": [
    "`locals[\"__builtins__\"]` nos devuelve el módulo con las excepciones, funciones y atributos de <l style=\"color:blue;\">Python</l> . La función `dir()` nos permite listar todos esos elementos como strings.\n",
    "\n",
    "Algunas de las excepciones de <l style=\"color:blue;\">Python</l> más comunes al programar son:\n",
    "\n",
    "| Excepción | Causa |\n",
    "| :---: | :--- |\n",
    "| `ArithmeticError` | Cuando falla una operación numérica |\n",
    "| `AssertionError` | Cuando falla una declaración `assert` |\n",
    "| `AtributeError` | Cuando falla una asignación de atributo o referencia |\n",
    "| `EOFError` | Cuando la función `input()` llega a la condición fin de archivo (end-of-file) |\n",
    "| `FloatingPointError` | Cuando falla una operación en coma flotante |\n",
    "| `ImportError` | Cuando un módulo importando no es encontrado |\n",
    "| `IndentationError` | Cuando la indentación no es correcta |\n",
    "| `IndexError` | Cuando el índice de una secuencia se sale del rango |\n",
    "| `KeyError` | Cuando una clave de un diccionario no es encontrada |\n",
    "| `KeyboardInterrupt` | Cuando el usuario pulsa la tecla de interrupción |\n",
    "| `LookupError` | Cuando el error no puede ser encontrado |\n",
    "| `MemoryError` | Cuando una operación se queda sin memoria |\n",
    "| `NameError` | Cuando se llama a una variable que no se encuentra a nivel global ni local |\n",
    "| `NotImplementedError` | Cuando un método abstracto requiere de una clase heredada para sobreescribir el método |\n",
    "| `OverflowError` | Cuando el resultado de una operación aritmética es demasiado grande para ser representado |\n",
    "| `RuntimeError` | Cuando un error no entra dentro de ninguna categoría |\n",
    "| `TabError` | Cuando la indentación consiste de tabulaciones y espacios en blanco inconsistentes |\n",
    "| `TypeError` | Cuando a una función u operación se le suministra un objeto de tipo incorrecto |\n",
    "| `ValueError` | Cuando una función obtiene un argumento del tipo correcto pero de valor incorrecto |\n",
    "| `ZeroDivisionError` | Cuando el divisor de una división es 0 |"
   ]
  },
  {
   "cell_type": "markdown",
   "metadata": {},
   "source": [
    "#### Manejo de excepciones:\n",
    "\n",
    "Como programadores, necesitamos ser lo más específicos posible. Esto implica ser conscientes de los errores que podrían ocurrir. Por suerte,  <l style=\"color:blue;\">Python</l> permite a los programadores tratar con errores de forma eficiente.\n",
    "\n",
    "Podemos manejar excepciones usando 5 sentencias:\n",
    "\n",
    "1. `try / except`\n",
    "2. `try / finally`\n",
    "3. `assert`\n",
    "4. `raise`\n",
    "5. `with / as`\n",
    " "
   ]
  },
  {
   "cell_type": "markdown",
   "metadata": {},
   "source": [
    "##### 1. `try / except`\n",
    "\n",
    "* El bloque `try` permite comprobar si hay errores de código.\n",
    "* El bloque `except` permite manejar el error.\n",
    "\n",
    "En el siguiente chunk, en caso de que ocurra el error, imprimimos un mensaje por pantalla:"
   ]
  },
  {
   "cell_type": "code",
   "execution_count": 6,
   "metadata": {},
   "outputs": [
    {
     "name": "stdout",
     "output_type": "stream",
     "text": [
      "¡Has querido dividir entre 0!\n"
     ]
    }
   ],
   "source": [
    "a, b = 5, 0\n",
    "\n",
    "try:\n",
    "  print(a / b)\n",
    "except ZeroDivisionError:\n",
    "  print(\"¡Has querido dividir entre 0!\")"
   ]
  },
  {
   "cell_type": "markdown",
   "metadata": {},
   "source": [
    "Sin `try /except`, hubiéramos obtenido"
   ]
  },
  {
   "cell_type": "code",
   "execution_count": 7,
   "metadata": {},
   "outputs": [
    {
     "ename": "ZeroDivisionError",
     "evalue": "division by zero",
     "output_type": "error",
     "traceback": [
      "\u001b[0;31m---------------------------------------------------------------------------\u001b[0m",
      "\u001b[0;31mZeroDivisionError\u001b[0m                         Traceback (most recent call last)",
      "\u001b[0;32m/tmp/ipykernel_32773/3030321709.py\u001b[0m in \u001b[0;36m<module>\u001b[0;34m\u001b[0m\n\u001b[1;32m      1\u001b[0m \u001b[0ma\u001b[0m\u001b[0;34m,\u001b[0m \u001b[0mb\u001b[0m \u001b[0;34m=\u001b[0m \u001b[0;36m5\u001b[0m\u001b[0;34m,\u001b[0m \u001b[0;36m0\u001b[0m\u001b[0;34m\u001b[0m\u001b[0;34m\u001b[0m\u001b[0m\n\u001b[0;32m----> 2\u001b[0;31m \u001b[0mprint\u001b[0m\u001b[0;34m(\u001b[0m\u001b[0ma\u001b[0m \u001b[0;34m/\u001b[0m \u001b[0mb\u001b[0m\u001b[0;34m)\u001b[0m\u001b[0;34m\u001b[0m\u001b[0;34m\u001b[0m\u001b[0m\n\u001b[0m",
      "\u001b[0;31mZeroDivisionError\u001b[0m: division by zero"
     ]
    }
   ],
   "source": [
    "a, b = 5, 0\n",
    "print(a / b)"
   ]
  },
  {
   "cell_type": "markdown",
   "metadata": {},
   "source": [
    "Podríamos poner más de un bloque `except`"
   ]
  },
  {
   "cell_type": "code",
   "execution_count": 8,
   "metadata": {},
   "outputs": [
    {
     "name": "stdout",
     "output_type": "stream",
     "text": [
      "Algo más ha salido mal\n"
     ]
    }
   ],
   "source": [
    "a, b = \"a\", 0\n",
    "\n",
    "try:\n",
    "  print(a / b)\n",
    "except ZeroDivisionError:\n",
    "  print(\"¡Has querido dividir entre 0!\")\n",
    "except:\n",
    "  print(\"Algo más ha salido mal\")"
   ]
  },
  {
   "cell_type": "markdown",
   "metadata": {},
   "source": [
    "En el chunk anterior hemos intentado dividir un string entre 0. Por tanto, la execpción ya no se debe a intentar dividir entre 0, sino a otro motivo: que un string no puede ser el dividendo de la división.\n",
    "\n",
    "También podemos combinar `try / except` con `else`:"
   ]
  },
  {
   "cell_type": "code",
   "execution_count": 9,
   "metadata": {},
   "outputs": [
    {
     "name": "stdout",
     "output_type": "stream",
     "text": [
      "2.5\n",
      "Nada ha salido mal\n"
     ]
    }
   ],
   "source": [
    "a, b = 5, 2\n",
    "\n",
    "try:\n",
    "  print(a / b)\n",
    "except ZeroDivisionError:\n",
    "  print(\"¡Has querido dividir entre 0!\")\n",
    "else:\n",
    "  print(\"Nada ha salido mal\")"
   ]
  },
  {
   "cell_type": "markdown",
   "metadata": {},
   "source": [
    "El bloque `else` se ejecutará siempre y cuando no haya excepciones, junto al bloque `try`, tal cual ocurre en el ejemplo anterior."
   ]
  },
  {
   "cell_type": "markdown",
   "metadata": {},
   "source": [
    "##### 2. `try / finally`\n",
    "\n",
    "* El bloque `try` permite comprobar si hay errores de código.\n",
    "* El bloque `finally` permite ejecutar el código a pesar del resultado de los bloques `try` y `except`."
   ]
  },
  {
   "cell_type": "code",
   "execution_count": 10,
   "metadata": {},
   "outputs": [
    {
     "name": "stdout",
     "output_type": "stream",
     "text": [
      "Algo ha salido mal\n",
      "El proceso try / except ha finalizado\n"
     ]
    }
   ],
   "source": [
    "a, b = 5, 0\n",
    "\n",
    "try:\n",
    "  print(a / b)\n",
    "except:\n",
    "  print(\"Algo ha salido mal\")\n",
    "finally:\n",
    "  print(\"El proceso try / except ha finalizado\")"
   ]
  },
  {
   "cell_type": "code",
   "execution_count": 11,
   "metadata": {},
   "outputs": [
    {
     "name": "stdout",
     "output_type": "stream",
     "text": [
      "2.5\n",
      "El proceso try / except ha finalizado\n"
     ]
    }
   ],
   "source": [
    "a, b = 5, 2\n",
    "\n",
    "try:\n",
    "  print(a / b)\n",
    "except:\n",
    "  print(\"Algo ha salido mal\")\n",
    "finally:\n",
    "  print(\"El proceso try / except ha finalizado\")"
   ]
  },
  {
   "cell_type": "markdown",
   "metadata": {},
   "source": [
    "Sea cual sea el caso, el bloque `finally` siempre se ejecuta. \n",
    "\n",
    "El bloque `finally` puede ser útil para cerrar objetos y limpiar recursos."
   ]
  },
  {
   "cell_type": "markdown",
   "metadata": {},
   "source": [
    "##### 3. `assert`\n",
    "\n",
    "La palabra reservada `assert` se utiliza para debuguear el código. Nos permite comprobar si una condición en nuestro código devuelve `True`. De lo contrario, el programa nos devolverá un `AssertionError`\n"
   ]
  },
  {
   "cell_type": "code",
   "execution_count": 12,
   "metadata": {},
   "outputs": [],
   "source": [
    "x = \"Hola\"\n",
    "\n",
    "# Si la condición devuelve True, no ocurre nada\n",
    "assert x == \"Hola\""
   ]
  },
  {
   "cell_type": "code",
   "execution_count": 13,
   "metadata": {},
   "outputs": [
    {
     "ename": "AssertionError",
     "evalue": "",
     "output_type": "error",
     "traceback": [
      "\u001b[0;31m---------------------------------------------------------------------------\u001b[0m",
      "\u001b[0;31mAssertionError\u001b[0m                            Traceback (most recent call last)",
      "\u001b[0;32m/tmp/ipykernel_32773/4137568455.py\u001b[0m in \u001b[0;36m<module>\u001b[0;34m\u001b[0m\n\u001b[1;32m      1\u001b[0m \u001b[0;31m# Si la condición devuelve False, salta un AssertionError\u001b[0m\u001b[0;34m\u001b[0m\u001b[0;34m\u001b[0m\u001b[0m\n\u001b[0;32m----> 2\u001b[0;31m \u001b[0;32massert\u001b[0m \u001b[0mx\u001b[0m \u001b[0;34m==\u001b[0m \u001b[0;34m\"Adiós\"\u001b[0m\u001b[0;34m\u001b[0m\u001b[0;34m\u001b[0m\u001b[0m\n\u001b[0m",
      "\u001b[0;31mAssertionError\u001b[0m: "
     ]
    }
   ],
   "source": [
    "# Si la condición devuelve False, salta un AssertionError\n",
    "assert x == \"Adiós\""
   ]
  },
  {
   "cell_type": "markdown",
   "metadata": {},
   "source": [
    "En el caso de que la condición devuelva `False`, podríamos indicar un mensaje del siguiente modo:"
   ]
  },
  {
   "cell_type": "code",
   "execution_count": 14,
   "metadata": {},
   "outputs": [
    {
     "ename": "AssertionError",
     "evalue": "x debería de contener 'Hola'",
     "output_type": "error",
     "traceback": [
      "\u001b[0;31m---------------------------------------------------------------------------\u001b[0m",
      "\u001b[0;31mAssertionError\u001b[0m                            Traceback (most recent call last)",
      "\u001b[0;32m/tmp/ipykernel_32773/1552767593.py\u001b[0m in \u001b[0;36m<module>\u001b[0;34m\u001b[0m\n\u001b[1;32m      1\u001b[0m \u001b[0;31m# Si la condición devuelve False, salta un AssertionError\u001b[0m\u001b[0;34m\u001b[0m\u001b[0;34m\u001b[0m\u001b[0m\n\u001b[0;32m----> 2\u001b[0;31m \u001b[0;32massert\u001b[0m \u001b[0mx\u001b[0m \u001b[0;34m==\u001b[0m \u001b[0;34m\"Adiós\"\u001b[0m\u001b[0;34m,\u001b[0m \u001b[0;34m\"x debería de contener 'Hola'\"\u001b[0m\u001b[0;34m\u001b[0m\u001b[0;34m\u001b[0m\u001b[0m\n\u001b[0m",
      "\u001b[0;31mAssertionError\u001b[0m: x debería de contener 'Hola'"
     ]
    }
   ],
   "source": [
    "# Si la condición devuelve False, salta un AssertionError\n",
    "assert x == \"Adiós\", \"x debería de contener 'Hola'\""
   ]
  },
  {
   "cell_type": "code",
   "execution_count": 15,
   "metadata": {},
   "outputs": [
    {
     "data": {
      "text/plain": [
       "2.0149030205422647"
      ]
     },
     "execution_count": 15,
     "metadata": {},
     "output_type": "execute_result"
    }
   ],
   "source": [
    "import math\n",
    "x = 7.5\n",
    "assert x > 0, \"El valor de x debe ser positivo para calcular un logaritmo\"\n",
    "math.log(x)"
   ]
  },
  {
   "cell_type": "markdown",
   "metadata": {},
   "source": [
    "##### 4. `raise`\n",
    "\n",
    "Como programadores, podemos elegir cuando mostrar una excepción dada una condición. Para mostrar excepciones, usamos la palabra reservada `raise`\n"
   ]
  },
  {
   "cell_type": "code",
   "execution_count": 16,
   "metadata": {},
   "outputs": [
    {
     "ename": "Exception",
     "evalue": "El radio no puede tomar valores menores a 0",
     "output_type": "error",
     "traceback": [
      "\u001b[0;31m---------------------------------------------------------------------------\u001b[0m",
      "\u001b[0;31mException\u001b[0m                                 Traceback (most recent call last)",
      "\u001b[0;32m/tmp/ipykernel_32773/407547568.py\u001b[0m in \u001b[0;36m<module>\u001b[0;34m\u001b[0m\n\u001b[1;32m      1\u001b[0m \u001b[0mradius\u001b[0m \u001b[0;34m=\u001b[0m \u001b[0;34m-\u001b[0m\u001b[0;36m7\u001b[0m\u001b[0;34m\u001b[0m\u001b[0;34m\u001b[0m\u001b[0m\n\u001b[1;32m      2\u001b[0m \u001b[0;32mif\u001b[0m \u001b[0mradius\u001b[0m \u001b[0;34m<\u001b[0m \u001b[0;36m0\u001b[0m\u001b[0;34m:\u001b[0m\u001b[0;34m\u001b[0m\u001b[0;34m\u001b[0m\u001b[0m\n\u001b[0;32m----> 3\u001b[0;31m   \u001b[0;32mraise\u001b[0m \u001b[0mException\u001b[0m\u001b[0;34m(\u001b[0m\u001b[0;34m\"El radio no puede tomar valores menores a 0\"\u001b[0m\u001b[0;34m)\u001b[0m\u001b[0;34m\u001b[0m\u001b[0;34m\u001b[0m\u001b[0m\n\u001b[0m",
      "\u001b[0;31mException\u001b[0m: El radio no puede tomar valores menores a 0"
     ]
    }
   ],
   "source": [
    "radius = -7\n",
    "if radius < 0:\n",
    "  raise Exception(\"El radio no puede tomar valores menores a 0\")"
   ]
  },
  {
   "cell_type": "markdown",
   "metadata": {},
   "source": [
    "En el chunk anterior hemos usado `raise` para mostrar una excepción. No obstante, podemos elegir qué tipo de excepción mostrar y el texto que imprimir al usuario:"
   ]
  },
  {
   "cell_type": "code",
   "execution_count": 17,
   "metadata": {},
   "outputs": [
    {
     "ename": "TypeError",
     "evalue": "El radio debe ser de tipo numérico (int o float)",
     "output_type": "error",
     "traceback": [
      "\u001b[0;31m---------------------------------------------------------------------------\u001b[0m",
      "\u001b[0;31mTypeError\u001b[0m                                 Traceback (most recent call last)",
      "\u001b[0;32m/tmp/ipykernel_32773/724002788.py\u001b[0m in \u001b[0;36m<module>\u001b[0;34m\u001b[0m\n\u001b[1;32m      2\u001b[0m \u001b[0;34m\u001b[0m\u001b[0m\n\u001b[1;32m      3\u001b[0m \u001b[0;32mif\u001b[0m \u001b[0;32mnot\u001b[0m \u001b[0mtype\u001b[0m\u001b[0;34m(\u001b[0m\u001b[0mradius\u001b[0m\u001b[0;34m)\u001b[0m \u001b[0;32mis\u001b[0m \u001b[0mint\u001b[0m \u001b[0;32mand\u001b[0m \u001b[0;32mnot\u001b[0m \u001b[0mtype\u001b[0m\u001b[0;34m(\u001b[0m\u001b[0mradius\u001b[0m\u001b[0;34m)\u001b[0m \u001b[0;32mis\u001b[0m \u001b[0mfloat\u001b[0m\u001b[0;34m:\u001b[0m\u001b[0;34m\u001b[0m\u001b[0;34m\u001b[0m\u001b[0m\n\u001b[0;32m----> 4\u001b[0;31m   \u001b[0;32mraise\u001b[0m \u001b[0mTypeError\u001b[0m\u001b[0;34m(\u001b[0m\u001b[0;34m\"El radio debe ser de tipo numérico (int o float)\"\u001b[0m\u001b[0;34m)\u001b[0m\u001b[0;34m\u001b[0m\u001b[0;34m\u001b[0m\u001b[0m\n\u001b[0m\u001b[1;32m      5\u001b[0m \u001b[0;32melif\u001b[0m \u001b[0mradius\u001b[0m \u001b[0;34m<\u001b[0m \u001b[0;36m0\u001b[0m\u001b[0;34m:\u001b[0m\u001b[0;34m\u001b[0m\u001b[0;34m\u001b[0m\u001b[0m\n\u001b[1;32m      6\u001b[0m   \u001b[0;32mraise\u001b[0m \u001b[0mException\u001b[0m\u001b[0;34m(\u001b[0m\u001b[0;34m\"El radio no puede tomar valores menores a 0\"\u001b[0m\u001b[0;34m)\u001b[0m\u001b[0;34m\u001b[0m\u001b[0;34m\u001b[0m\u001b[0m\n",
      "\u001b[0;31mTypeError\u001b[0m: El radio debe ser de tipo numérico (int o float)"
     ]
    }
   ],
   "source": [
    "radius = \"-5\"\n",
    "\n",
    "if not type(radius) is int and not type(radius) is float:\n",
    "  raise TypeError(\"El radio debe ser de tipo numérico (int o float)\")\n",
    "elif radius < 0:\n",
    "  raise Exception(\"El radio no puede tomar valores menores a 0\")"
   ]
  },
  {
   "cell_type": "markdown",
   "metadata": {},
   "source": [
    "##### 5. `with / as`\n",
    "\n",
    "La palabra reservada `with` se utiliza para manejar excepciones y conseguir así un código más limpio y legible. Simplifica el manejo de recursos comunes tales como flujos de archivos.\n",
    "\n",
    "En el siguiente chunk  no utilizamos la palabra reservada `with`"
   ]
  },
  {
   "cell_type": "code",
   "execution_count": 18,
   "metadata": {},
   "outputs": [],
   "source": [
    "file = open(\"path_del_archivo\", \"w\")\n",
    "try: \n",
    "    file.write(\"¡Hola, caracola!\") \n",
    "finally: \n",
    "    file.close() "
   ]
  },
  {
   "cell_type": "markdown",
   "metadata": {},
   "source": [
    "Mientras que en el siguiente sí que utilizamos `with / as` y observamos que el código queda mucho más limpio y legible."
   ]
  },
  {
   "cell_type": "code",
   "execution_count": 19,
   "metadata": {},
   "outputs": [],
   "source": [
    "with open(\"path_del_archivo\", \"w\") as file: \n",
    "    file.write(\"¡Hola, caracola!\") "
   ]
  },
  {
   "cell_type": "markdown",
   "metadata": {},
   "source": [
    "Ambos chunks de código darían el mismo resultado. No obstante, el segundo tiene menos líneas de código, pues entre otras cosas no le hace falta la línea `file.close()`, tal cual vimos en el tema anterior. \n",
    "\n",
    "La palabra reservada `with` se asegura la adquisición y liberación adecuadas de recursos. "
   ]
  }
 ],
 "metadata": {
  "kernelspec": {
   "display_name": "Python 3",
   "language": "python",
   "name": "python3"
  },
  "language_info": {
   "codemirror_mode": {
    "name": "ipython",
    "version": 3
   },
   "file_extension": ".py",
   "mimetype": "text/x-python",
   "name": "python",
   "nbconvert_exporter": "python",
   "pygments_lexer": "ipython3",
   "version": "3.10.12"
  }
 },
 "nbformat": 4,
 "nbformat_minor": 2
}
