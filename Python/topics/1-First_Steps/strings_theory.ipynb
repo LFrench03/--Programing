{
 "cells": [
  {
   "cell_type": "markdown",
   "metadata": {},
   "source": [
    "### **`Strings(cadenas)` en <l style=\"color:blue;\">Python</l>🖨**\n",
    "---\n",
    "[source](https://www.programaenpython.com/fundamentos/strings-en-python/)\n",
    "\n",
    "\n",
    "Los cadenas (o strings) son un tipo de datos compuestos por secuencias de caracteres que representan texto. Estas cadenas de texto son de tipo `str` y se delimitan mediante el uso de comillas simples o dobles."
   ]
  },
  {
   "cell_type": "code",
   "execution_count": 84,
   "metadata": {},
   "outputs": [
    {
     "data": {
      "text/plain": [
       "str"
      ]
     },
     "execution_count": 84,
     "metadata": {},
     "output_type": "execute_result"
    }
   ],
   "source": [
    "cadena = \"Programa en Python\"\n",
    "type(cadena)"
   ]
  },
  {
   "cell_type": "markdown",
   "metadata": {},
   "source": [
    "En el caso que queramos usar comillas (o un apóstrofo) dentro de una cadena tenemos distintas opciones. La más simple es encerrar nuestra cadena mediante un tipo de comillas (simples o dobles) y usar el otro tipo dentro de la cadena. Otra opción es usar en todo momento el mismo tipo de comillas, pero usando la barra invertida (\\) como carácter de escape en las comillas del interior de la cadena para indicar que esos caracteres forman parte de la cadena.\n",
    "\n",
    "Además para saltos de linea dentro de una cadena se utiliza el operador `\\n` y para las tabulaciones `\\t`."
   ]
  },
  {
   "cell_type": "code",
   "execution_count": 91,
   "metadata": {},
   "outputs": [
    {
     "name": "stdout",
     "output_type": "stream",
     "text": [
      "Decimos 'si' entre comillas con un salto de linea al final\n",
      "\n",
      "\tDecimos 'si' entre comillas con una tabulacion al comienzo\n",
      "Decimos 'si' entre comillas sin un salto de linea al final\n",
      "Decimos 'si' entre comillas sin una tabulacion al comienzo\n"
     ]
    }
   ],
   "source": [
    "print(\"Decimos 'si' entre comillas con un salto de linea al final\\n\")\n",
    "print('\\tDecimos \\'si\\' entre comillas con una tabulacion al comienzo')\n",
    "print(\"Decimos 'si' entre comillas sin un salto de linea al final\")\n",
    "print('Decimos \\'si\\' entre comillas sin una tabulacion al comienzo')"
   ]
  },
  {
   "cell_type": "markdown",
   "metadata": {},
   "source": [
    "El intérprete de <l style=\"color:blue;\">Python</l> tiene distintas funciones integradas relacionadas con las cadenas. Una de ellas es `len()`, la cual nos indica el **número de elementos de un objeto**. En el caso de que el objeto sea una cadena nos indica el número de caracteres que la componen."
   ]
  },
  {
   "cell_type": "code",
   "execution_count": 87,
   "metadata": {},
   "outputs": [
    {
     "data": {
      "text/plain": [
       "18"
      ]
     },
     "execution_count": 87,
     "metadata": {},
     "output_type": "execute_result"
    }
   ],
   "source": [
    "cadena = \"Programa en Python\"\n",
    "len(cadena)"
   ]
  },
  {
   "cell_type": "markdown",
   "metadata": {},
   "source": [
    "#### **Indexación:**\n",
    "Cada uno de los caracteres de una cadena (incluidos los espacios) tiene asignado un índice. Este indice nos permite seleccionar su carácter asociado haciendo referencia a él entre corchetes (`[]`) en el nombre de la variable que almacena la cadena. Si consideremos el orden de izquierda a derecha, el indice empieza en 0 para el primer carácter, etc. También se puede considerar el orden de derecha a izquierda, en cuyo caso al último carácter le corresponde el índice `-1`, al penúltimo `-2` y así sucesivamente. Este método es útil si por ejemplo queremos acceder a caracteres en las ultimas posiciones de una cadena con muchos caracteres de la cual no conocemos su longitud.\n",
    "\n",
    "![](img/indexs.png)"
   ]
  },
  {
   "cell_type": "code",
   "execution_count": 92,
   "metadata": {},
   "outputs": [
    {
     "name": "stdout",
     "output_type": "stream",
     "text": [
      "Primer indice\n",
      "\t=> P\n",
      "Penultimo indice\n",
      "\t=> o\n",
      "Ultimo indice\n",
      "\t=> n\n",
      "Segundo indice\n",
      "\t=> y \n",
      "\t\t\t\tJasjkjasksjkj 'Pony' que gracioso memeo\n"
     ]
    }
   ],
   "source": [
    "word = \"Python\"\n",
    "print(\"Primer indice\\n\\t=>\", word[0])\n",
    "print(\"Penultimo indice\\n\\t=>\", word[-2])\n",
    "print(\"Ultimo indice\\n\\t=>\", word[-1])\n",
    "print(\"Segundo indice\\n\\t=>\", word[1], \"\\n\\t\\t\\t\\tJasjkjasksjkj 'Pony' que gracioso memeo\")\n"
   ]
  },
  {
   "cell_type": "markdown",
   "metadata": {},
   "source": [
    "También existe una funcion integrada en <l style=\"color:blue;\">Python</l> los tipos de datos que puedan ser indexados, esta es la funcion `string.index('caracter')` & `string.find('caracter')` que nos devuelve la primera aparcicion de dicho caracter. La unica diferencie entre ellas es que para `.index()` devuelve error si no se encuentra dicho caracter y para `.find()` devuelve `-1`.\n",
    "\n",
    "Además con el método `string.count('caracter')` te devuelve el numero de apariciones de dicho caracter. "
   ]
  },
  {
   "cell_type": "code",
   "execution_count": 103,
   "metadata": {},
   "outputs": [
    {
     "name": "stdout",
     "output_type": "stream",
     "text": [
      "1\n",
      "1\n",
      "1\n"
     ]
    }
   ],
   "source": [
    "word = \"Python\"\n",
    "print(word.index(\"y\"))\n",
    "print(word.find(\"y\"))\n",
    "print(word.count(\"y\"))\n"
   ]
  },
  {
   "cell_type": "markdown",
   "metadata": {},
   "source": [
    "#### **Substrings (subconjuntos de `strings`, rebanar `strings`):**"
   ]
  },
  {
   "cell_type": "markdown",
   "metadata": {},
   "source": [
    "Otra operación que podemos realizar a una cadena es seleccionar solamente una parte de ella. Para ello se usa la notación de slice`[inicio:fin:paso]` también en el nombre de la variable que almacena la cadena, donde:\n",
    "- Inicio: es el índice del primer carácter de la porción de la cadena que queremos seleccionar.\n",
    "- Fin: es el índice del último carácter no incluido de la porción de la cadena que queremos seleccionar.\n",
    "- Paso: indica cada cuantos caracteres seleccionamos entre las posiciones de inicio y fin.\n",
    "\n",
    "Algunas consideraciones a tener en cuenta es que si omitimos las posiciones de `inicio` o `fin`, nos referimos respectivamente a la `primera` y `última` posición de la cadena. Además omitir el `paso` es equivalente a indicar que el paso es `1`."
   ]
  },
  {
   "cell_type": "code",
   "execution_count": 77,
   "metadata": {},
   "outputs": [
    {
     "name": "stdout",
     "output_type": "stream",
     "text": [
      "Python is trash\n",
      "\n",
      "Para palabras de 2 en 2 (step=2):\n",
      "\t=> Pto stah\n",
      "\n",
      "Ahora, ¿tu como invertirias un string usando unicamente utilizando indexación?\n"
     ]
    }
   ],
   "source": [
    "sentence = \"Python is trash\"\n",
    "print(sentence[:6], \n",
    "      sentence[7:9], \n",
    "      sentence[10:])  #Y asi se imprime la misma oracion pero palabra por palabra separado por comas\n",
    "print(\"\\nPara palabras de 2 en 2 (step=2):\\n\\t=>\", sentence[::2])\n",
    "print(\"\\nAhora, ¿tu como invertirias un string usando unicamente utilizando indexación?\")\n"
   ]
  },
  {
   "cell_type": "code",
   "execution_count": null,
   "metadata": {},
   "outputs": [],
   "source": [
    "sentence = \"Python is trash\"\n",
    "#Insertar respuesta aqui..."
   ]
  },
  {
   "cell_type": "markdown",
   "metadata": {},
   "source": [
    "#### **Operaciones con `strings`:**\n",
    "Una operación que podemos realizar es la **concatenación** que consiste en unir distintas cadenas mediante el uso del signo más (`+`).\n",
    "\n"
   ]
  },
  {
   "cell_type": "code",
   "execution_count": 80,
   "metadata": {},
   "outputs": [
    {
     "data": {
      "text/plain": [
       "'Luke Skywalker'"
      ]
     },
     "execution_count": 80,
     "metadata": {},
     "output_type": "execute_result"
    }
   ],
   "source": [
    "nombre = \"Luke\"\n",
    "apellido = \"Skywalker\"\n",
    "nombre + \" \" + apellido\n"
   ]
  },
  {
   "cell_type": "code",
   "execution_count": 81,
   "metadata": {},
   "outputs": [
    {
     "name": "stdout",
     "output_type": "stream",
     "text": [
      "jajajajajajajajajaja\n"
     ]
    }
   ],
   "source": [
    "risa = \"ja\"\n",
    "print(risa*10)"
   ]
  },
  {
   "cell_type": "markdown",
   "metadata": {},
   "source": [
    "**Observación:** Las cadenas presentan la propiedad de **inmutabilidad**. Esto significa que una vez han sido creadas no pueden modificarse. En efecto, si intentamos modificar una cadena el intérprete nos indica que a ésta no se pueden asignar elementos."
   ]
  },
  {
   "cell_type": "code",
   "execution_count": 82,
   "metadata": {},
   "outputs": [
    {
     "ename": "TypeError",
     "evalue": "'str' object does not support item assignment",
     "output_type": "error",
     "traceback": [
      "\u001b[0;31m---------------------------------------------------------------------------\u001b[0m",
      "\u001b[0;31mTypeError\u001b[0m                                 Traceback (most recent call last)",
      "\u001b[0;32m/tmp/ipykernel_47045/3671502195.py\u001b[0m in \u001b[0;36m<module>\u001b[0;34m\u001b[0m\n\u001b[1;32m      1\u001b[0m \u001b[0mcadena\u001b[0m \u001b[0;34m=\u001b[0m \u001b[0;34m\"Pithon\"\u001b[0m\u001b[0;34m\u001b[0m\u001b[0;34m\u001b[0m\u001b[0m\n\u001b[0;32m----> 2\u001b[0;31m \u001b[0mcadena\u001b[0m\u001b[0;34m[\u001b[0m\u001b[0;36m1\u001b[0m\u001b[0;34m]\u001b[0m \u001b[0;34m=\u001b[0m \u001b[0;34m'y'\u001b[0m\u001b[0;34m\u001b[0m\u001b[0;34m\u001b[0m\u001b[0m\n\u001b[0m",
      "\u001b[0;31mTypeError\u001b[0m: 'str' object does not support item assignment"
     ]
    }
   ],
   "source": [
    "cadena = \"Pithon\"\n",
    "cadena[1] = 'y' #Y nos dara error"
   ]
  },
  {
   "cell_type": "markdown",
   "metadata": {},
   "source": [
    "Sin embargo, aplicando algunos de los conceptos vistos este post sí que podemos llegar a cambiar el contenido de una cadena."
   ]
  },
  {
   "cell_type": "code",
   "execution_count": 83,
   "metadata": {},
   "outputs": [
    {
     "data": {
      "text/plain": [
       "'Python'"
      ]
     },
     "execution_count": 83,
     "metadata": {},
     "output_type": "execute_result"
    }
   ],
   "source": [
    "cadena = \"Pithon\"\n",
    "cadena = cadena[0] + \"y\" + cadena[2:]\n",
    "cadena"
   ]
  },
  {
   "cell_type": "markdown",
   "metadata": {},
   "source": [
    "También podemos concatenar con el signo de multiplicación (`*`), que en este caso significa adjuntarle un determinado número de copias a la cadena."
   ]
  },
  {
   "cell_type": "code",
   "execution_count": 106,
   "metadata": {},
   "outputs": [
    {
     "name": "stdout",
     "output_type": "stream",
     "text": [
      "jajajajaja\n"
     ]
    }
   ],
   "source": [
    "risa = 'ja'\n",
    "print(risa*5)"
   ]
  },
  {
   "cell_type": "markdown",
   "metadata": {},
   "source": [
    "##### **Algunas de las funciones principales son:**\n",
    "- `string.upper()` -> convierte todos los caracteres del string en letra **mayuscula** \n",
    "\n",
    "- `string.lower()` -> convierte todos los caracteres del string en letra **minuscula**\n",
    "\n",
    "- `string.swapcase()` -> convierte los caracteres en **minuscula** en **mayuscula** y viceversa\n",
    "\n",
    "- `string.strip()` -> elimina los espacios en blanco adicionales\n",
    "\n",
    "- `string.lstrip()` -> elimina los espacios en blanco adicionales a la izquierda\n",
    "\n",
    "- `string.rstrip()` -> elimina los espacios en blanco adicionales a la derecha\n",
    "\n",
    "- `string.capitalize()` -> Convierte el primer caracter en mayuscula y el ultimo en minuscula\n",
    "\n",
    "- `string.title()` -> Devuelve el mismo texto en formato de titulo (mayusculas para cada palabra)\n",
    "\n",
    "- `string.split()` -> Separa el string en listas a partir de un separador insertado como parametro\n",
    "\n",
    "- `string.replace()` -> Remplaza un character por otro en todas sus apariciones en el string de la forma: \n",
    "```python\n",
    "string.replace(reemplazar, reemplazo) -> string con el caracter reemplezado\n",
    "```\n",
    "**Observación:** Los espacios en blanco se consideran caracteres validos en strings por lo que si se tiene un `string = \"Ho la\"`, entonces `string[2] ->  \" \"`\n",
    "\n",
    "\n"
   ]
  },
  {
   "cell_type": "code",
   "execution_count": 105,
   "metadata": {},
   "outputs": [
    {
     "name": "stdout",
     "output_type": "stream",
     "text": [
      "Upper:\n",
      "\t    MAMI PA PODER PARECERTE A MI, TU TIENE QUE NACER DE NUEVO      \n",
      "Lower:\n",
      "\t    mami pa poder parecerte a mi, tu tiene que nacer de nuevo      \n",
      "Swapcase:\n",
      "\t    MaMI PA PODER PARECERTE A MI, TU TIENE QUE NACER DE NUEVo      \n",
      "Strip:\n",
      "\t mAmi pa poder parecerte a mi, tu tiene que nacer de nuevO\n",
      "Lstrip:\n",
      "\t mAmi pa poder parecerte a mi, tu tiene que nacer de nuevO       fin del string\n",
      "Rstrip:\n",
      "\t    mAmi pa poder parecerte a mi, tu tiene que nacer de nuevO fin del string\n",
      "Strip + Capitalize:\n",
      "\t Mami pa poder parecerte a mi, tu tiene que nacer de nuevo\n",
      "Title:\n",
      "\t    Mami Pa Poder Parecerte A Mi, Tu Tiene Que Nacer De Nuevo      \n",
      "Split:\n",
      "\t ['   mAmi pa poder parecerte a mi', ' tu tiene que nacer de nuevO      ']\n",
      "Strip + Split:\n",
      "\t ['mAmi pa poder parecerte a mi', ' tu tiene que nacer de nuevO']\n",
      "Replace:\n",
      "\t    mAmi pa poder parecerte a mi .... tu tiene que nacer de nuevO      \n",
      "Strip + Lower + Replace+ Replace + Capitalize + Split: \n",
      "\t ['Papi pa poder parecerte a mi', 'tu tiene que nacer de nuevo']\n"
     ]
    }
   ],
   "source": [
    "string = \"   mAmi pa poder parecerte a mi, tu tiene que nacer de nuevO      \"   #No se bien como decia la cancion pero bueno ekisde\n",
    "\n",
    "print(\"Upper:\\n\\t\",string.upper())\n",
    "\n",
    "print(\"Lower:\\n\\t\",string.lower())\n",
    "\n",
    "print(\"Swapcase:\\n\\t\",string.swapcase())\n",
    "\n",
    "print(\"Strip:\\n\\t\",string.strip())\n",
    "\n",
    "print(\"Lstrip:\\n\\t\",string.lstrip(), \"fin del string\")\n",
    "\n",
    "print(\"Rstrip:\\n\\t\",string.rstrip(), \"fin del string\")\n",
    "\n",
    "print(\"Strip + Capitalize:\\n\\t\",string.strip().capitalize())\n",
    "\n",
    "print(\"Title:\\n\\t\",string.title())\n",
    "\n",
    "print(\"Split:\\n\\t\",string.split(\",\"))\n",
    "\n",
    "print(\"Strip + Split:\\n\\t\",string.strip().split(\",\"))   #Aqui se aplica strip antes por el simple hecho de que si le aplicas capitalize al string sin split tendria como primer y ultimo caracter un espacio en blanco y con strip se eliminan los espacios en blanco. \n",
    "\n",
    "print(\"Replace:\\n\\t\",string.replace(\",\", \" ....\"))  #Se reemplazan los indicios que tengan \",\" por \" ....\"\n",
    "\n",
    "# Con todas estas operaciones se pueden aplicar combinaciones de varias a la vez en una sola linea para un solo string. Por ejemplo\n",
    "print(\"Strip + Lower + Replace+ Replace + Capitalize + Split: \\n\\t\",string.strip().lower().replace(\", \", \"--\").replace(\"mami\", \"papi\").capitalize().split(\"--\"))\n",
    "\n"
   ]
  },
  {
   "cell_type": "markdown",
   "metadata": {},
   "source": [
    "#### **Funciones de return bool**\n",
    "Son las funciones de verificación integradas en <l style=\"color:blue;\">Python</l> y se expresan de la forma siguiente:\n",
    "```python\n",
    "string = \"cadena\"\n",
    "string.is----()\n",
    "-> True or False\n",
    "```\n",
    "Por si quieres probarlas son estas princpalmente:\n",
    "\n",
    "![img](img/is.png)"
   ]
  },
  {
   "cell_type": "markdown",
   "metadata": {},
   "source": [
    "#### **Formatear `strings`:**\n",
    "##### **- Metodo `format()`:**\n",
    "Una alternativa a la **concatenación** de cadenas es el uso del método format(). Este método devuelve una copia de la cadena a la que se le han sustituido las posiciones que contienen llaves (`{}`) por los argumentos del método. Esta sustitución se realiza por defecto en el mismo orden de los argumentos.\n",
    "\n",
    "También podemos referenciar los argumentos del método por su posición (siendo el índice del primero 0) o mediante un nombre."
   ]
  },
  {
   "cell_type": "code",
   "execution_count": 117,
   "metadata": {},
   "outputs": [
    {
     "data": {
      "text/plain": [
       "'Se llamaba Suky, el muy jugueton'"
      ]
     },
     "execution_count": 117,
     "metadata": {},
     "output_type": "execute_result"
    }
   ],
   "source": [
    "\"Se llamaba {}, el muy {}\".format(\"Suky\", \"jugueton\")"
   ]
  },
  {
   "cell_type": "code",
   "execution_count": 118,
   "metadata": {},
   "outputs": [
    {
     "data": {
      "text/plain": [
       "'Se llamaba Suky, el muy jugueton'"
      ]
     },
     "execution_count": 118,
     "metadata": {},
     "output_type": "execute_result"
    }
   ],
   "source": [
    "\"Se llamaba {nombre}, el muy {adjetivo}\".format(nombre=\"Suky\", adjetivo=\"jugueton\")"
   ]
  },
  {
   "cell_type": "markdown",
   "metadata": {},
   "source": [
    "#### **- F-strings:**\n",
    "\n",
    "El método `format()` puede producir código un poco engorroso de leer cuando tratamos con strings largos que contienen múltiples parámetros. Es por ello que en  <l style=\"color:blue;\">Python 3.6</l> se añadieron los `f-strings`. `Los f-strings` son cadenas de texto con una <l style=\"color:blue;\">f</l> al inicio y expresiones entre llaves que se sustituyen por sus valores, tal y como se muestra a continuación."
   ]
  },
  {
   "cell_type": "code",
   "execution_count": 120,
   "metadata": {},
   "outputs": [
    {
     "data": {
      "text/plain": [
       "'Se llamaba Suky, el muy jugueton'"
      ]
     },
     "execution_count": 120,
     "metadata": {},
     "output_type": "execute_result"
    }
   ],
   "source": [
    "nombre, adjetivo = \"Suky\", \"jugueton\"\n",
    "f\"Se llamaba {nombre}, el muy {adjetivo}\""
   ]
  },
  {
   "cell_type": "markdown",
   "metadata": {},
   "source": [
    "#### **Mieles🍯:** \n",
    "Si por alguna casualidad en un examen o situación donde necesites emplear alguno de los metodos integrados y no lo recuerdes, si trabajas en <l style=\"color:Skyblue;\">**VS Code**</l> puedes verificar el listado de funciones disponibles con el `tooltip` que te deberia salir luego de poner un `.` luego de una variable asignada de tipo `str` o llamar a la funcion `dir('string')`.\n",
    "\n",
    "![2](img/2.png)"
   ]
  },
  {
   "cell_type": "code",
   "execution_count": 112,
   "metadata": {},
   "outputs": [
    {
     "data": {
      "text/plain": [
       "['__add__',\n",
       " '__class__',\n",
       " '__contains__',\n",
       " '__delattr__',\n",
       " '__dir__',\n",
       " '__doc__',\n",
       " '__eq__',\n",
       " '__format__',\n",
       " '__ge__',\n",
       " '__getattribute__',\n",
       " '__getitem__',\n",
       " '__getnewargs__',\n",
       " '__gt__',\n",
       " '__hash__',\n",
       " '__init__',\n",
       " '__init_subclass__',\n",
       " '__iter__',\n",
       " '__le__',\n",
       " '__len__',\n",
       " '__lt__',\n",
       " '__mod__',\n",
       " '__mul__',\n",
       " '__ne__',\n",
       " '__new__',\n",
       " '__reduce__',\n",
       " '__reduce_ex__',\n",
       " '__repr__',\n",
       " '__rmod__',\n",
       " '__rmul__',\n",
       " '__setattr__',\n",
       " '__sizeof__',\n",
       " '__str__',\n",
       " '__subclasshook__',\n",
       " 'capitalize',\n",
       " 'casefold',\n",
       " 'center',\n",
       " 'count',\n",
       " 'encode',\n",
       " 'endswith',\n",
       " 'expandtabs',\n",
       " 'find',\n",
       " 'format',\n",
       " 'format_map',\n",
       " 'index',\n",
       " 'isalnum',\n",
       " 'isalpha',\n",
       " 'isascii',\n",
       " 'isdecimal',\n",
       " 'isdigit',\n",
       " 'isidentifier',\n",
       " 'islower',\n",
       " 'isnumeric',\n",
       " 'isprintable',\n",
       " 'isspace',\n",
       " 'istitle',\n",
       " 'isupper',\n",
       " 'join',\n",
       " 'ljust',\n",
       " 'lower',\n",
       " 'lstrip',\n",
       " 'maketrans',\n",
       " 'partition',\n",
       " 'removeprefix',\n",
       " 'removesuffix',\n",
       " 'replace',\n",
       " 'rfind',\n",
       " 'rindex',\n",
       " 'rjust',\n",
       " 'rpartition',\n",
       " 'rsplit',\n",
       " 'rstrip',\n",
       " 'split',\n",
       " 'splitlines',\n",
       " 'startswith',\n",
       " 'strip',\n",
       " 'swapcase',\n",
       " 'title',\n",
       " 'translate',\n",
       " 'upper',\n",
       " 'zfill']"
      ]
     },
     "execution_count": 112,
     "metadata": {},
     "output_type": "execute_result"
    }
   ],
   "source": [
    "string = \"a\"\n",
    "dir(string)"
   ]
  },
  {
   "cell_type": "markdown",
   "metadata": {},
   "source": [
    "Y para ver el contenido y parametros de la funcion de la misma forma pero con el `()`.\n",
    "\n",
    "![1](img/1.png)"
   ]
  },
  {
   "cell_type": "markdown",
   "metadata": {},
   "source": [
    "<div align=center>\n",
    "Esto se aplica para todas las funciones y variables en general desde <b><l style=\"color:SkyBlue;\">VS Code</l></b>.\n",
    "<br><l style=\"color:yellow;\">Espero que esto te haya resultado util :)</l></br>\n",
    "</div>"
   ]
  }
 ],
 "metadata": {
  "kernelspec": {
   "display_name": "Python 3",
   "language": "python",
   "name": "python3"
  },
  "language_info": {
   "codemirror_mode": {
    "name": "ipython",
    "version": 3
   },
   "file_extension": ".py",
   "mimetype": "text/x-python",
   "name": "python",
   "nbconvert_exporter": "python",
   "pygments_lexer": "ipython3",
   "version": "3.10.12"
  }
 },
 "nbformat": 4,
 "nbformat_minor": 2
}
