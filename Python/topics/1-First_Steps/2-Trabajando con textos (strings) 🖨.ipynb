{
 "cells": [
  {
   "cell_type": "markdown",
   "id": "f0bf27de-032c-43c3-95db-76034823f4b3",
   "metadata": {
    "jp-MarkdownHeadingCollapsed": true,
    "tags": []
   },
   "source": [
    "# Trabajando con textos (strings) 🖨"
   ]
  },
  {
   "cell_type": "markdown",
   "id": "de86a133-8102-40d6-adb3-e931ba36426c",
   "metadata": {},
   "source": [
    "En esta sección se practicará el uso de los `string` (`str` en **Python**), operaciones y funciones útiles."
   ]
  },
  {
   "cell_type": "markdown",
   "id": "c0d693b5-88f7-4608-a567-36704815376d",
   "metadata": {
    "jp-MarkdownHeadingCollapsed": true,
    "tags": []
   },
   "source": [
    "##### 1. Pedir al usuario que introduzca su nombre completo y luego imprimir su nombre en mayúsculas y en minúsculas."
   ]
  },
  {
   "cell_type": "code",
   "execution_count": 3,
   "id": "4493e74b-a325-43d2-89e4-c6fc527395fc",
   "metadata": {
    "tags": []
   },
   "outputs": [
    {
     "name": "stdout",
     "output_type": "stream",
     "text": [
      "Introduzca su nombre completo:Juan\n",
      "Nombre en mayúsculas: JUAN\n",
      "Nombre en minúsculas: juan\n"
     ]
    }
   ],
   "source": [
    "name = input(\"Introduzca su nombre completo:\")\n",
    "upper_case_name = name.upper()\n",
    "lower_case_name = name.lower()\n",
    "print(\"Nombre en mayúsculas:\", upper_case_name)\n",
    "print(\"Nombre en minúsculas:\", lower_case_name)"
   ]
  },
  {
   "cell_type": "markdown",
   "id": "6fcd59d0-5caf-460a-87c9-1dfdd180f2b3",
   "metadata": {
    "jp-MarkdownHeadingCollapsed": true,
    "tags": []
   },
   "source": [
    "##### 2. Pedir al usuario que introduzca una cadena de texto y luego imprimir la longitud de la cadena."
   ]
  },
  {
   "cell_type": "code",
   "execution_count": null,
   "id": "025b5f99-2e43-434f-b93f-7a2a2d4bc2f2",
   "metadata": {
    "tags": []
   },
   "outputs": [],
   "source": [
    "text = input(\"Introduzca cualquier texto:\")\n",
    "text_length = len(text)\n",
    "print(\"La longitud del texto introducido es \" + str(text_length)) # <- Utilización de la concatenación de strings"
   ]
  },
  {
   "cell_type": "markdown",
   "id": "f1817224-9294-4fe2-8d0a-e5c9b33d4650",
   "metadata": {
    "jp-MarkdownHeadingCollapsed": true,
    "tags": []
   },
   "source": [
    "##### 3. Pedir al usuario que introduzca una cadena de texto y luego imprimir la primera letra de la cadena."
   ]
  },
  {
   "cell_type": "code",
   "execution_count": 8,
   "id": "67a7619c-3135-4503-a7e1-6fa3d54995e4",
   "metadata": {
    "tags": []
   },
   "outputs": [
    {
     "name": "stdout",
     "output_type": "stream",
     "text": [
      "La primera letra es h\n"
     ]
    }
   ],
   "source": [
    "text = input(\"Introduzca cualquier texto:\")\n",
    "text = text.lower()\n",
    "x = 0\n",
    "first_letter = text[x]\n",
    "while text[x] == \" \":\n",
    "    x+=1\n",
    "    first_letter = text[x]\n",
    "print(f\"La primera letra es {first_letter}\") # <- Utilización de la interpolación de strings"
   ]
  },
  {
   "cell_type": "markdown",
   "id": "9dce28b6-8a8f-4968-ab3c-20b258dbc18a",
   "metadata": {
    "jp-MarkdownHeadingCollapsed": true,
    "tags": []
   },
   "source": [
    "##### 4. Pedir al usuario que introduzca su nombre y su edad, y luego imprimir un mensaje que diga \"Hola, [nombre]. Tienes [edad] años\"."
   ]
  },
  {
   "cell_type": "code",
   "execution_count": 9,
   "id": "087961fb-4424-421d-b959-20ff5bf05e5e",
   "metadata": {},
   "outputs": [
    {
     "name": "stdout",
     "output_type": "stream",
     "text": [
      "Hola, Luis. Tienes 19 annos \n"
     ]
    }
   ],
   "source": [
    "name = input(\"Introduzca su nombre:\")\n",
    "age = input(\"Introduzca su edad:\")\n",
    "message = \"Hola, {}. Tienes {} años \".format(name, age)\n",
    "print(message)"
   ]
  },
  {
   "cell_type": "markdown",
   "id": "951ee84a-685b-4dfd-973e-6d5b3a8187eb",
   "metadata": {
    "jp-MarkdownHeadingCollapsed": true,
    "tags": []
   },
   "source": [
    "##### 5. Pedir al usuario que introduzca una cadena de texto y luego imprimir la cadena al revés."
   ]
  },
  {
   "cell_type": "code",
   "execution_count": 14,
   "id": "5ef2f76b-4590-4222-956e-4198b66ea582",
   "metadata": {},
   "outputs": [
    {
     "name": "stdout",
     "output_type": "stream",
     "text": [
      "fdsakjfdsa   \n"
     ]
    }
   ],
   "source": [
    "text = input(\"Introduzca cualquier texto:\")\n",
    "reversed_text = text[::-1]\n",
    "print(reversed_text)"
   ]
  },
  {
   "cell_type": "markdown",
   "id": "d0a3db77-7c71-42e9-8bca-03ab6d1e7c23",
   "metadata": {
    "jp-MarkdownHeadingCollapsed": true,
    "tags": []
   },
   "source": [
    "##### 6. Pedir al usuario que introduzca dos cadenas de texto y luego concatenarlas e imprimir el resultado."
   ]
  },
  {
   "cell_type": "code",
   "execution_count": 15,
   "id": "595640ed-1246-422a-81cf-15cbc20705d4",
   "metadata": {},
   "outputs": [
    {
     "name": "stdout",
     "output_type": "stream",
     "text": [
      "holllaaa soy luis\n"
     ]
    }
   ],
   "source": [
    "first_text = input(\"Introduzca cualquier texto:\")\n",
    "second_text = input(\"Vuelva a introducir cualquier otro texto:\")\n",
    "concatenated_text = first_text + \" \" + second_text\n",
    "print(concatenated_text)"
   ]
  },
  {
   "cell_type": "markdown",
   "id": "88160254-c2b8-44ca-ad08-c7f4f2fc7514",
   "metadata": {
    "jp-MarkdownHeadingCollapsed": true,
    "tags": []
   },
   "source": [
    "##### 7. Pedir al usuario que introduzca una cadena de texto y luego imprimir la cadena sin espacios en blanco."
   ]
  },
  {
   "cell_type": "code",
   "execution_count": 17,
   "id": "6474da6a-aa2e-44f5-be26-0b643c3ffdc6",
   "metadata": {},
   "outputs": [
    {
     "name": "stdout",
     "output_type": "stream",
     "text": [
      "holaquetal\n"
     ]
    }
   ],
   "source": [
    "text = input(\"Introduzca cualquier texto:\")\n",
    "text_without_spaces = text.replace(\" \", \"\")\n",
    "print(text_without_spaces)"
   ]
  },
  {
   "cell_type": "markdown",
   "id": "517b466f-6ef0-486d-9a5d-1b28d3b1e0b8",
   "metadata": {
    "jp-MarkdownHeadingCollapsed": true,
    "tags": []
   },
   "source": [
    "##### 8. Pedir al usuario que introduzca una cadena de texto y luego imprimir cuántas veces aparece la letra \"a\" en la cadena."
   ]
  },
  {
   "cell_type": "code",
   "execution_count": 18,
   "id": "c8e9c55a-a2a1-4909-b307-1c470267acba",
   "metadata": {},
   "outputs": [
    {
     "name": "stdout",
     "output_type": "stream",
     "text": [
      "4\n"
     ]
    }
   ],
   "source": [
    "text = input(\"Introduzca cualquier texto:\")\n",
    "amount_of_a = text.count(\"a\")\n",
    "print(amount_of_a)"
   ]
  },
  {
   "cell_type": "markdown",
   "id": "c9e89161-9afc-4fa7-aa60-d1fd7f12bf03",
   "metadata": {
    "jp-MarkdownHeadingCollapsed": true,
    "tags": []
   },
   "source": [
    "##### 9. Pedir al usuario que introduzca una cadena de texto y luego imprimir todas las palabras de la cadena en una lista."
   ]
  },
  {
   "cell_type": "code",
   "execution_count": 20,
   "id": "aacc00eb-05e8-486b-abc1-7b9288545341",
   "metadata": {},
   "outputs": [
    {
     "name": "stdout",
     "output_type": "stream",
     "text": [
      "['holaaa', 'que', 'talll']\n"
     ]
    }
   ],
   "source": [
    "text = input(\"Introduzca cualquier texto:\")\n",
    "words = text.split()\n",
    "print(words)"
   ]
  },
  {
   "cell_type": "markdown",
   "id": "3519886d-9488-4064-8027-6919e718e049",
   "metadata": {
    "tags": []
   },
   "source": [
    "### Vamos a bifurcar 😎\n",
    "Bifurcación simple: el comando solo se ejecuta cuando se cumple la condición. \n",
    "Bifurcación completa: se ejecuta un comando en caso de que se cumpla determinada condición, pero también habrá otros comandos que se ejecutarán en caso de que no"
   ]
  },
  {
   "cell_type": "markdown",
   "id": "3b125e2f-d7d7-4475-aa91-d89c0d7063dc",
   "metadata": {
    "jp-MarkdownHeadingCollapsed": true,
    "tags": []
   },
   "source": [
    "##### 1. Modifique el siguiente código para imprimir cuál es el número mayor"
   ]
  },
  {
   "cell_type": "code",
   "execution_count": null,
   "id": "870008c6-79f6-4a27-94a1-6d3cc08c3d56",
   "metadata": {},
   "outputs": [],
   "source": [
    "num1 = int(input(\"Ingrese un número entero:\"))\n",
    "num2 = int(input(\"Ingrese otro número entero:\"))\n",
    "\n",
    "if num1>num2:\n",
    "    print(f\"El número mayor es {num1}\")\n",
    "elif num2>num1:\n",
    "    print(f\"El número mayor es {num2}\")\n",
    "else:\n",
    "    print(\"Los números son iguales\")"
   ]
  },
  {
   "cell_type": "markdown",
   "id": "b0ceff8d-3ec7-469e-abf0-4173f07b440c",
   "metadata": {
    "jp-MarkdownHeadingCollapsed": true,
    "tags": []
   },
   "source": [
    "##### 2. Modifique el siguiente código para determinar si el año es bisiesto o no"
   ]
  },
  {
   "cell_type": "code",
   "execution_count": null,
   "id": "e2cf1c5d-4d45-4dc8-acae-1eac7e2d088f",
   "metadata": {},
   "outputs": [],
   "source": [
    "year = int(input(\"Ingrese un año:\"))\n",
    "\n",
    "if year % 4 == 0 and year % 100 != 0 or [year % 100 == 0 and year % 400 == 0]: \n",
    "    print(f\"{year} es un año bisiesto\")\n",
    "else:\n",
    "    print(f\"{year} NO es un año bisiesto\")"
   ]
  },
  {
   "cell_type": "markdown",
   "id": "b32be8ff-6241-4cb0-aeaf-d5b34eec64aa",
   "metadata": {
    "jp-MarkdownHeadingCollapsed": true,
    "tags": []
   },
   "source": [
    "##### 3. Indentifique en el siguiente código que esta incorrecto y modifiquelo."
   ]
  },
  {
   "cell_type": "code",
   "execution_count": null,
   "id": "1ff17a5c-5e1a-403d-9c52-d5a1050f0ad5",
   "metadata": {},
   "outputs": [],
   "source": [
    "price = float(input(\"Ingrese el precio del producto:\"))\n",
    "\n",
    "if price > 100:\n",
    "    final_price = price - price * 0.1\n",
    "    print(f\"El precio final es: ${final_price}\")\n",
    "else:\n",
    "    print(f\"El precio final es: ${price}\")"
   ]
  },
  {
   "cell_type": "markdown",
   "id": "be5abdc5-2ae0-4141-b59d-391136bfb446",
   "metadata": {
    "jp-MarkdownHeadingCollapsed": true,
    "tags": []
   },
   "source": [
    "##### 4. Escriba un programa que pida al usuario ingresar un número del 1 al 7 y muestre el día de la semana correspondiente (por ejemplo, si el usuario ingresa 1, el programa debe mostrar \"lunes\")."
   ]
  },
  {
   "cell_type": "code",
   "execution_count": 24,
   "id": "10d7263f-b054-4324-aa29-c90b0defee19",
   "metadata": {},
   "outputs": [
    {
     "name": "stdout",
     "output_type": "stream",
     "text": [
      "Numero fuera del intervalo de dias de la semana\n",
      "\n",
      "Viernes\n"
     ]
    }
   ],
   "source": [
    "num = int(input(\"Ingrese el número:\"))\n",
    "while num<1 or num>7:\n",
    "    print(\"Numero fuera del intervalo de dias de la semana\\n\")\n",
    "    num = int(input(\"Ingrese el número:\"))\n",
    "if num == 1:\n",
    "    print(\"Lunes\")\n",
    "elif num == 2:\n",
    "    print(\"Martes\")\n",
    "elif num == 3:\n",
    "    print(\"M4iercoles\")\n",
    "elif num == 4:\n",
    "    print(\"Jueves\")\n",
    "elif num == 5:\n",
    "    print(\"Viernes\")\n",
    "elif num == 6:\n",
    "    print(\"Sabado\")\n",
    "elif num == 7:\n",
    "    print(\"Domingo\")\n"
   ]
  },
  {
   "cell_type": "markdown",
   "id": "3095eb69-0129-47a7-a554-9d8bb01f1b86",
   "metadata": {
    "jp-MarkdownHeadingCollapsed": true,
    "tags": []
   },
   "source": [
    "##### 5. Escriba un programa que pida al usuario ingresar dos números y un operador (+, -, * o /) y muestre el resultado de la operación correspondiente."
   ]
  },
  {
   "cell_type": "code",
   "execution_count": 29,
   "id": "8296f3ee-ad1e-4684-9a41-e4c78f8d6f37",
   "metadata": {},
   "outputs": [
    {
     "name": "stdout",
     "output_type": "stream",
     "text": [
      "10\n"
     ]
    }
   ],
   "source": [
    "num1 = int(input(\"Ingrese el primer número: \"))\n",
    "num2 = int(input(\"Ingrese el segundo número: \"))\n",
    "op = input(\"Ingrese un operador (+, -, * o /): \")\n",
    "while op!=\"+\" and op!=\"-\" and op!=\"*\" and op!=\"/\":\n",
    "    op = input(\"Ingrese un operador una vez mas (+, -, * o /): \")\n",
    "if op == \"+\":\n",
    "    print(num1+num2)\n",
    "elif op == \"-\":\n",
    "    print(num1-num2)\n",
    "elif op == \"*\":\n",
    "    print(num1*num2)\n",
    "elif op == \"/\":\n",
    "    print(num/num2)\n"
   ]
  },
  {
   "cell_type": "markdown",
   "id": "981695da-f8b3-4ff0-9f71-fd9d873e896d",
   "metadata": {
    "jp-MarkdownHeadingCollapsed": true,
    "tags": []
   },
   "source": [
    "##### 6. Complete el siguiente programa que determina si dado los valores de tres segmentos forman o no un triángulo."
   ]
  },
  {
   "cell_type": "code",
   "execution_count": null,
   "id": "e9e3b10d-cd07-43e8-8344-3ff542fe979c",
   "metadata": {},
   "outputs": [],
   "source": [
    "seg1 = float(input(\"Introduzca el valor del primer segmento:\"))\n",
    "seg2 = float(input(\"Introduzca el valor del segundo segmento:\"))\n",
    "seg3 = float(input(\"Introduzca el valor del tercer segmento:\"))\n",
    "#Que la suma de la longitud de dos de sus segmentos siempre es mayor que la longitud del tercer segmento\n",
    "if (seg1 + seg2)>seg3 or (seg1 + seg3)>seg2 or (seg3 + seg2)>seg1:\n",
    "    print(\"SI forman un triángulo\")\n",
    "else:\n",
    "    print(\"NO forman un triángulo\")"
   ]
  },
  {
   "cell_type": "markdown",
   "id": "6233b056-952c-442a-8896-05bb74f58e9b",
   "metadata": {
    "jp-MarkdownHeadingCollapsed": true,
    "tags": []
   },
   "source": [
    "##### 7. Complete el siguiente programa que simula el juego \"Piedra, papel o tijera\" entre el usuario y la computadora. El programa debe pedir al usuario que elija su opción (piedra, papel o tijera), generar aleatoriamente la opción de la computadora y mostrar quién ganó (o si hubo un empate)."
   ]
  },
  {
   "cell_type": "code",
   "execution_count": null,
   "id": "63e9090e-71df-4332-b405-8169ad8a44c2",
   "metadata": {},
   "outputs": [],
   "source": [
    "from random import choice\n",
    "\n",
    "options = [\"piedra\", \"papel\", \"tijera\"]\n",
    "\n",
    "player = input(\"Elija piedra, papel o tijera:\")\n",
    "computer = choice(options)\n",
    "\n",
    "if player == computer:\n",
    "      print(\"Empate\")\n",
    "elif player == \"piedra\":\n",
    "    if computer == \"papel\":\n",
    "        print(\"La computadora gana\")\n",
    "    else:\n",
    "        print(\"El jugador gana\")\n",
    "elif player == \"papel\":\n",
    "     if computer == \"tijera\":\n",
    "          print(\"La computadora gana\")\n",
    "     else:\n",
    "        print(\"El jugador gana\")\n",
    "elif player == \"piedra\":\n",
    "     if computer == \"papel\":\n",
    "          print(\"La computadora gana\")\n",
    "     else:\n",
    "        print(\"El jugador gana\")"
   ]
  },
  {
   "cell_type": "markdown",
   "id": "b33443fa-50c5-4e58-a349-b0d7e78badaa",
   "metadata": {
    "jp-MarkdownHeadingCollapsed": true,
    "tags": []
   },
   "source": [
    "##### 8. Complete el siguiente código para ordenar los elementos de la lista en orden ascendente"
   ]
  },
  {
   "cell_type": "code",
   "execution_count": 31,
   "id": "6c5c7872-734e-4372-9f8b-576116efbe32",
   "metadata": {},
   "outputs": [
    {
     "name": "stdout",
     "output_type": "stream",
     "text": [
      "La lista ordenada es: [1, 2, 3, 4, 5, 6, 7, 8, 9]\n"
     ]
    }
   ],
   "source": [
    "lista = [3, 7, 1, 4, 2, 9, 5, 8, 6]\n",
    "\n",
    "for i in range(len(lista)):\n",
    "    for j in range(i, len(lista)):\n",
    "        if lista[i]>lista[j]: # remplace los ... con su código\n",
    "            temp = lista[i]\n",
    "            lista[i] = lista[j]\n",
    "            lista[j] = temp\n",
    "\n",
    "print(f\"La lista ordenada es: {lista}\")"
   ]
  }
 ],
 "metadata": {
  "kernelspec": {
   "display_name": "Python 3 (ipykernel)",
   "language": "python",
   "name": "python3"
  },
  "language_info": {
   "codemirror_mode": {
    "name": "ipython",
    "version": 3
   },
   "file_extension": ".py",
   "mimetype": "text/x-python",
   "name": "python",
   "nbconvert_exporter": "python",
   "pygments_lexer": "ipython3",
   "version": "3.12.1"
  }
 },
 "nbformat": 4,
 "nbformat_minor": 5
}
