{
 "cells": [
  {
   "cell_type": "markdown",
   "id": "ad5b8a27",
   "metadata": {},
   "source": [
    "## _List Comprehension_\n",
    "\n",
    "![](img/list-comprehension.png)"
   ]
  },
  {
   "cell_type": "markdown",
   "id": "0e93dbf8-9160-478e-bc2f-18e39fd31f2c",
   "metadata": {},
   "source": [
    "##### 1. Escribir una comprensión de lista en Python para generar una lista de los cuadrados de los números impares entre 1 y 10.\n",
    "\n",
    "Crea una función llamada `squares_of_odds` que genere una lista de los cuadrados de los números impares entre 1 y 10 utilizando una comprensión de lista. Ejemplo de llamada a la función y resultado esperado:\n",
    "\n",
    "```python\n",
    "# Ejemplo de llamada a la función\n",
    "squares_of_odds()\n",
    "\n",
    "# Resultado esperado\n",
    "[1, 9, 25, 49, 81]\n",
    "```\n"
   ]
  },
  {
   "cell_type": "code",
   "execution_count": 2,
   "id": "8b3176b2-1e8f-44b4-8a7f-9a1a63e1ac88",
   "metadata": {},
   "outputs": [
    {
     "data": {
      "text/plain": [
       "[1, 9, 25, 49, 81]"
      ]
     },
     "execution_count": 2,
     "metadata": {},
     "output_type": "execute_result"
    }
   ],
   "source": [
    "def squares_of_odds():\n",
    "    return [x**2 for x in range(1,10,2)] #crea un list comprehention aqui\n",
    "squares_of_odds()"
   ]
  },
  {
   "cell_type": "markdown",
   "id": "b018b3b2-cf02-45aa-bac4-5f73b90d67df",
   "metadata": {},
   "source": [
    "##### 2. Escribe en Python una comprensión de conjunto que, dada una frase, devuelva todas las letras que aparecen en ella sin repetición, sin distinguir entre mayúsculas y minúsculas.\n",
    "\n",
    "Crea una función llamada `unique_letters` que tome una frase como entrada y devuelva un conjunto de todas las letras que aparecen en ella sin repetición, sin distinguir entre mayúsculas y minúsculas. Ejemplo de llamada a la función y resultado esperado:\n",
    "\n",
    "```python\n",
    "# Ejemplo de llamada a la función\n",
    "unique_letters(\"Python is awesome\")\n",
    "\n",
    "# Resultado esperado\n",
    "{'a', 'e', 'h', 'i', 'm', 'n', 'o', 'p', 's', 't', 'w', 'y'}\n",
    "```\n"
   ]
  },
  {
   "cell_type": "code",
   "execution_count": 4,
   "id": "0dc98d82-56b0-41b7-8aa5-689c34cf1f44",
   "metadata": {},
   "outputs": [
    {
     "data": {
      "text/plain": [
       "{'a', 'e', 'h', 'i', 'm', 'n', 'o', 'p', 's', 't', 'w', 'y'}"
      ]
     },
     "execution_count": 4,
     "metadata": {},
     "output_type": "execute_result"
    }
   ],
   "source": [
    "def unique_letters(phrase):\n",
    "    return {x for x in phrase.lower() if x!= ' '} #crea un set comprehention aqui\n",
    "unique_letters(\"Python is awesome\")"
   ]
  },
  {
   "cell_type": "markdown",
   "id": "9e8838e4-4a20-4d6e-9d7c-817e3c751cf9",
   "metadata": {},
   "source": [
    "##### 3. Usa comprensiones de diccionario para, dado un texto, contar cuantas veces aparece cada palabra, debe devolver el diccionario con las palabras que aparecen en él como llaves y el valor será la cantidad de veces que aparece. No se distinguirá entre mayúsculas y minúsculas.\n",
    "\n",
    "Crea una función llamada `word_count` que tome un texto como entrada y devuelva un diccionario con las palabras que aparecen en él como llaves y el valor será la cantidad de veces que aparece esta palabra, sin distinguir entre mayúsculas y minúsculas. Ejemplo de llamada a la función y resultado esperado:\n",
    "\n",
    "```python\n",
    "# Ejemplo de llamada a la función\n",
    "text = \"Python is a powerful programming language. Python is also easy to learn.\"\n",
    "word_count(text)\n",
    "\n",
    "# Resultado esperado\n",
    "{'python': 2, 'is': 2, 'a': 1, 'powerful': 1, 'programming': 1, 'language.': 1, 'also': 1, 'easy': 1, 'to': 1, 'learn.': 1}\n",
    "```\n"
   ]
  },
  {
   "cell_type": "code",
   "execution_count": 11,
   "id": "b0b43981-8919-41b5-8b22-8f1559e36911",
   "metadata": {},
   "outputs": [
    {
     "data": {
      "text/plain": [
       "{'python': 2,\n",
       " 'is': 2,\n",
       " 'a': 7,\n",
       " 'powerful': 1,\n",
       " 'programming': 1,\n",
       " 'language.': 1,\n",
       " 'also': 1,\n",
       " 'easy': 1,\n",
       " 'to': 1,\n",
       " 'learn.': 1}"
      ]
     },
     "execution_count": 11,
     "metadata": {},
     "output_type": "execute_result"
    }
   ],
   "source": [
    "def word_count(text):\n",
    "    return { x.lower() : text.count(x) for x in text.split() if x!= ' ' and x!= \".\"} #crea un dict comprehention aqui\n",
    "text = \"Python is a powerful programming language. Python is also easy to learn.\"\n",
    "word_count(text)"
   ]
  }
 ],
 "metadata": {
  "kernelspec": {
   "display_name": "Python 3 (ipykernel)",
   "language": "python",
   "name": "python3"
  },
  "language_info": {
   "codemirror_mode": {
    "name": "ipython",
    "version": 3
   },
   "file_extension": ".py",
   "mimetype": "text/x-python",
   "name": "python",
   "nbconvert_exporter": "python",
   "pygments_lexer": "ipython3",
   "version": "3.12.1"
  }
 },
 "nbformat": 4,
 "nbformat_minor": 5
}
