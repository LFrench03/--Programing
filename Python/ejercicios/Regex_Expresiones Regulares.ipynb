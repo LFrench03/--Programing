{
 "cells": [
  {
   "cell_type": "markdown",
   "id": "6cc32d73",
   "metadata": {},
   "source": [
    "# _Regular Expresions (RegEx)*_\n",
    "\n",
    "![](img/regex.png)"
   ]
  },
  {
   "cell_type": "markdown",
   "id": "978933df",
   "metadata": {},
   "source": [
    "#### Ejercicio 1: Caracteres coincidentes\n",
    "\n",
    "Intente escribir un patrón que haga match con las primeras tres filas y omita la última; puede ser tan simple como las letras comunes en cada línea. Haga una función que reciba un texto y devuelva True si hace match o False en caso contrario\n",
    "\n",
    "\n",
    "```\n",
    "Task\tText\n",
    "\n",
    "Match\tabcdefg\t\n",
    "\n",
    "Match\tabcde\n",
    "\n",
    "Match\tabc\n",
    "\n",
    "Skip    aabc\n",
    "```"
   ]
  },
  {
   "cell_type": "code",
   "execution_count": 23,
   "id": "84515d4e",
   "metadata": {},
   "outputs": [
    {
     "name": "stdout",
     "output_type": "stream",
     "text": [
      "Match\n",
      "Match\n",
      "Match\n",
      "Skip\n"
     ]
    }
   ],
   "source": [
    "import re\n",
    "\n",
    "def match_characters(text):\n",
    "    match = re.search(\"^(abc)\",text)\n",
    "    return \"Match\" if match != None else \"Skip\"\n",
    "    pass\n",
    "    \n",
    "print(match_characters(\"abcdefg\"))\n",
    "print(match_characters(\"abcde\"))\n",
    "print(match_characters(\"abc\"))\n",
    "print(match_characters(\"aabc\"))"
   ]
  },
  {
   "cell_type": "markdown",
   "id": "3847f34e",
   "metadata": {},
   "source": [
    "#### Ejercicio 2: El punto\n",
    "\n",
    "A continuación se muestran un par de cadenas con diferentes caracteres pero de la misma longitud. Intente escribir un patrón único que pueda coincidir con las tres primeras cadenas, pero no con la última (que se omitirá). Es posible que tenga que escapar del metacarácter de punto para que coincida con el punto en algunas de las líneas.\n",
    "\n",
    "```\n",
    "Task\tText\t\n",
    "\n",
    "Match\tcat.\n",
    "\n",
    "Match\t896.\n",
    "\n",
    "Match\t?=+.\n",
    "\n",
    "Skip\tabc1\n",
    "```"
   ]
  },
  {
   "cell_type": "code",
   "execution_count": 22,
   "id": "d5369ff7",
   "metadata": {},
   "outputs": [
    {
     "name": "stdout",
     "output_type": "stream",
     "text": [
      "Match\n",
      "Match\n",
      "Match\n",
      "Skip\n"
     ]
    }
   ],
   "source": [
    "import re\n",
    "\n",
    "def match_characters(text):\n",
    "    exp = r\"\\.$\"\n",
    "    match = re.search(exp,text) \n",
    "    return \"Match\" if match != None else \"Skip\"\n",
    "    pass\n",
    "print(match_characters(\"cat.\"))\n",
    "print(match_characters(\"896.\"))\n",
    "print(match_characters(\"?=+.\"))\n",
    "print(match_characters(\"abc1\"))"
   ]
  },
  {
   "cell_type": "markdown",
   "id": "f8c652b6",
   "metadata": {},
   "source": [
    "#### Ejercicio 3: Excluir caracteres\n",
    "\n",
    "Con las siguientes palabras, escriba un patrón que coincida solo con los animales vivos (hog, dog, pero no bog). Use la función `match_animals(text)` para probar su patrón.\n",
    "\n",
    "```\n",
    "Task\tText\n",
    "\n",
    "Match\thog\n",
    "\n",
    "Match\tdog\n",
    "\n",
    "Skip\tbog\n",
    "```\n"
   ]
  },
  {
   "cell_type": "code",
   "execution_count": 24,
   "id": "5a896a23",
   "metadata": {},
   "outputs": [
    {
     "name": "stdout",
     "output_type": "stream",
     "text": [
      "Match\n",
      "Match\n",
      "Skip\n"
     ]
    }
   ],
   "source": [
    "import re\n",
    "\n",
    "def match_animals(text):\n",
    "    exp = \"^(d|h)og$\"\n",
    "    match = re.search(exp,text)\n",
    "    return \"Match\" if match != None else \"Skip\"\n",
    "    pass\n",
    "    \n",
    "print(match_animals(\"hog\"))\n",
    "print(match_animals(\"dog\"))\n",
    "print(match_animals(\"bog\"))"
   ]
  },
  {
   "cell_type": "markdown",
   "id": "bf323f58",
   "metadata": {},
   "source": [
    "#### Ejercicio 4: Incluir caracteres\n",
    "\n",
    "Con las siguientes palabras, escriba un patrón que coincida con los nombres que terminan en \"a\" o \"s\", un nombre debe siempre comenzar con mayusculas y tener al menos 3 letras\n",
    "\n",
    "```\n",
    "Task\tText\n",
    "\n",
    "Match\tLorena\n",
    "\n",
    "Match\tCarlos\n",
    "\n",
    "Skip\tjuana\n",
    "\n",
    "Skip\tJu4na\n",
    "\n",
    "Skip\tPa\n",
    "```\n"
   ]
  },
  {
   "cell_type": "code",
   "execution_count": 25,
   "id": "8d20734e",
   "metadata": {},
   "outputs": [
    {
     "name": "stdout",
     "output_type": "stream",
     "text": [
      "Match\n",
      "Match\n",
      "Skip\n",
      "Skip\n",
      "Skip\n"
     ]
    }
   ],
   "source": [
    "import re\n",
    "\n",
    "def match_names(text):\n",
    "    exp = r\"^[A-Z]\\w[^\\d]\\w{2,}\"\n",
    "    match = re.search(exp,text)\n",
    "    return \"Match\" if match != None else \"Skip\"\n",
    "    pass\n",
    "    \n",
    "print(match_names(\"Lorena\"))\n",
    "print(match_names(\"Carlos\"))\n",
    "print(match_names(\"juana\"))\n",
    "print(match_names(\"Ju4na\"))\n",
    "print(match_names(\"Pa\"))"
   ]
  },
  {
   "cell_type": "markdown",
   "id": "8b02ca21",
   "metadata": {},
   "source": [
    "#### Ejercicio 5: Coincidencia de caracteres opcionales\n",
    "\n",
    "En el siguiente ejercicio, observe cómo la pluralidad de la palabra \"file\" depende del número de archivos encontrados. Intente escribir un patrón que use el metacaracter de opcionalidad para coincidir solo con las líneas donde se encontró uno o más archivos.\n",
    "\n",
    "```\n",
    "Tarea\tTexto\t\n",
    "\n",
    "Match\t1 file found?\n",
    "\n",
    "Match\t2 files found?\n",
    "\n",
    "Match\t24 files found?\n",
    "\n",
    "Skip\tNo files found.\n",
    "```"
   ]
  },
  {
   "cell_type": "code",
   "execution_count": 26,
   "id": "c0596891",
   "metadata": {},
   "outputs": [
    {
     "name": "stdout",
     "output_type": "stream",
     "text": [
      "Match\n",
      "Match\n",
      "Match\n",
      "Skip\n"
     ]
    }
   ],
   "source": [
    "import re\n",
    "\n",
    "def match_files(text):\n",
    "    exp = r\"^\\d+\"\n",
    "    match = re.search(exp,text)\n",
    "    return \"Match\" if match != None else \"Skip\"\n",
    "    pass\n",
    "    \n",
    "# Prueba de la función\n",
    "print(match_files(\"1 file found?\"))\n",
    "print(match_files(\"2 files found?\"))\n",
    "print(match_files(\"24 files found?\"))\n",
    "print(match_files(\"No files found.\"))"
   ]
  },
  {
   "cell_type": "markdown",
   "id": "64bad1ea",
   "metadata": {},
   "source": [
    "#### Ejercicio 6: Coincidencia de grupos\n",
    "\n",
    "Las expresiones regulares nos permiten no solo coincidir con texto sino también extraer información para su procesamiento posterior. Esto se hace definiendo grupos de caracteres y capturándolos usando los paréntesis especiales ( y ) metacaracteres. Cualquier subpatrón dentro de un par de paréntesis será capturado como un grupo. En la práctica, esto se puede utilizar para extraer información como números de teléfono o correos electrónicos de todo tipo de datos.\n",
    "\n",
    "\n",
    "Intente usar esto para escribir una expresión regular que coincida solo con los nombres de archivo (sin incluir la extensión) de los archivos PDF a continuación. Haga una funcion que reciba el archivo completo y devuelva el nombre sin la extension, si no hace mach retornara None\n",
    "\n",
    "```\n",
    "Tarea\tTexto\n",
    "\n",
    "Match\tfile_record_transcript.pdf\n",
    "\n",
    "Match\tfile_07241999.pdf\n",
    "\n",
    "Skip\ttestfile_fake.pdf.tmp\n",
    "```"
   ]
  },
  {
   "cell_type": "code",
   "execution_count": 33,
   "id": "28c10140",
   "metadata": {},
   "outputs": [
    {
     "name": "stdout",
     "output_type": "stream",
     "text": [
      "Match\n",
      "Match\n",
      "Skip\n"
     ]
    }
   ],
   "source": [
    "import re\n",
    "\n",
    "def match_pdf_filenames(text):\n",
    "    exp = r\"^[f]\\w+_[\\w]*[\\d]*[_]?[\\w]*\"\n",
    "    return \"Match\" if re.search(exp,text) != None else \"Skip\"\n",
    "    pass\n",
    "    \n",
    "# Prueba de la función\n",
    "print(match_pdf_filenames(\"file_record_transcript.pdf\"))\n",
    "print(match_pdf_filenames(\"file_07241999.pdf\"))\n",
    "print(match_pdf_filenames(\"testfile_fake.pdf.tmp\"))"
   ]
  },
  {
   "cell_type": "markdown",
   "id": "1c1cf95b",
   "metadata": {},
   "source": [
    "### Ejercicio 7:\n",
    "Escriba un programa que dado un texto extraiga los datos numericos de cada ocasion que se dice el precio de un producto y devuelva la lista de estos datos numericos, cada precio debe estar en el formato: \\\\$3.45, \\\\$23.32 o \\\\$400. \n",
    "\n",
    "```python\n",
    "texto = \"Durante décadas, el precio de los chupachups ha sido un reflejo de su popularidad y evolución en el mercado de los dulces. En sus inicios en los años 50, un chupachups podía adquirirse por tan solo $0.05, cifra que se mantuvo relativamente estable hasta los años 70. Sin embargo, con la llegada de nuevos sabores y envoltorios innovadores en las décadas siguientes, el precio de los chupachups experimentó un aumento gradual, llegando a alcanzar los $0.25 en los años 80 y $0.50 en los años 90. Con la entrada del nuevo milenio, la variedad de chupachups continuó expandiéndose, lo que condujo a precios que oscilaban entre los $1 y los $2, dependiendo de la rareza del sabor y el diseño del envoltorio. Hoy en día, los chupachups se venden a precios que van desde los $1 hasta los $3, reflejando su estatus como un placer ocasional para muchos consumidores.\"\n",
    "\n",
    "extrae_precios(texto) -> ['0.05', '0.25', '0.50', '1', '2', '1', '3']\n",
    "```"
   ]
  },
  {
   "cell_type": "code",
   "execution_count": 21,
   "id": "98448355",
   "metadata": {},
   "outputs": [
    {
     "data": {
      "text/plain": [
       "['0.05', '0.25', '0.50', '1', '25.2', '1', '300']"
      ]
     },
     "execution_count": 21,
     "metadata": {},
     "output_type": "execute_result"
    }
   ],
   "source": [
    "# Espacio para tu solución\n",
    "def extrae_precios(number):\n",
    "    import re\n",
    "    match = r\"\\$\\d+\\.?\\d*\"\n",
    "    lista_precios = re.findall(match,number)\n",
    "    result = []\n",
    "    for i in lista_precios:\n",
    "        result.append(i[1:])\n",
    "    return result\n",
    "    pass    \n",
    "texto = \"Durante décadas, el precio de los chupachups ha sido un reflejo de su popularidad y evolución en el mercado de los dulces. En sus inicios en los años 50, un chupachups podía adquirirse por tan solo $0.05, cifra que se mantuvo relativamente estable hasta los años 70. Sin embargo, con la llegada de nuevos sabores y envoltorios innovadores en las décadas siguientes, el precio de los chupachups experimentó un aumento gradual, llegando a alcanzar los $0.25 en los años 80 y $0.50 en los años 90. Con la entrada del nuevo milenio, la variedad de chupachups continuó expandiéndose, lo que condujo a precios que oscilaban entre los $1 y los $25.2, dependiendo de la rareza del sabor y el diseño del envoltorio. Hoy en día, los chupachups se venden a precios que van desde los $1 hasta los $300, reflejando su estatus como un placer ocasional para muchos consumidores.\"\n",
    "\n",
    "extrae_precios(texto) "
   ]
  },
  {
   "cell_type": "markdown",
   "id": "5e8ebfc6",
   "metadata": {},
   "source": [
    "Mas en: https://regexone.com/"
   ]
  }
 ],
 "metadata": {
  "kernelspec": {
   "display_name": "Python 3 (ipykernel)",
   "language": "python",
   "name": "python3"
  },
  "language_info": {
   "codemirror_mode": {
    "name": "ipython",
    "version": 3
   },
   "file_extension": ".py",
   "mimetype": "text/x-python",
   "name": "python",
   "nbconvert_exporter": "python",
   "pygments_lexer": "ipython3",
   "version": "3.12.1"
  }
 },
 "nbformat": 4,
 "nbformat_minor": 5
}
