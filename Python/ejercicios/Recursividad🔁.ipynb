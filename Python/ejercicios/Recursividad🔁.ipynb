{
 "cells": [
  {
   "cell_type": "markdown",
   "id": "b6d4a165",
   "metadata": {},
   "source": [
    "## Recursividad🔁"
   ]
  },
  {
   "cell_type": "markdown",
   "id": "2f34f43e",
   "metadata": {},
   "source": [
    "#### Ejercicio 1\n",
    "Escribir un programa recursivo que encuentre la suma de los enteros positivos impares hasta N."
   ]
  },
  {
   "cell_type": "code",
   "execution_count": 58,
   "id": "64c0d03a",
   "metadata": {},
   "outputs": [
    {
     "name": "stdout",
     "output_type": "stream",
     "text": [
      "\n",
      " 9 \n",
      " 9 \n",
      " None \n",
      " 1\n"
     ]
    }
   ],
   "source": [
    "def recursive_sum(n):\n",
    "    if n<= 0:\n",
    "        return None\n",
    "    if n == 1 or n==2:\n",
    "        return 1\n",
    "    if n%2!=0:\n",
    "        return n+recursive_sum(n-2) \n",
    "    if n%2 == 0:\n",
    "        return (n-1)+recursive_sum(n-2)\n",
    "    pass\n",
    "#Ejemplos\n",
    "a = recursive_sum(5)\n",
    "b = recursive_sum(6)\n",
    "c = recursive_sum(0)\n",
    "d = recursive_sum(2)\n",
    "print(\"\\n\",a,\"\\n\",b,\"\\n\",c,\"\\n\",d)"
   ]
  },
  {
   "cell_type": "markdown",
   "id": "b8923d70",
   "metadata": {},
   "source": [
    "#### Ejercicio 2\n",
    "Escriba una función recursiva que ordene de menor a mayor un arreglo de enteros basándose en la siguiente idea: coloque el elemento más pequeño en la primera ubicación, y luego ordene el resto del arreglo con una llamada recursiva."
   ]
  },
  {
   "cell_type": "code",
   "execution_count": 59,
   "id": "1bc8abfa",
   "metadata": {},
   "outputs": [
    {
     "name": "stdout",
     "output_type": "stream",
     "text": [
      "[1, 2, 3, 4, 4, 5, 6, 7]\n"
     ]
    }
   ],
   "source": [
    "#1\n",
    "def recursive_sort(lista):\n",
    "    if len(lista) == 1:\n",
    "        return lista[0:1]\n",
    "    lista = sorted(lista)\n",
    "    token = lista[1:]\n",
    "    lista = lista[0:1]\n",
    "    return lista + recursive_sort(token)\n",
    "    pass\n",
    "#Ejemplo:\n",
    "print(recursive_sort([4,2,1,3,6,5,4,7]))"
   ]
  },
  {
   "cell_type": "code",
   "execution_count": 60,
   "id": "efe9cf78",
   "metadata": {},
   "outputs": [
    {
     "name": "stdout",
     "output_type": "stream",
     "text": [
      "[1, 2, 4, 4, 5, 6, 7, 9]\n"
     ]
    }
   ],
   "source": [
    "#2\n",
    "def recursive_sort(lista):\n",
    "    if len(lista) == 1:\n",
    "        return lista[0:1]\n",
    "    min = lista[0]\n",
    "    for i in range(len(lista)):\n",
    "        temp = lista[0]\n",
    "        if min>lista[i]:\n",
    "            min = lista[i]\n",
    "            index = i\n",
    "            lista[index]=temp\n",
    "            lista[0] = min\n",
    "    return lista[0:1] + recursive_sort(lista[1:])\n",
    "    pass\n",
    "#Ejemplo:\n",
    "print(recursive_sort([4,2,1,9,4,6,5,7]))"
   ]
  },
  {
   "cell_type": "markdown",
   "id": "604c4a07",
   "metadata": {},
   "source": [
    "#### Ejercicio 3\n",
    "Escribir un programa que calcule el máximo común divisor (MCD) de dos enteros positivos."
   ]
  },
  {
   "cell_type": "code",
   "execution_count": 61,
   "id": "ef9fe965",
   "metadata": {},
   "outputs": [
    {
     "name": "stdout",
     "output_type": "stream",
     "text": [
      "9\n",
      "6\n",
      "1\n",
      "1\n",
      "None\n"
     ]
    }
   ],
   "source": [
    "#Sin recursividad\n",
    "def mcd(n,m):\n",
    "    if n<=0 or m<=0:\n",
    "         return None\n",
    "    div_n = []\n",
    "    div_m = []  \n",
    "    mcd = 0\n",
    "    for i in range(1,n+1):\n",
    "         if n%i==0:\n",
    "              div_n.append(i)\n",
    "    for i in range(1,m+1):\n",
    "         if m%i==0:\n",
    "              div_m.append(i)\n",
    "    for i in div_n:\n",
    "         if i in div_m and i>mcd:\n",
    "              mcd = i\n",
    "    return mcd\n",
    "    pass\n",
    "#Ejemplos:\n",
    "print(mcd(18,27))\n",
    "print(mcd(6,12))\n",
    "print(mcd(4,3))\n",
    "print(mcd(7,20))\n",
    "print(mcd(18,0))"
   ]
  },
  {
   "cell_type": "code",
   "execution_count": 62,
   "id": "8a781b3a",
   "metadata": {},
   "outputs": [
    {
     "name": "stdout",
     "output_type": "stream",
     "text": [
      "9\n",
      "6\n",
      "1\n",
      "1\n",
      "18\n"
     ]
    }
   ],
   "source": [
    "#Con recursividad con el algoritmo euclidiano :D\n",
    "def mcd(n,m):\n",
    "    if m == 0:\n",
    "        return n\n",
    "    else:\n",
    "        return mcd(m, n % m)\n",
    "    pass\n",
    "#Ejemplos:\n",
    "print(mcd(18,27))\n",
    "print(mcd(6,12))\n",
    "print(mcd(4,3))\n",
    "print(mcd(7,20))\n",
    "print(mcd(18,0))"
   ]
  },
  {
   "cell_type": "markdown",
   "id": "6ddfcbe3",
   "metadata": {},
   "source": [
    "#### Ejercicio 4\n",
    "Implemente una función recursiva que nos diga si una cadena es palíndromo."
   ]
  },
  {
   "cell_type": "code",
   "execution_count": 63,
   "id": "3d22d4e8",
   "metadata": {},
   "outputs": [
    {
     "name": "stdout",
     "output_type": "stream",
     "text": [
      "True\n"
     ]
    }
   ],
   "source": [
    "def es_palindromo(palabra):\n",
    "    palabra = palabra.replace(\" \", \"\").lower()\n",
    "    if len(palabra) <= 1:\n",
    "        return True\n",
    "    else:\n",
    "        if palabra[0] == palabra[-1]:\n",
    "            return es_palindromo(palabra[1:-1])\n",
    "        else:\n",
    "            return False\n",
    "#Ejemplo:\n",
    "palabra = \"Anita lava la tina\"\n",
    "print(es_palindromo(palabra))"
   ]
  },
  {
   "cell_type": "markdown",
   "id": "b2d2f6ca",
   "metadata": {},
   "source": [
    "#### Ejercicio 5\n",
    "\n",
    "Torres de Hanoi. Este juego en su forma más básica está formado por tres varillas verticales, en una de ellas, la cual denominaremos origen, se apila una torre de n discos ordenados de mayor a menor tamaño, siendo el disco de mayor tamaño la base. El objetivo de este juego consiste en mover la torre de la varilla origen a la varilla destino con el menor número de movimientos posible. Para realizarlo habrá que seguir dos simples normas:\n",
    "Sólo se moverá un disco por vez.\n",
    "No se podrá colocar un disco de mayor tamaño sobre otro de menor tamaño.\n",
    "\n",
    "Escribe una funcion que reciba, la cantidad de discos, y las 3 varillas que pueden ser representadas como una lista (o pila) de numeros, e imprima cada uno de los pasos que se ejecutaron para resolver el juego.\n",
    "\n",
    "Puedes probar el juego en:\n",
    "https://www.geogebra.org/m/NqyWJVra"
   ]
  },
  {
   "cell_type": "code",
   "execution_count": 2,
   "id": "2705e94f",
   "metadata": {},
   "outputs": [
    {
     "name": "stdout",
     "output_type": "stream",
     "text": [
      "Mover disco de [4, 3, 2, 1] a []\n",
      "Mover disco de [4, 3, 2] a []\n",
      "Mover disco de [1] a [2]\n",
      "Mover disco de [4, 3] a []\n",
      "Mover disco de [2, 1] a [4]\n",
      "Mover disco de [2] a [3]\n",
      "Mover disco de [4, 1] a [3, 2]\n",
      "Mover disco de [4] a []\n",
      "Mover disco de [3, 2, 1] a [4]\n",
      "Mover disco de [3, 2] a []\n",
      "Mover disco de [4, 1] a [2]\n",
      "Mover disco de [3] a [4]\n",
      "Mover disco de [2, 1] a []\n",
      "Mover disco de [2] a [4, 3]\n",
      "Mover disco de [1] a [4, 3, 2]\n",
      "Victoria\n"
     ]
    }
   ],
   "source": [
    "def solve_hanoi(discos, origen, destino, auxiliar):\n",
    "    if discos == 1:\n",
    "        print(f\"Mover disco de {origen} a {destino}\")\n",
    "        if len(origen)>0:\n",
    "            disk = origen.pop()\n",
    "            destino.append(disk)\n",
    "        return\n",
    "    solve_hanoi(discos - 1, origen, auxiliar, destino)\n",
    "    print(f\"Mover disco de {origen} a {destino}\")\n",
    "    if len(origen)>0:\n",
    "        disk = origen.pop()\n",
    "        destino.append(disk)\n",
    "    solve_hanoi(discos-1,auxiliar,destino,origen)\n",
    "    if len(origen)==0 and len(auxiliar) == 0:\n",
    "         return \"Victoria\"\n",
    "    pass\n",
    "\n",
    "#Ejemplo:\n",
    "\n",
    "discos = 4\n",
    "origen = [4,3, 2, 1]\n",
    "destino = []\n",
    "auxiliar = []\n",
    "\n",
    "print(solve_hanoi(discos,origen,destino,auxiliar))"
   ]
  },
  {
   "cell_type": "markdown",
   "id": "05bcb22d",
   "metadata": {},
   "source": [
    "#### Ejercicio 6\n",
    "Programe un método recursivo que transforme un número entero positivo a notación binaria.\n"
   ]
  },
  {
   "cell_type": "code",
   "execution_count": 65,
   "id": "77f3f2b5",
   "metadata": {},
   "outputs": [
    {
     "name": "stdout",
     "output_type": "stream",
     "text": [
      "100000\n",
      "None\n",
      "0\n",
      "1\n",
      "1000000\n",
      "1010\n"
     ]
    }
   ],
   "source": [
    "def convert_to_binar(n):\n",
    "    if n<0:\n",
    "        return None\n",
    "    if n == 0:\n",
    "        return 0\n",
    "    number = []\n",
    "    binary_number = \"\"\n",
    "    def division(n,b):\n",
    "        if n==0:\n",
    "            return b[::-1]\n",
    "        if n == 1:\n",
    "            b.append(n)\n",
    "            return b[::-1]\n",
    "        if n>=2:\n",
    "            x = n % 2\n",
    "            n = n // 2\n",
    "            b.append(x)\n",
    "            return division(n,b)\n",
    "    x = (division(n,number))\n",
    "    for i in x:\n",
    "        binary_number+=str(i)\n",
    "    return binary_number\n",
    "    pass\n",
    "#Ejemplos:\n",
    "print(convert_to_binar(32))\n",
    "print(convert_to_binar(-1))\n",
    "print(convert_to_binar(0))\n",
    "print(convert_to_binar(1))\n",
    "print(convert_to_binar(64))\n",
    "print(convert_to_binar(10))"
   ]
  },
  {
   "cell_type": "markdown",
   "id": "512bb098",
   "metadata": {},
   "source": [
    "#### Ejercicio 7\n",
    "Programe un método recursivo que transforme un número expresado en notación binaria a un número entero.\n"
   ]
  },
  {
   "cell_type": "code",
   "execution_count": 66,
   "id": "016173bc",
   "metadata": {},
   "outputs": [
    {
     "name": "stdout",
     "output_type": "stream",
     "text": [
      "48\n",
      "0\n",
      "1\n",
      "2\n",
      "31\n",
      "None\n"
     ]
    }
   ],
   "source": [
    "def convert_to_decimal(n):\n",
    "    n = str(n)\n",
    "    for i in n:\n",
    "        if int(i)>1 or int(i)<0:\n",
    "            return None\n",
    "    if n==\"0\":\n",
    "        return 0\n",
    "    if n==\"1\":\n",
    "        return 1 \n",
    "    dec_num = 0\n",
    "    def bin_to_dec(b,d):\n",
    "         size_b = len(b)-1\n",
    "         if b[0]==\"1\":\n",
    "            d += (2**size_b)\n",
    "         if b[0] == \"0\":\n",
    "            d+=0\n",
    "         if size_b == 0:\n",
    "            return d\n",
    "         else:\n",
    "            return bin_to_dec(b[1:],d)\n",
    "    return bin_to_dec(n,dec_num)\n",
    "    pass\n",
    "#Ejemplos:\n",
    "print(convert_to_decimal(110000))\n",
    "print(convert_to_decimal(0))\n",
    "print(convert_to_decimal(1))\n",
    "print(convert_to_decimal(10))\n",
    "print(convert_to_decimal(11111))\n",
    "print(convert_to_decimal(2))"
   ]
  },
  {
   "cell_type": "markdown",
   "id": "61ad886a",
   "metadata": {},
   "source": [
    "#### Ejercicio 8\n",
    "Programe un método recursivo que calcule la suma de una lista de números enteros.\n"
   ]
  },
  {
   "cell_type": "code",
   "execution_count": 67,
   "id": "540291be",
   "metadata": {},
   "outputs": [
    {
     "name": "stdout",
     "output_type": "stream",
     "text": [
      "21\n"
     ]
    }
   ],
   "source": [
    "def sum_list(lst):\n",
    "    if len(lst)==0:\n",
    "        return None\n",
    "    if len(lst)==1:\n",
    "        return lst[0]\n",
    "    return int(lst[0])+sum(list(lst[1:]))\n",
    "    pass\n",
    "#Ejemplo:\n",
    "print(sum_list([1,2,3,4,5,6]))"
   ]
  },
  {
   "cell_type": "markdown",
   "id": "693eaca5",
   "metadata": {},
   "source": [
    "#### Ejercicio 9\n",
    "Programe un método recursivo que invierta los números de un arreglo de enteros.\n",
    "\n"
   ]
  },
  {
   "cell_type": "code",
   "execution_count": 68,
   "id": "efac705d",
   "metadata": {},
   "outputs": [
    {
     "name": "stdout",
     "output_type": "stream",
     "text": [
      "[5, 45, 23, 24, 1]\n"
     ]
    }
   ],
   "source": [
    "def invert_lst(lst):\n",
    "    if len(lst) == 0:\n",
    "        return None\n",
    "    if len(lst)==1:\n",
    "        return lst\n",
    "    return lst[-1:] + invert_lst(lst[:-1])\n",
    "    pass\n",
    "#Ejemplo:\n",
    "print(invert_lst([1,24,23,45,5]))"
   ]
  },
  {
   "cell_type": "markdown",
   "id": "54e17509",
   "metadata": {},
   "source": [
    "#### Ejercicio 10\n",
    "Implementa una función que  para los distintos valores de x tal que x<=100 devuelva siempre como resultado 91(hasta el margen de recursiones posibles por la maquina). Si x>100 solo devuelve x-10.\n",
    "```\n",
    "Salida esperada para todo x<=100:\n",
    "91\n",
    "```\n"
   ]
  },
  {
   "cell_type": "code",
   "execution_count": 69,
   "id": "0c57f2ef",
   "metadata": {},
   "outputs": [
    {
     "name": "stdout",
     "output_type": "stream",
     "text": [
      "91\n",
      "91\n",
      "91\n",
      "110\n"
     ]
    }
   ],
   "source": [
    "def f(x):\n",
    "  if x >100:\n",
    "    return (x-10)\n",
    "  else:\n",
    "    return(f(f(x+11)))\n",
    "  pass\n",
    "#Ejemplos:\n",
    "print(f(100))\n",
    "print(f(-100))\n",
    "print(f(-1000))\n",
    "print(f(120))\n",
    "                  \n"
   ]
  },
  {
   "cell_type": "markdown",
   "id": "fef246be",
   "metadata": {},
   "source": [
    "#### Ejercicio 11\n",
    "Sumar los elementos de un array con divide y vencerás."
   ]
  },
  {
   "cell_type": "code",
   "execution_count": 70,
   "id": "117cd682",
   "metadata": {},
   "outputs": [
    {
     "data": {
      "text/plain": [
       "28"
      ]
     },
     "execution_count": 70,
     "metadata": {},
     "output_type": "execute_result"
    }
   ],
   "source": [
    "def sumar_lista(a):\n",
    "    if len(a)==0:\n",
    "        return None\n",
    "    \n",
    "    if len(a)==1:\n",
    "        return a[0]\n",
    "    \n",
    "    if len(a) == 2:\n",
    "        return a[0]+a[1]\n",
    "    \n",
    "    mid = len(a)//2\n",
    "\n",
    "    left_half = a[:mid]\n",
    "    right_half = a[mid:]\n",
    "\n",
    "    sum_left = sumar_lista(left_half)\n",
    "    sum_right = sumar_lista(right_half)\n",
    "\n",
    "    return sum_left + sum_right\n",
    "    pass\n",
    "#Ejemplo:\n",
    "sumar_lista([1,2,3,4,5,6,7])"
   ]
  },
  {
   "cell_type": "markdown",
   "id": "ce185d5c",
   "metadata": {
    "vscode": {
     "languageId": "bat"
    }
   },
   "source": [
    "#### Ejercicio 12\n",
    "Dado un array saca la media usando divide y vencerás"
   ]
  },
  {
   "cell_type": "code",
   "execution_count": 71,
   "id": "339cfcdc",
   "metadata": {},
   "outputs": [
    {
     "data": {
      "text/plain": [
       "15"
      ]
     },
     "execution_count": 71,
     "metadata": {},
     "output_type": "execute_result"
    }
   ],
   "source": [
    "def media(lista):\n",
    "    if len(lista) == 0:\n",
    "        return None\n",
    "    if len(lista)==1:\n",
    "        return lista[0]\n",
    "    if len(lista) == 2:\n",
    "        return (lista[0]+lista[1])/2\n",
    "    \n",
    "    mid = len(lista)//2\n",
    "\n",
    "    left_half = lista[:mid]\n",
    "    right_half = lista[mid:]\n",
    "\n",
    "    media_left = media(left_half)\n",
    "    media_right = media(right_half)\n",
    "\n",
    "    return round((media_left + media_right)/2)\n",
    "    pass\n",
    "#Ejemplo:\n",
    "media([10,25,15])"
   ]
  },
  {
   "cell_type": "markdown",
   "id": "18cfb567",
   "metadata": {},
   "source": [
    "#### Ejercicio 13\n",
    "Implementar la búsqueda en un array desordenado usando el algoritmo recursivo divide y venceras, haga una funcion que dada una lista y un valor devuelva su posicion en esta lista si existe y de no existir devuelva -1."
   ]
  },
  {
   "cell_type": "code",
   "execution_count": 72,
   "id": "c94676d6",
   "metadata": {},
   "outputs": [
    {
     "data": {
      "text/plain": [
       "7"
      ]
     },
     "execution_count": 72,
     "metadata": {},
     "output_type": "execute_result"
    }
   ],
   "source": [
    "def search(list, value):\n",
    "    if len(list) == 0:\n",
    "        return None\n",
    "    if len(list)==1:\n",
    "        return 0 if list[0] == value else -1\n",
    "    return search_portal(list,value,0,len(list)-1)\n",
    "#Utilizando un metodo portal para trabajar el problema con mas parametros\n",
    "def search_portal(arr,target,left,right):\n",
    "    if left > right:\n",
    "        return -1\n",
    "    \n",
    "    mid = (left + right)//2\n",
    "\n",
    "    if arr[mid] == target:\n",
    "        return mid\n",
    "    else:\n",
    "        #Busqueda parte izquierda\n",
    "        left_side = search_portal(arr,target,left,mid-1)\n",
    "        if left_side != -1:\n",
    "            return left_side\n",
    "        #Busqueda parte derecha\n",
    "        right_side = search_portal(arr,target,mid+1,right)\n",
    "        return right_side\n",
    "#Ejemplo:\n",
    "search([1,2,4,3,8,7,6,9],9)"
   ]
  },
  {
   "cell_type": "markdown",
   "id": "5231aec2",
   "metadata": {},
   "source": [
    "#### Ejercicio 14\n",
    "Implemente el algoritmo de ordenación QuickSort.\n",
    "\n",
    "El QuickSort se basa en la idea de reorganizar los elementos de un array, seleccionando un elemento (pivote) y colocando todos los menores que él al inicio del array y los mayores e iguales al final. Implemente esta estrategia en un algortimo recursivo utilizando la técnica de divide y vencerás."
   ]
  },
  {
   "cell_type": "code",
   "execution_count": 73,
   "id": "1782f19a",
   "metadata": {},
   "outputs": [
    {
     "name": "stdout",
     "output_type": "stream",
     "text": [
      "[1, 1, 2, 3, 4, 5, 6, 7, 8]\n"
     ]
    }
   ],
   "source": [
    "def quick_sort(list):\n",
    "    if len(list) <= 1:\n",
    "        return list\n",
    "    #Seleccionando el primer elemento como pivote\n",
    "    else:\n",
    "        pivote = list[0]\n",
    "    \n",
    "        #Dividiendolo en dos partes usando list comprehension\n",
    "        left_side = [x for x in list[1:] if x < pivote]\n",
    "        right_side = [x for x in list[1:] if x >= pivote]\n",
    "\n",
    "        #Llamada recursiva y concatenacion de izquierda + pivote + derecha\n",
    "        return quick_sort(left_side) + [pivote] + quick_sort(right_side)\n",
    "print(quick_sort([1,4,2,5,6,3,7,8,1]))\n"
   ]
  },
  {
   "cell_type": "markdown",
   "id": "35084b13",
   "metadata": {},
   "source": [
    "#### Ejercicio 15\n",
    "Un TAXISTA se desplaza por una ciudad en la que solo está permitido conducir hacia el ESTE y hacia el SUR. Calcule la cantidad de caminos desde un origen hasta un destino."
   ]
  },
  {
   "cell_type": "code",
   "execution_count": 74,
   "id": "3c380ad0",
   "metadata": {},
   "outputs": [
    {
     "name": "stdout",
     "output_type": "stream",
     "text": [
      "20\n",
      "1\n",
      "2\n",
      "0\n"
     ]
    }
   ],
   "source": [
    "def cant_caminos(xOrig, yOrig, xDest, yDest):\n",
    "    #Caso base para fuera de rango\n",
    "    if xOrig > xDest or yOrig > yDest:\n",
    "        return 0\n",
    "    #Caso base cuando llega o se encuentra en las coordenadas de destino\n",
    "    if xOrig == xDest and yOrig == yDest:\n",
    "        return 1\n",
    "    return cant_caminos(xOrig+1, yOrig, xDest, yDest) + cant_caminos(xOrig, yOrig+1, xDest, yDest)\n",
    "    pass\n",
    "#Ejemplos:\n",
    "print(cant_caminos(0,0,3,3))\n",
    "print(cant_caminos(3,3,3,3))\n",
    "print(cant_caminos(2,2,3,3))\n",
    "print(cant_caminos(0,5,4,4))\n"
   ]
  },
  {
   "cell_type": "markdown",
   "id": "1c1ecfe3",
   "metadata": {},
   "source": [
    "#### Ejercicio 16\n",
    "Calcule la cantidad de cadenas balanceadas que pueden formarse con n pares de paréntesis."
   ]
  },
  {
   "cell_type": "code",
   "execution_count": 55,
   "id": "984ff504",
   "metadata": {},
   "outputs": [
    {
     "name": "stdout",
     "output_type": "stream",
     "text": [
      "2\n",
      "5\n",
      "14\n",
      "1\n"
     ]
    }
   ],
   "source": [
    "def cant_cadenas(n):\n",
    "    #Si n = 0 solo hay una cadena balanceada, la vacia\n",
    "    if n == 0:\n",
    "        return 1\n",
    "    total = 0\n",
    "\n",
    "    for i in range(n):\n",
    "        total += cant_cadenas(i) * cant_cadenas(n-i-1)\n",
    "\n",
    "    return total\n",
    "    pass\n",
    "#Ejemplos:\n",
    "print(cant_cadenas(2))\n",
    "print(cant_cadenas(3))\n",
    "print(cant_cadenas(4))\n",
    "print(cant_cadenas(0))"
   ]
  },
  {
   "cell_type": "markdown",
   "id": "02141ee6",
   "metadata": {},
   "source": [
    "#### Ejercicio 17\n",
    "\n",
    "Implemente un método que imprima en la Consola la descomposición en sumandos de un número n.\n",
    "\n",
    "Ejemplo: n = 5\n",
    "```\n",
    "1 + 1 + 1 + 1 + 1\n",
    "1 + 1 + 1 + 2\n",
    "1 + 2 + 2\n",
    "1 + 1 + 3\n",
    "1 + 4\n",
    "2 + 3\n",
    "5\n",
    "```"
   ]
  },
  {
   "cell_type": "code",
   "execution_count": 76,
   "id": "e7554e2c",
   "metadata": {},
   "outputs": [
    {
     "name": "stdout",
     "output_type": "stream",
     "text": [
      "1 + 1 + 1 + 1 + 1\n",
      "1 + 1 + 1 + 2\n",
      "1 + 1 + 3\n",
      "1 + 2 + 2\n",
      "1 + 4\n",
      "2 + 3\n",
      "5\n"
     ]
    }
   ],
   "source": [
    "def descomponer(n):\n",
    "    def portal(inicio, target, sum_actual, list_actual):\n",
    "        if sum_actual == target:\n",
    "            ecuacion = \"\"\n",
    "            for i, num in enumerate(list_actual):\n",
    "                if i > 0:\n",
    "                    ecuacion += ' + '\n",
    "                ecuacion += str(num)\n",
    "            print(ecuacion)\n",
    "            return\n",
    "\n",
    "        for i in range(inicio, target - sum_actual + 1):\n",
    "            list_actual.append(i)\n",
    "            portal(i, target, sum_actual + i, list_actual)\n",
    "            list_actual.pop()\n",
    "    portal(1, n, 0, [])\n",
    "    pass\n",
    "#Ejemplo:\n",
    "n = 5\n",
    "descomponer(n)"
   ]
  },
  {
   "cell_type": "markdown",
   "id": "d200f944",
   "metadata": {},
   "source": [
    "#### Ejercicio 18\n",
    "Modifica la funcion de encontrar camino en el laberinto (conferencia # 3) para imprimir el camino que encontro"
   ]
  },
  {
   "cell_type": "code",
   "execution_count": 77,
   "id": "3a21e453",
   "metadata": {},
   "outputs": [
    {
     "name": "stdout",
     "output_type": "stream",
     "text": [
      "[(0, 0), (1, 0), (1, 1), (1, 2), (0, 2), (0, 3), (0, 4), (1, 4), (2, 4), (3, 4), (4, 4)]\n",
      "[[0, 0, 0, 0, 0], [0, 0, 0, 1, 0], [1, 1, 1, 1, 0], [1, 1, 1, 1, 0], [1, 1, 1, 1, 1]]\n",
      "Es el camino al destino.\n"
     ]
    }
   ],
   "source": [
    "def buscar_camino_lab_print(laberinto, origen, destino):\n",
    "    fila = origen[0]\n",
    "    columna = origen[1] \n",
    "    camino = []\n",
    "    \n",
    "    def buscar_camino_lab(laberinto, fila, columna, destino, camino):\n",
    "    # Verifica si el origen coincide con el destino\n",
    "        if (fila, columna) == destino:\n",
    "            camino.append((fila,columna))\n",
    "            print(camino)\n",
    "            print(laberinto)\n",
    "            return True\n",
    "        \n",
    "        camino.append((fila,columna))\n",
    "    \n",
    "    # Verifica si la casilla actual es válida\n",
    "        if fila < 0 or fila >= len(laberinto) or columna < 0 or columna >= len(laberinto[0]) or laberinto[fila][columna] == 0:\n",
    "            camino.pop()\n",
    "            return False\n",
    "    \n",
    "    # Marca la casilla como visitada\n",
    "        \n",
    "        laberinto[fila][columna] = 0\n",
    "    \n",
    "    # Intenta moverse hacia arriba\n",
    "        if buscar_camino_lab(laberinto, fila - 1, columna, destino,camino):\n",
    "            return True\n",
    "    \n",
    "    # Intenta moverse hacia la derecha\n",
    "        if buscar_camino_lab(laberinto, fila, columna + 1, destino,camino): \n",
    "            return True\n",
    "    \n",
    "    # Intenta moverse hacia abajo\n",
    "        if buscar_camino_lab(laberinto, fila + 1, columna, destino,camino): \n",
    "            return True\n",
    "    \n",
    "    # Intenta moverse hacia la izquierda\n",
    "        if buscar_camino_lab(laberinto, fila, columna - 1, destino,camino): \n",
    "            return True\n",
    "    \n",
    "    # Si ninguna dirección lleva al destino, retrocede\n",
    "        laberinto[fila][columna] = 1\n",
    "        return False\n",
    "        pass\n",
    "    return buscar_camino_lab(laberinto,fila,columna,destino,camino)\n",
    "\n",
    "#Ejemplo:\n",
    "laberinto = [\n",
    "    [1, 0, 1, 1, 1],\n",
    "    [1, 1, 1, 1, 1],\n",
    "    [1, 1, 1, 1, 1],\n",
    "    [1, 1, 1, 1, 1],\n",
    "    [1, 1, 1, 1, 1]\n",
    "]\n",
    "origen = (0, 0)\n",
    "destino = (4, 4)\n",
    "\n",
    "if buscar_camino_lab_print(laberinto, origen, destino):\n",
    "    print(\"Es el camino al destino.\")\n",
    "else:\n",
    "    print(\"No hay un camino desde el origen hasta el destino.\")"
   ]
  },
  {
   "cell_type": "markdown",
   "id": "d308018c",
   "metadata": {},
   "source": [
    "#### Ejercicio 19\n",
    "Modifica la funcion de encontrar camino en el laberinto  (conferencia #3) para que devuelva el menor de todos los caminos existentes"
   ]
  },
  {
   "cell_type": "code",
   "execution_count": 27,
   "id": "db741b35",
   "metadata": {},
   "outputs": [
    {
     "name": "stdout",
     "output_type": "stream",
     "text": [
      "Camino mas corto:  [(0, 0), (1, 0), (2, 0), (3, 0), (4, 0), (4, 1), (4, 2), (4, 3), (4, 4)]\n"
     ]
    }
   ],
   "source": [
    "def buscar_camino_lab_min(laberinto,origen,destino):\n",
    "    fila = origen[0]\n",
    "    columna = origen[1]\n",
    "    camino = []\n",
    "    def buscar_camino_lab(laberinto, fila, columna, destino, camino):\n",
    "        # Verifica si el origen coincide con el destino\n",
    "        if (fila, columna) == destino:\n",
    "            return camino + [(fila,columna)]\n",
    "        \n",
    "        # Verifica si la casilla actual es válida\n",
    "        if fila < 0 or fila >= len(laberinto) or columna < 0 or columna >= len(laberinto[0]) or laberinto[fila][columna] == 0:\n",
    "            return None\n",
    "\n",
    "        # Marca la casilla como visitada\n",
    "        laberinto[fila][columna] = 0\n",
    "\n",
    "        #Verifica el camino mas corto para cada direccion:\n",
    "        arriba = buscar_camino_lab(laberinto,fila-1,columna,destino,camino + [(fila,columna)])\n",
    "        abajo = buscar_camino_lab(laberinto,fila+1,columna,destino,camino + [(fila,columna)])\n",
    "        izquierda = buscar_camino_lab(laberinto,fila,columna-1,destino,camino + [(fila,columna)])\n",
    "        derecha = buscar_camino_lab(laberinto,fila,columna+1,destino,camino + [(fila,columna)])\n",
    "\n",
    "        #Restauramos la posicion para posibles futuros caminos:\n",
    "        laberinto[fila][columna] = 1\n",
    "\n",
    "        #Encontrar el camino mas corto:\n",
    "        caminos = [camino for camino in [arriba,abajo,izquierda,derecha] if camino is not None]\n",
    "            \n",
    "        if caminos:\n",
    "            return min(caminos, key=len)\n",
    "        else:\n",
    "            return None\n",
    "    return buscar_camino_lab(laberinto,fila,columna,destino,camino)\n",
    "\n",
    "#Ejemplo:\n",
    "laberinto = [\n",
    "        [1, 0, 1, 1, 1],\n",
    "        [1, 1, 1, 0, 1],\n",
    "        [1, 0, 0, 1, 1],\n",
    "        [1, 0, 1, 1, 0],\n",
    "        [1, 1, 1, 1, 1]\n",
    "    ]\n",
    "origen = (0, 0)\n",
    "destino = (4, 4)\n",
    "\n",
    "camino_min = buscar_camino_lab_min(laberinto, origen, destino)\n",
    "if camino_min:\n",
    "    print(\"Camino mas corto: \", camino_min)\n",
    "else:\n",
    "    print(\"No hay un camino desde el origen hasta el destino.\")"
   ]
  },
  {
   "cell_type": "markdown",
   "id": "ee843e7c",
   "metadata": {},
   "source": [
    "#### Ejercicio 20\n",
    "Modifica la funcion de encontrar el menor camino en el laberinto para abortar el recorrido cuando se detecte que el camino que se está formando será mayor o igual que el actual más corto"
   ]
  },
  {
   "cell_type": "code",
   "execution_count": 3,
   "id": "9705d59a",
   "metadata": {},
   "outputs": [
    {
     "name": "stdout",
     "output_type": "stream",
     "text": [
      "Camino más corto:  [(0, 0), (1, 0), (2, 0), (3, 0), (4, 0), (4, 1), (4, 2), (4, 3)]\n"
     ]
    }
   ],
   "source": [
    "def buscar_camino_lab_min(laberinto, origen, destino):\n",
    "    fila = origen[0]\n",
    "    columna = origen[1]\n",
    "    camino = []\n",
    "    camino_min = None\n",
    "\n",
    "    def buscar_camino_lab(laberinto, fila, columna, destino, camino):\n",
    "        nonlocal camino_min\n",
    "        # Verifica si el origen coincide con el destino\n",
    "        if (fila, columna) == destino:\n",
    "            if camino_min is None or len(camino) < len(camino_min):\n",
    "                camino_min = camino.copy()\n",
    "            return camino + [(fila, columna)]\n",
    "\n",
    "        # Verifica si la casilla actual es válida\n",
    "        if fila < 0 or fila >= len(laberinto) or columna < 0 or columna >= len(laberinto[0]) or laberinto[fila][columna] == 0:\n",
    "            return None     \n",
    "\n",
    "        # Marca la casilla como visitada\n",
    "        laberinto[fila][columna] = 0\n",
    "\n",
    "        # Verifica el camino más corto para cada dirección\n",
    "        arriba = buscar_camino_lab(laberinto, fila - 1, columna, destino, camino + [(fila, columna)])\n",
    "        abajo = buscar_camino_lab(laberinto, fila + 1, columna, destino, camino + [(fila, columna)])\n",
    "        izquierda = buscar_camino_lab(laberinto, fila, columna - 1, destino, camino + [(fila, columna)])\n",
    "        derecha = buscar_camino_lab(laberinto, fila, columna + 1, destino, camino + [(fila, columna)])\n",
    "\n",
    "        # Restauramos la posición para posibles futuros caminos\n",
    "        laberinto[fila][columna] = 1\n",
    "\n",
    "        # Encontrar el camino más corto\n",
    "        caminos = [camino for camino in [arriba, abajo, izquierda, derecha] if camino is not None]\n",
    "\n",
    "        if caminos:\n",
    "            if camino_min is None or len(min(caminos, key=len)) < len(camino_min):\n",
    "                camino_min = min(caminos, key=len)\n",
    "        return camino_min\n",
    "\n",
    "    buscar_camino_lab(laberinto, fila, columna, destino, camino)\n",
    "    return camino_min\n",
    "\n",
    "#Ejemplo:\n",
    "laberinto = [\n",
    "    [1, 0, 1, 1, 1],\n",
    "    [1, 1, 1, 0, 1],\n",
    "    [1, 0, 0, 1, 1],\n",
    "    [1, 0, 1, 1, 0],\n",
    "    [1, 1, 1, 1, 1]\n",
    "]\n",
    "origen = (0, 0)\n",
    "destino = (4, 4)\n",
    "\n",
    "camino_min = buscar_camino_lab_min(laberinto, origen, destino)\n",
    "if camino_min:\n",
    "    print(\"Camino más corto: \", camino_min)\n",
    "else:\n",
    "    print(\"No hay un camino desde el origen hasta el destino.\")"
   ]
  },
  {
   "cell_type": "markdown",
   "id": "e5053755",
   "metadata": {},
   "source": [
    "#### Ejercicio 21\n",
    "\n",
    "Dado un tablero de NxN, determinar si existe algún recorrido del caballo que pase por todas las casillas, sin pasar dos veces por la misma casilla"
   ]
  },
  {
   "cell_type": "code",
   "execution_count": 4,
   "id": "9bffe34e",
   "metadata": {},
   "outputs": [
    {
     "data": {
      "text/plain": [
       "True"
      ]
     },
     "execution_count": 4,
     "metadata": {},
     "output_type": "execute_result"
    }
   ],
   "source": [
    "def es_movimiento_seguro(tablero, x, y, n):\n",
    "    return x >= 0 and y >= 0 and x < n and y < n and tablero[x][y] == -1\n",
    "\n",
    "def resolver_recorrido_caballo(n):\n",
    "    tablero = [[-1 for _ in range(n)] for _ in range(n)]\n",
    "    movimientos_x = [2, 1, -1, -2, -2, -1, 1, 2]\n",
    "    movimientos_y = [1, 2, 2, 1, -1, -2, -2, -1]\n",
    "\n",
    "    tablero[0][0] = 0\n",
    "    if not resolver_recorrido_caballo_util(tablero, 0, 0, 1, movimientos_x, movimientos_y, n):\n",
    "        print(\"No hay solución posible\")\n",
    "        return False\n",
    "    return True\n",
    "\n",
    "def resolver_recorrido_caballo_util(tablero, x, y, movimientos, movimientos_x, movimientos_y, n):\n",
    "    if movimientos == n * n:\n",
    "        return True\n",
    "\n",
    "    for i in range(8):\n",
    "        next_x = x + movimientos_x[i]\n",
    "        next_y = y + movimientos_y[i]\n",
    "        if es_movimiento_seguro(tablero, next_x, next_y, n):\n",
    "            tablero[next_x][next_y] = movimientos\n",
    "            if resolver_recorrido_caballo_util(tablero, next_x, next_y, movimientos + 1, movimientos_x, movimientos_y, n):\n",
    "                return True\n",
    "            tablero[next_x][next_y] = -1\n",
    "\n",
    "    return False\n",
    "#La funcion se toma su buen tiempo, ta potente.\n",
    "\n",
    "#Ejemplo:\n",
    "n = 8\n",
    "resolver_recorrido_caballo(n)"
   ]
  },
  {
   "cell_type": "markdown",
   "id": "d0c48107",
   "metadata": {},
   "source": [
    "#### Ejercicio 22\n",
    "\n",
    "Implemente un método que, dada una cantidad n y una lista con las denominaciones de billetes disponibles, devuelva la cantidad mínima de billetes para descomponer la cantidad n. Asuma que hay cantidades ilimitadas de billetes de cada denominación.\n",
    "\n",
    "denominaciones es una lista de numeros tal como: [1, 5, 10, 20, 50]"
   ]
  },
  {
   "cell_type": "code",
   "execution_count": 5,
   "id": "1d3bad3d",
   "metadata": {},
   "outputs": [
    {
     "name": "stdout",
     "output_type": "stream",
     "text": [
      "5\n"
     ]
    }
   ],
   "source": [
    "def cambio_monedas(n, denominaciones):\n",
    "    denominaciones.sort(reverse=True)\n",
    "    num_billetes = 0\n",
    "    for i in denominaciones:\n",
    "        while n >= i:\n",
    "            n -= i\n",
    "            num_billetes += 1\n",
    "    return num_billetes\n",
    "#Ejemplo:\n",
    "cantidad = 47\n",
    "denominaciones = [1, 5, 10, 20, 50]\n",
    "print(cambio_monedas(cantidad, denominaciones))\n"
   ]
  },
  {
   "cell_type": "markdown",
   "id": "e7cf7ead",
   "metadata": {},
   "source": [
    "#### Ejercicio 23\n",
    "\n",
    "Un turista quiere recorrer varias ciudades. Dispone de una matriz que indica qué ciudades están conectadas entre sí, pues no siempre es posible ir una ciudad a cualquier otra. Se quiere encontrar un camino, si existe, que permita recorrer todas las ciudades regresando a la inicial. La matriz conexiones esta representada por una lista de listas donde si en la posicion i,j hay un True significa que hay una conexion entre las ciudades i,j. Si hay un False pues significa lo contrario"
   ]
  },
  {
   "cell_type": "code",
   "execution_count": null,
   "id": "2059f373",
   "metadata": {},
   "outputs": [],
   "source": [
    "def el_turista(conexiones):\n",
    "    n = len(conexiones)\n",
    "    \n",
    "    def city_visited(v, visitado):\n",
    "        # Marcar la ciudad actual como visitada\n",
    "        visitado[v] = True\n",
    "        \n",
    "        # Recorrer todas las ciudades conectadas a la actual\n",
    "        for i in range(n):\n",
    "            if conexiones[v][i]:\n",
    "                if not visitado[i]:\n",
    "                    if city_visited(i, visitado): return True\n",
    "        return False\n",
    "    \n",
    "    visitado = [False] * n\n",
    "    \n",
    "    # Realizar la búsqueda en profundidad desde la primera ciudad\n",
    "    return city_visited(0, visitado)\n",
    "\n",
    "#Ejemplo:\n",
    "conexiones = [\n",
    "    [False, True, False],\n",
    "    [True, False, True],\n",
    "    [False, True, False]\n",
    "]\n",
    "\n",
    "print(el_turista(conexiones))  \n"
   ]
  },
  {
   "cell_type": "markdown",
   "id": "61d61842",
   "metadata": {},
   "source": [
    "#### Ejercicio 24\n",
    "\n",
    "Dada una secuencia de n números enteros positivos determine si se pueden ubicar en un una matriz de n*n de tal modo que la suma por filas y por columnas de siempre el mismo resultado\n",
    "\n",
    "1, 2, 3, 4, 5, 6, 7, 8, 9\n",
    "$\\begin{pmatrix}\n",
    "4 & 3 & 8\\\\\n",
    "9 & 5 & 1\\\\\n",
    "2 & 7 & 6\n",
    "\\end{pmatrix}$\n"
   ]
  },
  {
   "cell_type": "code",
   "execution_count": 19,
   "id": "dbaf1e28",
   "metadata": {},
   "outputs": [
    {
     "name": "stdout",
     "output_type": "stream",
     "text": [
      "Se encontró una solución.\n"
     ]
    }
   ],
   "source": [
    "def ubicar_matriz(n):\n",
    "    # Lista de números del 1 al 9\n",
    "    numeros = list(range(1, 10))\n",
    "    \n",
    "    # Matriz auxiliar para almacenar las sumas acumuladas\n",
    "    matriz_aux = [[0]*n for _ in range(n)]\n",
    "    \n",
    "    # Función recursiva para buscar soluciones\n",
    "    def busca_solucion(pos_actual, suma_total):\n",
    "        if pos_actual == len(numeros) - 1:\n",
    "            return True\n",
    "        \n",
    "        for i in range(n):\n",
    "            for j in range(n):\n",
    "                # Verificar si el número puede ser colocado en la posición actual\n",
    "                if matriz_aux[i][j] + numeros[pos_actual] <= suma_total:\n",
    "                    matriz_aux[i][j] += numeros[pos_actual]\n",
    "                    \n",
    "                    # Llamar recursivamente para la siguiente posición\n",
    "                    if busca_solucion(pos_actual + 1, suma_total):\n",
    "                        return True\n",
    "                    \n",
    "                    # Retroceder para probar con otro número\n",
    "                    matriz_aux[i][j] -= numeros[pos_actual]\n",
    "        \n",
    "        return False\n",
    "    \n",
    "    # Calcular la suma total esperada\n",
    "    suma_total = n * (sum(numeros[:n]) + numeros[n])\n",
    "    \n",
    "    # Buscar solución inicializando la matriz auxiliar\n",
    "    matriz_aux[0][0] = numeros[0]\n",
    "    if busca_solucion(1, suma_total):\n",
    "        print(\"Se encontró una solución.\")\n",
    "    else:\n",
    "        print(\"No se encontró ninguna solución.\")\n",
    "\n",
    "# Ejemplo de uso\n",
    "ubicar_matriz(3)\n"
   ]
  },
  {
   "cell_type": "markdown",
   "id": "22697ca3",
   "metadata": {},
   "source": [
    "### Ejercicio 25\n",
    "Implemente una funcion recursiva que permita determinar si un sudoku en formato de matriz de listas tiene solucion. Si la tiene, encuentrela e imprimala."
   ]
  },
  {
   "cell_type": "code",
   "execution_count": 2,
   "id": "1ed90ba9",
   "metadata": {},
   "outputs": [
    {
     "name": "stdout",
     "output_type": "stream",
     "text": [
      "3 1 6 5 7 8 4 9 2 \n",
      "5 2 9 1 3 4 7 6 8 \n",
      "4 8 7 6 2 9 5 3 1 \n",
      "2 6 3 4 1 5 9 8 7 \n",
      "9 7 4 8 6 3 1 2 5 \n",
      "8 5 1 7 9 2 6 4 3 \n",
      "1 3 8 9 4 7 2 5 6 \n",
      "6 9 2 3 5 1 8 7 4 \n",
      "7 4 5 2 8 6 3 1 9 \n"
     ]
    }
   ],
   "source": [
    "def print_grid(arr):\n",
    "    for i in range(9):\n",
    "        for j in range(9):\n",
    "            print(arr[i][j], end=\" \")\n",
    "        print()\n",
    " \n",
    "def find_empty_location(arr, l):\n",
    "    for row in range(9):\n",
    "        for col in range(9):\n",
    "            if(arr[row][col] == 0):\n",
    "                l[0]= row\n",
    "                l[1]= col\n",
    "                return True\n",
    "    return False\n",
    " \n",
    "def used_in_row(arr, row, num):\n",
    "    for i in range(9):\n",
    "        if(arr[row][i] == num):\n",
    "            return True\n",
    "    return False\n",
    " \n",
    "def used_in_col(arr, col, num):\n",
    "    for i in range(9):\n",
    "        if(arr[i][col] == num):\n",
    "            return True\n",
    "    return False\n",
    " \n",
    "def used_in_box(arr, row, col, num):\n",
    "    for i in range(3):\n",
    "        for j in range(3):\n",
    "            if(arr[i + row][j + col] == num):\n",
    "                return True\n",
    "    return False\n",
    " \n",
    "def check_location_is_safe(arr, row, col, num):\n",
    "    return not used_in_row(arr, row, num) and not used_in_col(arr, col, num) and not used_in_box(arr, row - row % 3, col - col % 3, num)\n",
    " \n",
    "def solve_sudoku(arr):\n",
    "    # 'l' es una variable de tipo lista que mantiene el registro de filas y columnas en find_empty_location  \n",
    "    l =[0, 0]\n",
    " \n",
    "    if(not find_empty_location(arr, l)):\n",
    "        return True\n",
    "    row = l[0]\n",
    "    col = l[1]\n",
    "    \n",
    "    for num in range(1, 10):\n",
    "        if(check_location_is_safe(arr, row, col, num)):\n",
    "            arr[row][col]= num\n",
    "\n",
    "            if(solve_sudoku(arr)):\n",
    "                return True\n",
    "            \n",
    "            arr[row][col] = 0     \n",
    "    return False\n",
    " \n",
    "if __name__==\"__main__\":\n",
    "    grid =[[0 for x in range(9)]for y in range(9)]\n",
    "    grid =[[3, 0, 6, 5, 0, 8, 4, 0, 0],\n",
    "          [5, 2, 0, 0, 0, 0, 0, 0, 0],\n",
    "          [0, 8, 7, 0, 0, 0, 0, 3, 1],\n",
    "          [0, 0, 3, 0, 1, 0, 0, 8, 0],\n",
    "          [9, 0, 0, 8, 6, 3, 0, 0, 5],\n",
    "          [0, 5, 0, 0, 9, 0, 6, 0, 0],\n",
    "          [1, 3, 0, 0, 0, 0, 2, 5, 0],\n",
    "          [0, 0, 0, 0, 0, 0, 0, 7, 4],\n",
    "          [0, 0, 5, 2, 0, 6, 3, 0, 0]]\n",
    "     \n",
    "    if(solve_sudoku(grid)):\n",
    "        print_grid(grid)\n",
    "    else:\n",
    "        print(\"No solution exists\")"
   ]
  }
 ],
 "metadata": {
  "kernelspec": {
   "display_name": "Python 3 (ipykernel)",
   "language": "python",
   "name": "python3"
  },
  "language_info": {
   "codemirror_mode": {
    "name": "ipython",
    "version": 3
   },
   "file_extension": ".py",
   "mimetype": "text/x-python",
   "name": "python",
   "nbconvert_exporter": "python",
   "pygments_lexer": "ipython3",
   "version": "3.12.1"
  }
 },
 "nbformat": 4,
 "nbformat_minor": 5
}
