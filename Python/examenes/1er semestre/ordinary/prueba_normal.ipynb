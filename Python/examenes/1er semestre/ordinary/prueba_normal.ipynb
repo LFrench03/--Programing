{
 "cells": [
  {
   "cell_type": "markdown",
   "id": "5597bfc2-c20c-4010-a852-02fae4ba474c",
   "metadata": {
    "jp-MarkdownHeadingCollapsed": true,
    "tags": []
   },
   "source": [
    "### Ejercicio 1: Cambiar el nombre de una claves en un diccionario, 1 punto\n",
    "Escribe un programa que dados un diccionario y dos listas de claves modifique en el diccionario cambiando cada clave de la lista 1 por la clave que este en el mismo indice de la lista 2. Haga una funcion renombrar_claves que reciba los datos antes mencionados y modifique el diccionario cambiando las claves.\n",
    "\n",
    "Dado:\n",
    "\n",
    "```python\n",
    "sample_dict = {\n",
    "  \"nombre\": \"Kelly\",\n",
    "  \"edad\":25,\n",
    "  \"salario\": 8000,\n",
    "  \"ciudad\": \"Nueva York\"\n",
    "}\n",
    "\n",
    "renombrar_claves(sample_dict, ['ciudad', 'edad'], ['ubicación', 'años'])\n",
    "print(sample_dict)\n",
    "\n",
    "```\n",
    "Salida esperada:\n",
    "\n",
    "```python\n",
    "{\n",
    "    'nombre': 'Kelly', \n",
    "    'años': 25, \n",
    "    'salario': 8000, \n",
    "    'ubicación': 'Nueva York'\n",
    "}\n",
    "```"
   ]
  },
  {
   "cell_type": "code",
   "execution_count": 1,
   "id": "a3d3bfaa-4f9e-4090-926f-2712ac2552f8",
   "metadata": {
    "tags": []
   },
   "outputs": [],
   "source": [
    "# Espacio para tu solución\n",
    "def renombrar_clave(sample_dict, old_keys, new_keys):\n",
    "    pass"
   ]
  },
  {
   "cell_type": "markdown",
   "id": "b5bb71b6",
   "metadata": {},
   "source": [
    "### Ejercicio 2: Factorial, 1 punto (o 2)\n",
    "Escribe un programa que dado un numero devuelva su factorial, el factorial de un numero N es la multiplicacion de todos los numeros enteros positivos menores que N y mayores que 0, el factorial de 0 y 1 es 1 por convenio. Obtienen un punto adicional si no usan funciones externas\n",
    "\n",
    "```python\n",
    "factorial(5) -> 120\n",
    "factorial(1) -> 1\n",
    "factorial(0) -> 1\n",
    "```"
   ]
  },
  {
   "cell_type": "code",
   "execution_count": null,
   "id": "96c710ee",
   "metadata": {},
   "outputs": [],
   "source": [
    "# Espacio para tu solución\n",
    "def factorial(n):\n",
    "    pass"
   ]
  },
  {
   "cell_type": "markdown",
   "id": "657620e5",
   "metadata": {},
   "source": [
    "### Ejercicio 3: Primos hermanos, 1 punto (o 2)\n",
    "Escriba un programa que dado dos numeros determine si son primo hermanos, un numero es primo hermano de otro si la cantidad de divisores de uno es igual a la cantidad de divisores del otro, la funcion primos_hermanos debera devolver True si cumplen esto y False en caso contrario\n",
    "Si la funcion creada tiene una sola linea de codigo obtendra un punto adicional\n",
    "\n",
    "```python\n",
    "primos_hermanos(4, 2) -> False\n",
    "primos_hermanos(7, 7) -> True\n",
    "primos_hermanos(12, 18) -> True\n",
    "```"
   ]
  },
  {
   "cell_type": "code",
   "execution_count": 14,
   "id": "44ff6229",
   "metadata": {},
   "outputs": [],
   "source": [
    "# Espacio para tu solución\n",
    "def primos_hermanos(n, m):\n",
    "    pass\n"
   ]
  },
  {
   "cell_type": "markdown",
   "id": "719daca0",
   "metadata": {},
   "source": [
    "### Ejercicio 4: Regex, 1 punto\n",
    "Escriba un programa que dado un texto extraiga los datos numericos de cada ocasion que se dice el precio de un producto y devuelva la lista de estos datos numericos, cada precio debe estar en el formato: \\\\$3.45, \\\\$23.32 o \\\\$400. \n",
    "\n",
    "```python\n",
    "texto = \"Durante décadas, el precio de los chupachups ha sido un reflejo de su popularidad y evolución en el mercado de los dulces. En sus inicios en los años 50, un chupachups podía adquirirse por tan solo $0.05, cifra que se mantuvo relativamente estable hasta los años 70. Sin embargo, con la llegada de nuevos sabores y envoltorios innovadores en las décadas siguientes, el precio de los chupachups experimentó un aumento gradual, llegando a alcanzar los $0.25 en los años 80 y $0.50 en los años 90. Con la entrada del nuevo milenio, la variedad de chupachups continuó expandiéndose, lo que condujo a precios que oscilaban entre los $1 y los $2, dependiendo de la rareza del sabor y el diseño del envoltorio. Hoy en día, los chupachups se venden a precios que van desde los $1 hasta los $3, reflejando su estatus como un placer ocasional para muchos consumidores.\"\n",
    "\n",
    "extrae_precios(texto) -> ['0.05', '0.25', '0.50', '1', '2', '1', '3']\n",
    "```"
   ]
  },
  {
   "cell_type": "code",
   "execution_count": 15,
   "id": "2ae836b4",
   "metadata": {},
   "outputs": [],
   "source": [
    "# Espacio para tu solución\n",
    "def extrae_precios(number):\n",
    "    pass\n"
   ]
  }
 ],
 "metadata": {
  "kernelspec": {
   "display_name": "Python 3 (ipykernel)",
   "language": "python",
   "name": "python3"
  },
  "language_info": {
   "codemirror_mode": {
    "name": "ipython",
    "version": 3
   },
   "file_extension": ".py",
   "mimetype": "text/x-python",
   "name": "python",
   "nbconvert_exporter": "python",
   "pygments_lexer": "ipython3",
   "version": "3.10.9"
  }
 },
 "nbformat": 4,
 "nbformat_minor": 5
}
