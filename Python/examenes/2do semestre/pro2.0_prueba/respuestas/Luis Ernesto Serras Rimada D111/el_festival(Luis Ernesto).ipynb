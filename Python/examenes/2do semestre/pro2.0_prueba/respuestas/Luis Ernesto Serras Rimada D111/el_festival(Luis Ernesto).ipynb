{
 "cells": [
  {
   "cell_type": "markdown",
   "id": "f07cedc2",
   "metadata": {},
   "source": [
    "## Festival Recursivo"
   ]
  },
  {
   "cell_type": "markdown",
   "id": "158f4e3b",
   "metadata": {},
   "source": [
    "Luego de entrar por la puerta te sorprendende encontrar un bullicioso lugar lleno de tarimas y personas caminando de un lado a otro, un torrente de colores y sonidos te sobrecoge haciendote dudar cual de los tantos lugares visitaras primero. Puedes notar que en cada instalacion hay una persona proponiendo un puzzle y al que logre resolverlo lo premian con un puñado de recursicoins, la moneda local, te das cuenta que tienes 3 de estas monedas en tus manos. De un primer vistazo puedes apreciar las siguientes atracciones, a cual te gustaria ir:\n",
    "\n",
    "pd: cada recursicoin vale 0.5 puntos en la nota del intra ;)"
   ]
  },
  {
   "cell_type": "markdown",
   "id": "d350fc59",
   "metadata": {},
   "source": [
    "### Torres de Hanoi. \n",
    "1 recursicoin\n",
    "\n",
    "Este juego en su forma más básica está formado por tres varillas verticales, en una de ellas, la cual denominaremos origen, se apila una torre de n discos ordenados de mayor a menor tamaño, siendo el disco de mayor tamaño la base. El objetivo de este juego consiste en mover la torre de la varilla origen a la varilla destino con el menor número de movimientos posible. Para realizarlo habrá que seguir dos simples normas: Sólo se moverá un disco por vez. No se podrá colocar un disco de mayor tamaño sobre otro de menor tamaño.\n",
    "\n",
    "Escribe una funcion que reciba, la cantidad de discos, y las 3 varillas que pueden ser representadas como una lista (o pila) de numeros, e imprima cada uno de los pasos que se ejecutaron para resolver el juego."
   ]
  },
  {
   "cell_type": "code",
   "execution_count": 9,
   "id": "07a48fa1",
   "metadata": {},
   "outputs": [
    {
     "name": "stdout",
     "output_type": "stream",
     "text": [
      "Desde [4, 3, 2, 1] hacia []\n",
      "Desde [4, 3, 2] hacia []\n",
      "Desde [1] hacia [2]\n",
      "Desde [4, 3] hacia []\n",
      "Desde [2, 1] hacia [4]\n",
      "Desde [2] hacia [3]\n",
      "Desde [4, 1] hacia [3, 2]\n",
      "Desde [4] hacia []\n",
      "Desde [3, 2, 1] hacia [4]\n",
      "Desde [3, 2] hacia []\n",
      "Desde [4, 1] hacia [2]\n",
      "Desde [3] hacia [4]\n",
      "Desde [2, 1] hacia []\n",
      "Desde [2] hacia [4, 3]\n",
      "Desde [1] hacia [4, 3, 2]\n"
     ]
    }
   ],
   "source": [
    "def solve_hanoi(n, origen, destino, auxiliar):\n",
    "    if n == 1:\n",
    "        if (len(origen)>0):\n",
    "            print(f\"Desde {origen} hacia {destino}\")\n",
    "            disk = origen.pop()\n",
    "            destino.append(disk)\n",
    "            return\n",
    "    solve_hanoi(n-1,origen,auxiliar,destino)\n",
    "    print(f\"Desde {origen} hacia {destino}\")\n",
    "    if (len(origen)>0):\n",
    "       disk = origen.pop()\n",
    "       destino.append(disk)\n",
    "       return solve_hanoi(n-1,auxiliar,destino,origen)\n",
    "    if len(origen) == 0 and len(auxiliar) == 0:\n",
    "        return \"Victoria\" \n",
    "    pass\n",
    "#Ejemplo:\n",
    "n = 4\n",
    "origen = [4,3,2,1]\n",
    "destino = []\n",
    "auxiliar = []\n",
    "if solve_hanoi(n,origen,destino,auxiliar):\n",
    "    print(solve_hanoi(n,origen,destino,auxiliar))\n"
   ]
  },
  {
   "cell_type": "markdown",
   "id": "e4138cbc",
   "metadata": {},
   "source": [
    "### Descomponer en sumandos\n",
    "2 recursicoin\n",
    "\n",
    "Implemente un método que imprima en la Consola la descomposición en sumandos de un número n.\n",
    "\n",
    "Ejemplo: n = 5\n",
    "```\n",
    "1 + 1 + 1 + 1 + 1\n",
    "1 + 1 + 1 + 2\n",
    "1 + 2 + 2\n",
    "1 + 1 + 3\n",
    "1 + 4\n",
    "2 + 3\n",
    "5\n",
    "```"
   ]
  },
  {
   "cell_type": "code",
   "execution_count": 4,
   "id": "14ce6cbd",
   "metadata": {},
   "outputs": [
    {
     "name": "stdout",
     "output_type": "stream",
     "text": [
      "1 + 1 + 1 + 1 + 1\n",
      "1 + 1 + 1 + 2\n",
      "1 + 1 + 3\n",
      "1 + 2 + 2\n",
      "1 + 4\n",
      "2 + 3\n",
      "5\n"
     ]
    }
   ],
   "source": [
    "def descomponer(n):\n",
    "    def portal(start, target, sum_actual, list_actual):\n",
    "        if sum_actual == target:\n",
    "            ecuacion = \"\"\n",
    "            for i,num in enumerate(list_actual):\n",
    "                if i>0:\n",
    "                    ecuacion+=' + '\n",
    "                ecuacion+=str(num)\n",
    "            print(ecuacion)\n",
    "            return\n",
    "        for i in range(start,target-sum_actual+1):\n",
    "            list_actual.append(i)\n",
    "            portal(i,target,sum_actual+i,list_actual)\n",
    "            list_actual.pop()\n",
    "    portal(1,n,0,[])\n",
    "    pass\n",
    "#Ejemplo:\n",
    "n = 5\n",
    "descomponer(n)"
   ]
  },
  {
   "cell_type": "markdown",
   "id": "253704cb",
   "metadata": {},
   "source": [
    "### Suma subconjunto\n",
    "\n",
    "3 recursicoin\n",
    "\n",
    "Implemente una función que dado una lista de números enteros y un entero k diga si existe un subconjunto de la lista de números que sume k."
   ]
  },
  {
   "cell_type": "code",
   "execution_count": 5,
   "id": "da14ee4f",
   "metadata": {},
   "outputs": [
    {
     "ename": "RecursionError",
     "evalue": "maximum recursion depth exceeded",
     "output_type": "error",
     "traceback": [
      "\u001b[1;31m---------------------------------------------------------------------------\u001b[0m",
      "\u001b[1;31mRecursionError\u001b[0m                            Traceback (most recent call last)",
      "Cell \u001b[1;32mIn[5], line 45\u001b[0m\n\u001b[0;32m     42\u001b[0m     \u001b[38;5;28;01mreturn\u001b[39;00m sub_set_sum(numbers,k)\n\u001b[0;32m     43\u001b[0m \u001b[38;5;66;03m#Ejemplo:\u001b[39;00m\n\u001b[1;32m---> 45\u001b[0m \u001b[38;5;28mprint\u001b[39m(\u001b[43msub_set_sum\u001b[49m\u001b[43m(\u001b[49m\u001b[43m[\u001b[49m\u001b[38;5;241;43m90\u001b[39;49m\u001b[43m,\u001b[49m\u001b[38;5;241;43m40\u001b[39;49m\u001b[43m,\u001b[49m\u001b[38;5;241;43m1\u001b[39;49m\u001b[43m,\u001b[49m\u001b[38;5;241;43m1\u001b[39;49m\u001b[43m,\u001b[49m\u001b[38;5;241;43m5\u001b[39;49m\u001b[43m,\u001b[49m\u001b[38;5;241;43m1\u001b[39;49m\u001b[43m,\u001b[49m\u001b[38;5;241;43m0\u001b[39;49m\u001b[43m]\u001b[49m\u001b[43m,\u001b[49m\u001b[43m \u001b[49m\u001b[38;5;241;43m97\u001b[39;49m\u001b[43m)\u001b[49m)\n",
      "Cell \u001b[1;32mIn[5], line 42\u001b[0m, in \u001b[0;36msub_set_sum\u001b[1;34m(numbers, k)\u001b[0m\n\u001b[0;32m     40\u001b[0m numbers \u001b[38;5;241m=\u001b[39m temp\n\u001b[0;32m     41\u001b[0m numbers \u001b[38;5;241m=\u001b[39m numbers[\u001b[38;5;241m1\u001b[39m:]\u001b[38;5;241m+\u001b[39m[pivot]\n\u001b[1;32m---> 42\u001b[0m \u001b[38;5;28;01mreturn\u001b[39;00m \u001b[43msub_set_sum\u001b[49m\u001b[43m(\u001b[49m\u001b[43mnumbers\u001b[49m\u001b[43m,\u001b[49m\u001b[43mk\u001b[49m\u001b[43m)\u001b[49m\n",
      "Cell \u001b[1;32mIn[5], line 42\u001b[0m, in \u001b[0;36msub_set_sum\u001b[1;34m(numbers, k)\u001b[0m\n\u001b[0;32m     40\u001b[0m numbers \u001b[38;5;241m=\u001b[39m temp\n\u001b[0;32m     41\u001b[0m numbers \u001b[38;5;241m=\u001b[39m numbers[\u001b[38;5;241m1\u001b[39m:]\u001b[38;5;241m+\u001b[39m[pivot]\n\u001b[1;32m---> 42\u001b[0m \u001b[38;5;28;01mreturn\u001b[39;00m \u001b[43msub_set_sum\u001b[49m\u001b[43m(\u001b[49m\u001b[43mnumbers\u001b[49m\u001b[43m,\u001b[49m\u001b[43mk\u001b[49m\u001b[43m)\u001b[49m\n",
      "    \u001b[1;31m[... skipping similar frames: sub_set_sum at line 42 (2974 times)]\u001b[0m\n",
      "Cell \u001b[1;32mIn[5], line 42\u001b[0m, in \u001b[0;36msub_set_sum\u001b[1;34m(numbers, k)\u001b[0m\n\u001b[0;32m     40\u001b[0m numbers \u001b[38;5;241m=\u001b[39m temp\n\u001b[0;32m     41\u001b[0m numbers \u001b[38;5;241m=\u001b[39m numbers[\u001b[38;5;241m1\u001b[39m:]\u001b[38;5;241m+\u001b[39m[pivot]\n\u001b[1;32m---> 42\u001b[0m \u001b[38;5;28;01mreturn\u001b[39;00m \u001b[43msub_set_sum\u001b[49m\u001b[43m(\u001b[49m\u001b[43mnumbers\u001b[49m\u001b[43m,\u001b[49m\u001b[43mk\u001b[49m\u001b[43m)\u001b[49m\n",
      "\u001b[1;31mRecursionError\u001b[0m: maximum recursion depth exceeded"
     ]
    }
   ],
   "source": [
    "def sub_set_sum(numbers, k):\n",
    "    if len(numbers) == 0:\n",
    "        return False\n",
    "    if len(numbers)==1:\n",
    "        if numbers[0] == k:\n",
    "            return numbers[0]\n",
    "    if sum(numbers) == k:\n",
    "        for i in numbers[:-1]:\n",
    "            print(i,end=\"+\")\n",
    "        print(f\"{numbers[-1]} = {k}\")\n",
    "        return True\n",
    "    pivot = numbers[0]\n",
    "    for i in numbers[1:]:\n",
    "        if pivot + i == k:\n",
    "            print(f\"{pivot}+{i} = {k}\")\n",
    "            return True\n",
    "    temp = numbers\n",
    "    numbers = numbers[1:]\n",
    "    if (sum([pivot]+[numbers[0]])<k):\n",
    "        new_pivot = [pivot]+[numbers[0]]\n",
    "        new_numbers = numbers[1:]\n",
    "        for i in new_numbers:\n",
    "            suma = sum([pivot]+[numbers[0]])\n",
    "            suma += i\n",
    "            if suma == k:\n",
    "                print(f\"{new_pivot[0]}+{new_pivot[1]}+{i}={k}\")\n",
    "                return True\n",
    "            elif suma > k:\n",
    "                break\n",
    "\n",
    "    for i in numbers:\n",
    "        suma = [pivot]\n",
    "        suma += [i]\n",
    "        if sum(suma) == k:\n",
    "            for j in suma:\n",
    "                print(j,end=\"\")\n",
    "            return True\n",
    "        elif sum(suma) > k:\n",
    "            break\n",
    "    numbers = temp\n",
    "    numbers = numbers[1:]+[pivot]\n",
    "    return sub_set_sum(numbers,k)\n",
    "#Ejemplo:\n",
    "\n",
    "print(sub_set_sum([90,40,1,1,5,1,0], 97))\n",
    "        \n",
    "    "
   ]
  },
  {
   "attachments": {
    "image.png": {
     "image/png": "[encoded data removed]"
    }
   },
   "cell_type": "markdown",
   "id": "a09e6c01",
   "metadata": {},
   "source": [
    "### Sudoku doble\n",
    "\n",
    "7 recursicoin\n",
    "\n",
    "implemente una funcion que reciba 2 matrices que reprensentan un sudoku cada una, ambos sudokus estan relacionados de la forma que se muestra en la imagen, su funcion debe resolver y retornar ambos sudokus\n",
    "\n",
    "![image.png](attachment:image.png)\n",
    "\n",
    "```\n",
    "sudoku1 = [\n",
    "    [0, 0, 0, 0, 1, 8, 4, 0, 0],\n",
    "    [9, 4, 0, 0, 0, 2, 8, 0, 0],\n",
    "    [8, 0, 0, 4, 6, 0, 0, 1, 9],\n",
    "    [2, 9, 0, 0, 0, 0, 0, 0, 0],\n",
    "    [0, 0, 0, 0, 9, 0, 0, 0, 0],\n",
    "    [0, 0, 0, 0, 0, 0, 0, 4, 6],\n",
    "    [5, 6, 0, 0, 7, 9, 0, 0, 0],\n",
    "    [0, 0, 9, 8, 0, 0, 0, 5, 0],\n",
    "    [0, 0, 2, 3, 4, 0, 0, 0, 0],\n",
    "]\n",
    "\n",
    "\n",
    "sudoku2 = [\n",
    "    [0, 0, 0, 0, 1, 8, 9, 0, 0],\n",
    "    [0, 5, 0, 0, 0, 6, 2, 0, 0],\n",
    "    [0, 0, 0, 2, 3, 0, 0, 1, 7],\n",
    "    [5, 2, 0, 0, 0, 0, 0, 0, 0],\n",
    "    [0, 0, 0, 0, 9, 0, 0, 0, 0],\n",
    "    [0, 0, 0, 0, 0, 0, 0, 7, 3],\n",
    "    [9, 6, 0, 0, 5, 3, 0, 0, 1],\n",
    "    [0, 0, 5, 1, 0, 0, 0, 6, 2],\n",
    "    [0, 0, 3, 8, 6, 0, 0, 0, 0]\n",
    "]\n",
    "```"
   ]
  },
  {
   "cell_type": "markdown",
   "id": "bf6c73fd",
   "metadata": {},
   "source": [
    "def solve_double_sudoku(sudoku1, sudoku2):\n",
    "    pass"
   ]
  },
  {
   "cell_type": "markdown",
   "id": "519769a9",
   "metadata": {},
   "source": [
    "este se lo debo :/"
   ]
  }
 ],
 "metadata": {
  "kernelspec": {
   "display_name": "Python 3 (ipykernel)",
   "language": "python",
   "name": "python3"
  },
  "language_info": {
   "codemirror_mode": {
    "name": "ipython",
    "version": 3
   },
   "file_extension": ".py",
   "mimetype": "text/x-python",
   "name": "python",
   "nbconvert_exporter": "python",
   "pygments_lexer": "ipython3",
   "version": "3.12.1"
  }
 },
 "nbformat": 4,
 "nbformat_minor": 5
}
