{
 "cells": [
  {
   "cell_type": "markdown",
   "metadata": {},
   "source": [
    "## _Modulo Pandas_\n",
    "Referencias: https://aprendeconalf.es/docencia/python/ejercicios/pandas/"
   ]
  },
  {
   "cell_type": "code",
   "execution_count": null,
   "metadata": {},
   "outputs": [],
   "source": [
    "import numpy as np\n",
    "import pandas as pd"
   ]
  },
  {
   "cell_type": "markdown",
   "metadata": {},
   "source": [
    "### Ejercicio 1\n",
    "Escribir un programa que pregunte al usuario por las ventas de un rango de años y muestre por pantalla una serie con los datos de las ventas indexada por los años, antes y después de aplicarles un descuento del 10%."
   ]
  },
  {
   "cell_type": "markdown",
   "metadata": {},
   "source": [
    "### Ejercicio 2\n",
    "Escribir una función que reciba un diccionario con las notas de los alumno de un curso y devuelva una serie con la nota mínima, la máxima, media y la desviación típica."
   ]
  },
  {
   "cell_type": "markdown",
   "metadata": {},
   "source": [
    "### Ejercicio 3\n",
    "Escribir una función que reciba un diccionario con las notas de los alumnos de un curso y devuelva una serie con las notas de los alumnos aprobados ordenadas de mayor a menor."
   ]
  },
  {
   "cell_type": "markdown",
   "metadata": {},
   "source": [
    "### Ejercicio 4\n",
    "Escribir programa que genere y muestre por pantalla un DataFrame con los datos de la tabla siguiente:\n",
    "\n",
    "|Mes|Ventas|Gastos|\n",
    "|---|------|------|\n",
    "|Enero|\t30500|\t22000|\n",
    "|Febrero|\t35600|\t23400|\n",
    "|Marzo|\t28300|\t18100|\n",
    "|Abril|\t33900|\t20700|"
   ]
  },
  {
   "cell_type": "markdown",
   "metadata": {},
   "source": [
    "### Ejercicio 5\n",
    "Escribir una función que reciba un DataFrame con el formato del ejercicio anterior, una lista de meses, y devuelva el balance (ventas - gastos) total en los meses indicados."
   ]
  },
  {
   "cell_type": "markdown",
   "metadata": {},
   "source": [
    "### Ejercicio 6\n",
    "El fichero *cotizacion.csv* contiene las cotizaciones de las empresas del IBEX35 con las siguientes columnas: *nombre* (_nombre de la empresa_), *Final* (_precio de la acción al cierre de bolsa_), *Máximo* (_precio máximo de la acción durante la jornada_), *Mínimo* (_precio mínimo de la acción durante la jornada_), *Volumen* (_Volumen al cierre de bolsa_), *Efectivo* (_capitalización al cierre en miles de euros_). Construir una función que construya un DataFrame a partir del un fichero con el formato anterior y devuelva otro DataFrame con el mínimo, el máximo y la media de dada columna."
   ]
  },
  {
   "cell_type": "markdown",
   "metadata": {},
   "source": [
    "### Ejercicio 7\n",
    "El fichero titanic.csv contiene información sobre los pasajeros del Titanic. Escribir un programa con los siguientes requisitos:\n",
    "\n",
    "* Generar un DataFrame con los datos del fichero.\n",
    "* Mostrar por pantalla las dimensiones del DataFrame, el número de datos que contiene, los nombres de sus columnas y  filas, los tipos de datos de las columnas, las 10 primeras filas y las 10 últimas filas\n",
    "* Mostrar por pantalla los datos del pasajero con identificador 148.\n",
    "* Mostrar por pantalla las filas pares del DataFrame.\n",
    "* Mostrar por pantalla los nombres de las personas que iban en primera clase ordenadas alfabéticamente.\n",
    "* Mostrar por pantalla el porcentaje de personas que sobrevivieron y murieron.\n",
    "* Mostrar por pantalla el porcentaje de personas que sobrevivieron en cada clase.\n",
    "* Eliminar del DataFrame los pasajeros con edad desconocida.\n",
    "* Mostrar por pantalla la edad media de las mujeres que viajaban en cada clase.\n",
    "* Añadir una nueva columna booleana para ver si el pasajero era menor de edad o no.\n",
    "* Mostrar por pantalla el porcentaje de menores y mayores de edad que sobrevivieron en cada clase."
   ]
  },
  {
   "cell_type": "markdown",
   "metadata": {},
   "source": [
    "### Ejercicio 8\n",
    "Los ficheros emisiones-2016.csv, emisiones-2017.csv, emisiones-2018.csv y emisiones-2019.csv, contienen datos sobre las emisiones contaminates en la ciudad de Madrid en los años 2016, 2017, 2018 y 2019 respectivamente. Escribir un programa con los siguientes requisitos:\n",
    "\n",
    "* Generar un DataFrame con los datos de los cuatro ficheros.\n",
    "* Filtrar las columnas del DataFrame para quedarse con las columnas ESTACION, MAGNITUD, AÑO, MES y las correspondientes a los días D01, D02, etc.\n",
    "* Reestructurar el DataFrame para que los valores de los contaminantes de las columnas de los días aparezcan en una única columna.\n",
    "* Añadir una columna con la fecha a partir de la concatenación del año, el mes y el día (usar el módulo datetime).\n",
    "* Eliminar las filas con fechas no válidas (utilizar la función isnat del módulo numpy) y ordenar el DataFrame por estaciones contaminantes y fecha.\n",
    "* Mostrar por pantalla las estaciones y los contaminantes disponibles en el DataFrame.\n",
    "* Crear una función que reciba una estación, un contaminante y un rango de fechas y devuelva una serie con las emisiones del contaminante dado en la estación y rango de fechas dado.\n",
    "* Mostrar un resumen descriptivo (mínimo, máximo, media, etc.) para cada contaminante.\n",
    "* Mostrar un resumen descriptivo para cada contaminante por distritos.\n",
    "* Crear una función que reciba una estación y un contaminante y devuelva un resumen descriptivo de las emisiones del contaminante indicado en la estación indicada.\n",
    "* Crear una función que devuelva las emisiones medias mensuales de un contaminante y un año dados para todos las estaciones.\n",
    "* Crear un función que reciba una estación de medición y devuelva un DataFrame con las medias mensuales de los distintos tipos de contaminantes."
   ]
  },
  {
   "cell_type": "markdown",
   "metadata": {
    "vscode": {
     "languageId": "plaintext"
    }
   },
   "source": [
    "### Ejercicio 8:\n",
    "Escriba un programa NumPy para crear una matriz de 3x4 llena de valores del 10 al 21."
   ]
  },
  {
   "cell_type": "code",
   "execution_count": null,
   "metadata": {},
   "outputs": [],
   "source": []
  }
 ],
 "metadata": {
  "kernelspec": {
   "display_name": "Python 3",
   "language": "python",
   "name": "python3"
  },
  "language_info": {
   "codemirror_mode": {
    "name": "ipython",
    "version": 3
   },
   "file_extension": ".py",
   "mimetype": "text/x-python",
   "name": "python",
   "nbconvert_exporter": "python",
   "pygments_lexer": "ipython3",
   "version": "3.12.1"
  }
 },
 "nbformat": 4,
 "nbformat_minor": 2
}
